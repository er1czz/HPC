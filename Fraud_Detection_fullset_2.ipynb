{
 "cells": [
  {
   "cell_type": "markdown",
   "metadata": {},
   "source": [
    "# Data Challenge Project: Fraud Detection  \n",
    "\n",
    "<img src=\"https://github.com/er1czz/kaggle/blob/master/unsplash_transaction.JPG?raw=true\" align = \"left\" style = \"border:10px solid white\">  \n",
    "Credit card fraud is a common financial fraud that using a payment card to proceed a transaction with illegitimate nature. Researchers specialized in fraud dection often encouter such challenge: how to maximaize the transaction security with minimal hassles to clients. With the recent advance in machine learning and computation technology, this challenge can be addressed by implementing high accuracy predictive models based on machine learning.       \n",
    "\n",
    "<b>This project intends to develop a predicative model based on machine learning algorithms of binary classification.</b> The goal is to maximize the detection rate of fradulent activities while minimizing the number of false alarms (false positive events). Data are kindly provided by [Kaggle.com](https://www.kaggle.com/c/ieee-fraud-detection), which consist of two datasets: identity and transaction."
   ]
  },
  {
   "cell_type": "markdown",
   "metadata": {},
   "source": [
    "<b>The project consists of five sections as follows:\n",
    "1. Data exploration\n",
    "2. Data splitting\n",
    "3. Feature selection\n",
    "4. Models training and testing\n",
    "5. Summary</b>"
   ]
  },
  {
   "cell_type": "code",
   "execution_count": 1,
   "metadata": {
    "scrolled": true
   },
   "outputs": [
    {
     "name": "stdout",
     "output_type": "stream",
     "text": [
      "C:\\Users\\EzzZ\\Desktop\\Fraud2\n"
     ]
    }
   ],
   "source": [
    "cd ../../../../Desktop/Fraud2/"
   ]
  },
  {
   "cell_type": "code",
   "execution_count": 2,
   "metadata": {},
   "outputs": [],
   "source": [
    "import pandas as pd"
   ]
  },
  {
   "cell_type": "code",
   "execution_count": 3,
   "metadata": {},
   "outputs": [],
   "source": [
    "id = pd.read_csv('train_identity.csv')\n",
    "tn = pd.read_csv('train_transaction.csv')"
   ]
  },
  {
   "cell_type": "markdown",
   "metadata": {},
   "source": [
    "## 1. Data exploration"
   ]
  },
  {
   "cell_type": "code",
   "execution_count": 4,
   "metadata": {},
   "outputs": [
    {
     "name": "stdout",
     "output_type": "stream",
     "text": [
      "(144233, 41)\n",
      "(590540, 394)\n"
     ]
    }
   ],
   "source": [
    "print(id.shape)\n",
    "print(tn.shape)"
   ]
  },
  {
   "cell_type": "code",
   "execution_count": 5,
   "metadata": {
    "scrolled": true
   },
   "outputs": [
    {
     "data": {
      "text/html": [
       "<div>\n",
       "<style scoped>\n",
       "    .dataframe tbody tr th:only-of-type {\n",
       "        vertical-align: middle;\n",
       "    }\n",
       "\n",
       "    .dataframe tbody tr th {\n",
       "        vertical-align: top;\n",
       "    }\n",
       "\n",
       "    .dataframe thead th {\n",
       "        text-align: right;\n",
       "    }\n",
       "</style>\n",
       "<table border=\"1\" class=\"dataframe\">\n",
       "  <thead>\n",
       "    <tr style=\"text-align: right;\">\n",
       "      <th></th>\n",
       "      <th>TransactionID</th>\n",
       "      <th>id_01</th>\n",
       "      <th>id_02</th>\n",
       "      <th>id_03</th>\n",
       "      <th>id_04</th>\n",
       "      <th>id_05</th>\n",
       "      <th>id_06</th>\n",
       "      <th>id_07</th>\n",
       "      <th>id_08</th>\n",
       "      <th>id_09</th>\n",
       "      <th>...</th>\n",
       "      <th>id_31</th>\n",
       "      <th>id_32</th>\n",
       "      <th>id_33</th>\n",
       "      <th>id_34</th>\n",
       "      <th>id_35</th>\n",
       "      <th>id_36</th>\n",
       "      <th>id_37</th>\n",
       "      <th>id_38</th>\n",
       "      <th>DeviceType</th>\n",
       "      <th>DeviceInfo</th>\n",
       "    </tr>\n",
       "  </thead>\n",
       "  <tbody>\n",
       "    <tr>\n",
       "      <th>0</th>\n",
       "      <td>2987004</td>\n",
       "      <td>0.0</td>\n",
       "      <td>70787.0</td>\n",
       "      <td>NaN</td>\n",
       "      <td>NaN</td>\n",
       "      <td>NaN</td>\n",
       "      <td>NaN</td>\n",
       "      <td>NaN</td>\n",
       "      <td>NaN</td>\n",
       "      <td>NaN</td>\n",
       "      <td>...</td>\n",
       "      <td>samsung browser 6.2</td>\n",
       "      <td>32.0</td>\n",
       "      <td>2220x1080</td>\n",
       "      <td>match_status:2</td>\n",
       "      <td>T</td>\n",
       "      <td>F</td>\n",
       "      <td>T</td>\n",
       "      <td>T</td>\n",
       "      <td>mobile</td>\n",
       "      <td>SAMSUNG SM-G892A Build/NRD90M</td>\n",
       "    </tr>\n",
       "    <tr>\n",
       "      <th>1</th>\n",
       "      <td>2987008</td>\n",
       "      <td>-5.0</td>\n",
       "      <td>98945.0</td>\n",
       "      <td>NaN</td>\n",
       "      <td>NaN</td>\n",
       "      <td>0.0</td>\n",
       "      <td>-5.0</td>\n",
       "      <td>NaN</td>\n",
       "      <td>NaN</td>\n",
       "      <td>NaN</td>\n",
       "      <td>...</td>\n",
       "      <td>mobile safari 11.0</td>\n",
       "      <td>32.0</td>\n",
       "      <td>1334x750</td>\n",
       "      <td>match_status:1</td>\n",
       "      <td>T</td>\n",
       "      <td>F</td>\n",
       "      <td>F</td>\n",
       "      <td>T</td>\n",
       "      <td>mobile</td>\n",
       "      <td>iOS Device</td>\n",
       "    </tr>\n",
       "    <tr>\n",
       "      <th>2</th>\n",
       "      <td>2987010</td>\n",
       "      <td>-5.0</td>\n",
       "      <td>191631.0</td>\n",
       "      <td>0.0</td>\n",
       "      <td>0.0</td>\n",
       "      <td>0.0</td>\n",
       "      <td>0.0</td>\n",
       "      <td>NaN</td>\n",
       "      <td>NaN</td>\n",
       "      <td>0.0</td>\n",
       "      <td>...</td>\n",
       "      <td>chrome 62.0</td>\n",
       "      <td>NaN</td>\n",
       "      <td>NaN</td>\n",
       "      <td>NaN</td>\n",
       "      <td>F</td>\n",
       "      <td>F</td>\n",
       "      <td>T</td>\n",
       "      <td>T</td>\n",
       "      <td>desktop</td>\n",
       "      <td>Windows</td>\n",
       "    </tr>\n",
       "    <tr>\n",
       "      <th>3</th>\n",
       "      <td>2987011</td>\n",
       "      <td>-5.0</td>\n",
       "      <td>221832.0</td>\n",
       "      <td>NaN</td>\n",
       "      <td>NaN</td>\n",
       "      <td>0.0</td>\n",
       "      <td>-6.0</td>\n",
       "      <td>NaN</td>\n",
       "      <td>NaN</td>\n",
       "      <td>NaN</td>\n",
       "      <td>...</td>\n",
       "      <td>chrome 62.0</td>\n",
       "      <td>NaN</td>\n",
       "      <td>NaN</td>\n",
       "      <td>NaN</td>\n",
       "      <td>F</td>\n",
       "      <td>F</td>\n",
       "      <td>T</td>\n",
       "      <td>T</td>\n",
       "      <td>desktop</td>\n",
       "      <td>NaN</td>\n",
       "    </tr>\n",
       "    <tr>\n",
       "      <th>4</th>\n",
       "      <td>2987016</td>\n",
       "      <td>0.0</td>\n",
       "      <td>7460.0</td>\n",
       "      <td>0.0</td>\n",
       "      <td>0.0</td>\n",
       "      <td>1.0</td>\n",
       "      <td>0.0</td>\n",
       "      <td>NaN</td>\n",
       "      <td>NaN</td>\n",
       "      <td>0.0</td>\n",
       "      <td>...</td>\n",
       "      <td>chrome 62.0</td>\n",
       "      <td>24.0</td>\n",
       "      <td>1280x800</td>\n",
       "      <td>match_status:2</td>\n",
       "      <td>T</td>\n",
       "      <td>F</td>\n",
       "      <td>T</td>\n",
       "      <td>T</td>\n",
       "      <td>desktop</td>\n",
       "      <td>MacOS</td>\n",
       "    </tr>\n",
       "  </tbody>\n",
       "</table>\n",
       "<p>5 rows × 41 columns</p>\n",
       "</div>"
      ],
      "text/plain": [
       "   TransactionID  id_01     id_02  id_03  id_04  id_05  id_06  id_07  id_08  \\\n",
       "0        2987004    0.0   70787.0    NaN    NaN    NaN    NaN    NaN    NaN   \n",
       "1        2987008   -5.0   98945.0    NaN    NaN    0.0   -5.0    NaN    NaN   \n",
       "2        2987010   -5.0  191631.0    0.0    0.0    0.0    0.0    NaN    NaN   \n",
       "3        2987011   -5.0  221832.0    NaN    NaN    0.0   -6.0    NaN    NaN   \n",
       "4        2987016    0.0    7460.0    0.0    0.0    1.0    0.0    NaN    NaN   \n",
       "\n",
       "   id_09  ...                id_31  id_32      id_33           id_34  id_35  \\\n",
       "0    NaN  ...  samsung browser 6.2   32.0  2220x1080  match_status:2      T   \n",
       "1    NaN  ...   mobile safari 11.0   32.0   1334x750  match_status:1      T   \n",
       "2    0.0  ...          chrome 62.0    NaN        NaN             NaN      F   \n",
       "3    NaN  ...          chrome 62.0    NaN        NaN             NaN      F   \n",
       "4    0.0  ...          chrome 62.0   24.0   1280x800  match_status:2      T   \n",
       "\n",
       "  id_36 id_37  id_38  DeviceType                     DeviceInfo  \n",
       "0     F     T      T      mobile  SAMSUNG SM-G892A Build/NRD90M  \n",
       "1     F     F      T      mobile                     iOS Device  \n",
       "2     F     T      T     desktop                        Windows  \n",
       "3     F     T      T     desktop                            NaN  \n",
       "4     F     T      T     desktop                          MacOS  \n",
       "\n",
       "[5 rows x 41 columns]"
      ]
     },
     "execution_count": 5,
     "metadata": {},
     "output_type": "execute_result"
    }
   ],
   "source": [
    "id.head()"
   ]
  },
  {
   "cell_type": "code",
   "execution_count": 6,
   "metadata": {
    "scrolled": true
   },
   "outputs": [
    {
     "data": {
      "text/html": [
       "<div>\n",
       "<style scoped>\n",
       "    .dataframe tbody tr th:only-of-type {\n",
       "        vertical-align: middle;\n",
       "    }\n",
       "\n",
       "    .dataframe tbody tr th {\n",
       "        vertical-align: top;\n",
       "    }\n",
       "\n",
       "    .dataframe thead th {\n",
       "        text-align: right;\n",
       "    }\n",
       "</style>\n",
       "<table border=\"1\" class=\"dataframe\">\n",
       "  <thead>\n",
       "    <tr style=\"text-align: right;\">\n",
       "      <th></th>\n",
       "      <th>TransactionID</th>\n",
       "      <th>isFraud</th>\n",
       "      <th>TransactionDT</th>\n",
       "      <th>TransactionAmt</th>\n",
       "      <th>ProductCD</th>\n",
       "      <th>card1</th>\n",
       "      <th>card2</th>\n",
       "      <th>card3</th>\n",
       "      <th>card4</th>\n",
       "      <th>card5</th>\n",
       "      <th>...</th>\n",
       "      <th>V330</th>\n",
       "      <th>V331</th>\n",
       "      <th>V332</th>\n",
       "      <th>V333</th>\n",
       "      <th>V334</th>\n",
       "      <th>V335</th>\n",
       "      <th>V336</th>\n",
       "      <th>V337</th>\n",
       "      <th>V338</th>\n",
       "      <th>V339</th>\n",
       "    </tr>\n",
       "  </thead>\n",
       "  <tbody>\n",
       "    <tr>\n",
       "      <th>0</th>\n",
       "      <td>2987000</td>\n",
       "      <td>0</td>\n",
       "      <td>86400</td>\n",
       "      <td>68.5</td>\n",
       "      <td>W</td>\n",
       "      <td>13926</td>\n",
       "      <td>NaN</td>\n",
       "      <td>150.0</td>\n",
       "      <td>discover</td>\n",
       "      <td>142.0</td>\n",
       "      <td>...</td>\n",
       "      <td>NaN</td>\n",
       "      <td>NaN</td>\n",
       "      <td>NaN</td>\n",
       "      <td>NaN</td>\n",
       "      <td>NaN</td>\n",
       "      <td>NaN</td>\n",
       "      <td>NaN</td>\n",
       "      <td>NaN</td>\n",
       "      <td>NaN</td>\n",
       "      <td>NaN</td>\n",
       "    </tr>\n",
       "    <tr>\n",
       "      <th>1</th>\n",
       "      <td>2987001</td>\n",
       "      <td>0</td>\n",
       "      <td>86401</td>\n",
       "      <td>29.0</td>\n",
       "      <td>W</td>\n",
       "      <td>2755</td>\n",
       "      <td>404.0</td>\n",
       "      <td>150.0</td>\n",
       "      <td>mastercard</td>\n",
       "      <td>102.0</td>\n",
       "      <td>...</td>\n",
       "      <td>NaN</td>\n",
       "      <td>NaN</td>\n",
       "      <td>NaN</td>\n",
       "      <td>NaN</td>\n",
       "      <td>NaN</td>\n",
       "      <td>NaN</td>\n",
       "      <td>NaN</td>\n",
       "      <td>NaN</td>\n",
       "      <td>NaN</td>\n",
       "      <td>NaN</td>\n",
       "    </tr>\n",
       "    <tr>\n",
       "      <th>2</th>\n",
       "      <td>2987002</td>\n",
       "      <td>0</td>\n",
       "      <td>86469</td>\n",
       "      <td>59.0</td>\n",
       "      <td>W</td>\n",
       "      <td>4663</td>\n",
       "      <td>490.0</td>\n",
       "      <td>150.0</td>\n",
       "      <td>visa</td>\n",
       "      <td>166.0</td>\n",
       "      <td>...</td>\n",
       "      <td>NaN</td>\n",
       "      <td>NaN</td>\n",
       "      <td>NaN</td>\n",
       "      <td>NaN</td>\n",
       "      <td>NaN</td>\n",
       "      <td>NaN</td>\n",
       "      <td>NaN</td>\n",
       "      <td>NaN</td>\n",
       "      <td>NaN</td>\n",
       "      <td>NaN</td>\n",
       "    </tr>\n",
       "    <tr>\n",
       "      <th>3</th>\n",
       "      <td>2987003</td>\n",
       "      <td>0</td>\n",
       "      <td>86499</td>\n",
       "      <td>50.0</td>\n",
       "      <td>W</td>\n",
       "      <td>18132</td>\n",
       "      <td>567.0</td>\n",
       "      <td>150.0</td>\n",
       "      <td>mastercard</td>\n",
       "      <td>117.0</td>\n",
       "      <td>...</td>\n",
       "      <td>NaN</td>\n",
       "      <td>NaN</td>\n",
       "      <td>NaN</td>\n",
       "      <td>NaN</td>\n",
       "      <td>NaN</td>\n",
       "      <td>NaN</td>\n",
       "      <td>NaN</td>\n",
       "      <td>NaN</td>\n",
       "      <td>NaN</td>\n",
       "      <td>NaN</td>\n",
       "    </tr>\n",
       "    <tr>\n",
       "      <th>4</th>\n",
       "      <td>2987004</td>\n",
       "      <td>0</td>\n",
       "      <td>86506</td>\n",
       "      <td>50.0</td>\n",
       "      <td>H</td>\n",
       "      <td>4497</td>\n",
       "      <td>514.0</td>\n",
       "      <td>150.0</td>\n",
       "      <td>mastercard</td>\n",
       "      <td>102.0</td>\n",
       "      <td>...</td>\n",
       "      <td>0.0</td>\n",
       "      <td>0.0</td>\n",
       "      <td>0.0</td>\n",
       "      <td>0.0</td>\n",
       "      <td>0.0</td>\n",
       "      <td>0.0</td>\n",
       "      <td>0.0</td>\n",
       "      <td>0.0</td>\n",
       "      <td>0.0</td>\n",
       "      <td>0.0</td>\n",
       "    </tr>\n",
       "  </tbody>\n",
       "</table>\n",
       "<p>5 rows × 394 columns</p>\n",
       "</div>"
      ],
      "text/plain": [
       "   TransactionID  isFraud  TransactionDT  TransactionAmt ProductCD  card1  \\\n",
       "0        2987000        0          86400            68.5         W  13926   \n",
       "1        2987001        0          86401            29.0         W   2755   \n",
       "2        2987002        0          86469            59.0         W   4663   \n",
       "3        2987003        0          86499            50.0         W  18132   \n",
       "4        2987004        0          86506            50.0         H   4497   \n",
       "\n",
       "   card2  card3       card4  card5  ... V330  V331  V332  V333  V334 V335  \\\n",
       "0    NaN  150.0    discover  142.0  ...  NaN   NaN   NaN   NaN   NaN  NaN   \n",
       "1  404.0  150.0  mastercard  102.0  ...  NaN   NaN   NaN   NaN   NaN  NaN   \n",
       "2  490.0  150.0        visa  166.0  ...  NaN   NaN   NaN   NaN   NaN  NaN   \n",
       "3  567.0  150.0  mastercard  117.0  ...  NaN   NaN   NaN   NaN   NaN  NaN   \n",
       "4  514.0  150.0  mastercard  102.0  ...  0.0   0.0   0.0   0.0   0.0  0.0   \n",
       "\n",
       "  V336  V337  V338  V339  \n",
       "0  NaN   NaN   NaN   NaN  \n",
       "1  NaN   NaN   NaN   NaN  \n",
       "2  NaN   NaN   NaN   NaN  \n",
       "3  NaN   NaN   NaN   NaN  \n",
       "4  0.0   0.0   0.0   0.0  \n",
       "\n",
       "[5 rows x 394 columns]"
      ]
     },
     "execution_count": 6,
     "metadata": {},
     "output_type": "execute_result"
    }
   ],
   "source": [
    "tn.head()"
   ]
  },
  {
   "cell_type": "markdown",
   "metadata": {},
   "source": [
    "Feature \"TransactionDT\" is timedelta from a given reference datetime (not an actual timestamp)."
   ]
  },
  {
   "cell_type": "code",
   "execution_count": 7,
   "metadata": {},
   "outputs": [
    {
     "data": {
      "text/plain": [
       "139486"
      ]
     },
     "execution_count": 7,
     "metadata": {},
     "output_type": "execute_result"
    }
   ],
   "source": [
    "id.isnull().sum().max()"
   ]
  },
  {
   "cell_type": "code",
   "execution_count": 8,
   "metadata": {},
   "outputs": [
    {
     "data": {
      "text/plain": [
       "552913"
      ]
     },
     "execution_count": 8,
     "metadata": {},
     "output_type": "execute_result"
    }
   ],
   "source": [
    "tn.isnull().sum().max()"
   ]
  },
  {
   "cell_type": "code",
   "execution_count": 9,
   "metadata": {},
   "outputs": [],
   "source": [
    "import matplotlib.pyplot as plt\n",
    "import seaborn as sns\n",
    "import missingno as msno"
   ]
  },
  {
   "cell_type": "markdown",
   "metadata": {},
   "source": [
    "### 1.1. Remove unpaired transaction (mismatch between identity and transaction datasets)"
   ]
  },
  {
   "cell_type": "code",
   "execution_count": 10,
   "metadata": {},
   "outputs": [],
   "source": [
    "data = tn.merge(id, on= 'TransactionID', copy = False)"
   ]
  },
  {
   "cell_type": "code",
   "execution_count": 11,
   "metadata": {
    "scrolled": false
   },
   "outputs": [
    {
     "data": {
      "image/png": "[encoded data removed]",
      "text/plain": [
       "<Figure size 500x500 with 1 Axes>"
      ]
     },
     "metadata": {},
     "output_type": "display_data"
    }
   ],
   "source": [
    "plt.style.use('default')\n",
    "total=data.isnull().sum()\n",
    "percent=data.isnull().sum()/data.isnull().count()*100\n",
    "missing_data=pd.concat([total,percent],axis=1, keys=['total', 'percent'])\n",
    "\n",
    "plt.subplots(figsize=(5, 5))\n",
    "g = sns.barplot(y=missing_data.index,x=missing_data['percent'])\n",
    "g.set(yticklabels=[])\n",
    "\n",
    "plt.xlim(0, 100)\n",
    "plt.ylabel('Features', fontsize=15)\n",
    "plt.xlabel('Percent', fontsize=15)\n",
    "plt.title('Missing data by feature', fontsize=15)\n",
    "plt.show()"
   ]
  },
  {
   "cell_type": "code",
   "execution_count": 12,
   "metadata": {},
   "outputs": [
    {
     "name": "stdout",
     "output_type": "stream",
     "text": [
      "Missing data entry 16834880\n",
      "Total data entry   62597122\n",
      "Missing data:      26.89%\n",
      "\n",
      "Columns with missing values 412\n",
      "total columns               434\n",
      "Rows with missing values 144233\n",
      "total rows               144233\n"
     ]
    }
   ],
   "source": [
    "missing = data.isnull().sum().sum()\n",
    "total = data.size\n",
    "percent = missing/total*100\n",
    "print('Missing data entry %.f' % missing)\n",
    "print('Total data entry   %.f' % total)\n",
    "print('Missing data:      %.2f%%\\n' % percent)\n",
    "\n",
    "tmp1 = data.isnull().any(axis = 0).sum()\n",
    "print('Columns with missing values %.f' %tmp1)\n",
    "print('total columns               %.f' %len(data.columns))\n",
    "\n",
    "tmp2 = data.isnull().any(axis = 1).sum()\n",
    "print('Rows with missing values %.f' %tmp2)\n",
    "print('total rows               %.f' %len(data))"
   ]
  },
  {
   "cell_type": "markdown",
   "metadata": {},
   "source": [
    "# 2. Data splitting"
   ]
  },
  {
   "cell_type": "markdown",
   "metadata": {},
   "source": [
    "### Treating missing value is tricky for data pre-processing. \n",
    "- Each row has missing value. A few columns have more than 50% data of missing values. Total missing data in percentage is 26.9%.\n",
    "- Features with over 90% data of missing values will be discarded. For the rest, the missing values will be replaced with mean.\n",
    "- Considering the potential data leakage, the data jettison will be performed first, splitting data second, and replacing missing values last."
   ]
  },
  {
   "cell_type": "code",
   "execution_count": 13,
   "metadata": {},
   "outputs": [
    {
     "data": {
      "image/png": "[encoded data removed]",
      "text/plain": [
       "<Figure size 640x480 with 1 Axes>"
      ]
     },
     "metadata": {},
     "output_type": "display_data"
    }
   ],
   "source": [
    "import numpy as np\n",
    "sns.countplot(x='isFraud',data=data)\n",
    "plt.xticks( np.arange(2), ['normal', 'fraud'] )\n",
    "plt.title('data',fontsize= 18)\n",
    "plt.xlabel('Number',fontsize = 15)\n",
    "plt.ylabel('Transaction',fontsize = 15)\n",
    "labels = (data['isFraud'].value_counts())\n",
    "for i, v in enumerate(labels):\n",
    "    plt.text(i, v, str(v), ha = 'center', size = 14, color = 'r')\n",
    "plt.show()"
   ]
  },
  {
   "cell_type": "markdown",
   "metadata": {},
   "source": [
    "### 2.1. Remove columns with over 90% data missing "
   ]
  },
  {
   "cell_type": "code",
   "execution_count": 14,
   "metadata": {},
   "outputs": [],
   "source": [
    "data_1 = data.dropna(axis=1, thresh=len(data)*0.1)"
   ]
  },
  {
   "cell_type": "code",
   "execution_count": 15,
   "metadata": {
    "scrolled": false
   },
   "outputs": [
    {
     "data": {
      "image/png": "[encoded data removed]",
      "text/plain": [
       "<Figure size 500x500 with 1 Axes>"
      ]
     },
     "metadata": {},
     "output_type": "display_data"
    }
   ],
   "source": [
    "plt.style.use('default')\n",
    "total1=data_1.isnull().sum()\n",
    "percent1=data_1.isnull().sum()/data_1.isnull().count()*100\n",
    "missing_data1=pd.concat([total1,percent1],axis=1, keys=['total', 'percent'])\n",
    "\n",
    "plt.subplots(figsize=(5, 5))\n",
    "g = sns.barplot(y=missing_data1.index,x=missing_data1['percent'])\n",
    "g.set(yticklabels=[])\n",
    "\n",
    "plt.ylabel('Features', fontsize=15)\n",
    "plt.xlabel('Percent', fontsize=15)\n",
    "plt.xlim(0, 100)\n",
    "plt.title('Missing data by feature (after jettison)', fontsize=15)\n",
    "plt.show()"
   ]
  },
  {
   "cell_type": "code",
   "execution_count": 16,
   "metadata": {},
   "outputs": [
    {
     "name": "stdout",
     "output_type": "stream",
     "text": [
      "Data preserved: 93.09%\n",
      "\n"
     ]
    }
   ],
   "source": [
    "tmp = data_1.size/data.size*100\n",
    "print('Data preserved: %.2f%%\\n' % tmp)"
   ]
  },
  {
   "cell_type": "markdown",
   "metadata": {},
   "source": [
    "### 2.2. Splitting data: 80% for training and 20% for testing"
   ]
  },
  {
   "cell_type": "code",
   "execution_count": 17,
   "metadata": {},
   "outputs": [],
   "source": [
    "X = data_1.drop('isFraud', axis=1)\n",
    "y = data_1['isFraud'].copy()"
   ]
  },
  {
   "cell_type": "code",
   "execution_count": 18,
   "metadata": {},
   "outputs": [],
   "source": [
    "from sklearn.model_selection import train_test_split\n",
    "X_train, X_test, y_train, y_test = train_test_split(X, y, test_size = 0.2, random_state = 13)"
   ]
  },
  {
   "cell_type": "code",
   "execution_count": 19,
   "metadata": {
    "scrolled": true
   },
   "outputs": [
    {
     "name": "stdout",
     "output_type": "stream",
     "text": [
      "Testing data: 20.5%\n",
      "\n"
     ]
    }
   ],
   "source": [
    "tmp = y_test.sum(axis=0)/y.sum(axis=0)*100\n",
    "print('Testing data: %.1f%%\\n' % tmp)"
   ]
  },
  {
   "cell_type": "code",
   "execution_count": 20,
   "metadata": {
    "scrolled": true
   },
   "outputs": [
    {
     "data": {
      "text/plain": [
       "122872    0\n",
       "54800     0\n",
       "109241    1\n",
       "5569      0\n",
       "1874      0\n",
       "Name: isFraud, dtype: int64"
      ]
     },
     "execution_count": 20,
     "metadata": {},
     "output_type": "execute_result"
    }
   ],
   "source": [
    "y_train.head()"
   ]
  },
  {
   "cell_type": "markdown",
   "metadata": {},
   "source": [
    "##### Manually split the dataset for the convenience of data wrangling"
   ]
  },
  {
   "cell_type": "code",
   "execution_count": 21,
   "metadata": {},
   "outputs": [],
   "source": [
    "normal = data_1[data_1['isFraud'] == 0]\n",
    "fraud = data_1[data_1['isFraud'] == 1]\n",
    "# shuffle\n",
    "normal_r = normal.sample(frac=1)\n",
    "fraud_r = fraud.sample(frac=1)\n",
    "# 80% for training and 20% for testing.\n",
    "normal_1 = normal_r[:106332]\n",
    "normal_2 = normal_r[106333:]\n",
    "fraud_1 = fraud_r[:9054]\n",
    "fraud_2 = fraud_r[9055:]\n",
    "train = pd.concat([normal_1, fraud_1])\n",
    "test = pd.concat([normal_2, fraud_2])"
   ]
  },
  {
   "cell_type": "markdown",
   "metadata": {},
   "source": [
    "### Double check the data features"
   ]
  },
  {
   "cell_type": "code",
   "execution_count": 22,
   "metadata": {},
   "outputs": [
    {
     "name": "stdout",
     "output_type": "stream",
     "text": [
      "(115386, 404)\n",
      "(28845, 404)\n"
     ]
    }
   ],
   "source": [
    "print(train.shape)\n",
    "print(test.shape)"
   ]
  },
  {
   "cell_type": "code",
   "execution_count": 23,
   "metadata": {
    "scrolled": true
   },
   "outputs": [
    {
     "data": {
      "text/html": [
       "<div>\n",
       "<style scoped>\n",
       "    .dataframe tbody tr th:only-of-type {\n",
       "        vertical-align: middle;\n",
       "    }\n",
       "\n",
       "    .dataframe tbody tr th {\n",
       "        vertical-align: top;\n",
       "    }\n",
       "\n",
       "    .dataframe thead th {\n",
       "        text-align: right;\n",
       "    }\n",
       "</style>\n",
       "<table border=\"1\" class=\"dataframe\">\n",
       "  <thead>\n",
       "    <tr style=\"text-align: right;\">\n",
       "      <th></th>\n",
       "      <th>TransactionID</th>\n",
       "      <th>isFraud</th>\n",
       "      <th>TransactionDT</th>\n",
       "      <th>TransactionAmt</th>\n",
       "      <th>ProductCD</th>\n",
       "      <th>card1</th>\n",
       "      <th>card2</th>\n",
       "      <th>card3</th>\n",
       "      <th>card4</th>\n",
       "      <th>card5</th>\n",
       "      <th>...</th>\n",
       "      <th>id_31</th>\n",
       "      <th>id_32</th>\n",
       "      <th>id_33</th>\n",
       "      <th>id_34</th>\n",
       "      <th>id_35</th>\n",
       "      <th>id_36</th>\n",
       "      <th>id_37</th>\n",
       "      <th>id_38</th>\n",
       "      <th>DeviceType</th>\n",
       "      <th>DeviceInfo</th>\n",
       "    </tr>\n",
       "  </thead>\n",
       "  <tbody>\n",
       "    <tr>\n",
       "      <th>6300</th>\n",
       "      <td>3011327</td>\n",
       "      <td>0</td>\n",
       "      <td>612890</td>\n",
       "      <td>25.000</td>\n",
       "      <td>H</td>\n",
       "      <td>10625</td>\n",
       "      <td>583.0</td>\n",
       "      <td>150.0</td>\n",
       "      <td>mastercard</td>\n",
       "      <td>219.0</td>\n",
       "      <td>...</td>\n",
       "      <td>mobile safari 11.0</td>\n",
       "      <td>32.0</td>\n",
       "      <td>2208x1242</td>\n",
       "      <td>match_status:1</td>\n",
       "      <td>T</td>\n",
       "      <td>F</td>\n",
       "      <td>F</td>\n",
       "      <td>T</td>\n",
       "      <td>mobile</td>\n",
       "      <td>iOS Device</td>\n",
       "    </tr>\n",
       "    <tr>\n",
       "      <th>122380</th>\n",
       "      <td>3471063</td>\n",
       "      <td>0</td>\n",
       "      <td>12596865</td>\n",
       "      <td>50.000</td>\n",
       "      <td>H</td>\n",
       "      <td>17400</td>\n",
       "      <td>174.0</td>\n",
       "      <td>150.0</td>\n",
       "      <td>visa</td>\n",
       "      <td>226.0</td>\n",
       "      <td>...</td>\n",
       "      <td>mobile safari generic</td>\n",
       "      <td>32.0</td>\n",
       "      <td>1334x750</td>\n",
       "      <td>match_status:1</td>\n",
       "      <td>T</td>\n",
       "      <td>F</td>\n",
       "      <td>F</td>\n",
       "      <td>T</td>\n",
       "      <td>mobile</td>\n",
       "      <td>iOS Device</td>\n",
       "    </tr>\n",
       "    <tr>\n",
       "      <th>82026</th>\n",
       "      <td>3252764</td>\n",
       "      <td>0</td>\n",
       "      <td>6443699</td>\n",
       "      <td>26.464</td>\n",
       "      <td>C</td>\n",
       "      <td>7255</td>\n",
       "      <td>545.0</td>\n",
       "      <td>185.0</td>\n",
       "      <td>visa</td>\n",
       "      <td>195.0</td>\n",
       "      <td>...</td>\n",
       "      <td>chrome 64.0</td>\n",
       "      <td>NaN</td>\n",
       "      <td>NaN</td>\n",
       "      <td>NaN</td>\n",
       "      <td>F</td>\n",
       "      <td>F</td>\n",
       "      <td>T</td>\n",
       "      <td>F</td>\n",
       "      <td>desktop</td>\n",
       "      <td>Windows</td>\n",
       "    </tr>\n",
       "    <tr>\n",
       "      <th>126135</th>\n",
       "      <td>3493180</td>\n",
       "      <td>0</td>\n",
       "      <td>13267628</td>\n",
       "      <td>150.000</td>\n",
       "      <td>R</td>\n",
       "      <td>14426</td>\n",
       "      <td>111.0</td>\n",
       "      <td>150.0</td>\n",
       "      <td>mastercard</td>\n",
       "      <td>224.0</td>\n",
       "      <td>...</td>\n",
       "      <td>edge 15.0</td>\n",
       "      <td>24.0</td>\n",
       "      <td>1366x768</td>\n",
       "      <td>match_status:2</td>\n",
       "      <td>T</td>\n",
       "      <td>F</td>\n",
       "      <td>T</td>\n",
       "      <td>T</td>\n",
       "      <td>desktop</td>\n",
       "      <td>Windows</td>\n",
       "    </tr>\n",
       "    <tr>\n",
       "      <th>12426</th>\n",
       "      <td>3027413</td>\n",
       "      <td>0</td>\n",
       "      <td>1003211</td>\n",
       "      <td>25.000</td>\n",
       "      <td>H</td>\n",
       "      <td>6170</td>\n",
       "      <td>174.0</td>\n",
       "      <td>150.0</td>\n",
       "      <td>visa</td>\n",
       "      <td>226.0</td>\n",
       "      <td>...</td>\n",
       "      <td>chrome 62.0</td>\n",
       "      <td>24.0</td>\n",
       "      <td>1366x768</td>\n",
       "      <td>match_status:2</td>\n",
       "      <td>T</td>\n",
       "      <td>F</td>\n",
       "      <td>T</td>\n",
       "      <td>T</td>\n",
       "      <td>desktop</td>\n",
       "      <td>MacOS</td>\n",
       "    </tr>\n",
       "  </tbody>\n",
       "</table>\n",
       "<p>5 rows × 404 columns</p>\n",
       "</div>"
      ],
      "text/plain": [
       "        TransactionID  isFraud  TransactionDT  TransactionAmt ProductCD  \\\n",
       "6300          3011327        0         612890          25.000         H   \n",
       "122380        3471063        0       12596865          50.000         H   \n",
       "82026         3252764        0        6443699          26.464         C   \n",
       "126135        3493180        0       13267628         150.000         R   \n",
       "12426         3027413        0        1003211          25.000         H   \n",
       "\n",
       "        card1  card2  card3       card4  card5  ...                  id_31  \\\n",
       "6300    10625  583.0  150.0  mastercard  219.0  ...     mobile safari 11.0   \n",
       "122380  17400  174.0  150.0        visa  226.0  ...  mobile safari generic   \n",
       "82026    7255  545.0  185.0        visa  195.0  ...            chrome 64.0   \n",
       "126135  14426  111.0  150.0  mastercard  224.0  ...              edge 15.0   \n",
       "12426    6170  174.0  150.0        visa  226.0  ...            chrome 62.0   \n",
       "\n",
       "        id_32      id_33           id_34 id_35 id_36  id_37  id_38  \\\n",
       "6300     32.0  2208x1242  match_status:1     T     F      F      T   \n",
       "122380   32.0   1334x750  match_status:1     T     F      F      T   \n",
       "82026     NaN        NaN             NaN     F     F      T      F   \n",
       "126135   24.0   1366x768  match_status:2     T     F      T      T   \n",
       "12426    24.0   1366x768  match_status:2     T     F      T      T   \n",
       "\n",
       "        DeviceType  DeviceInfo  \n",
       "6300        mobile  iOS Device  \n",
       "122380      mobile  iOS Device  \n",
       "82026      desktop     Windows  \n",
       "126135     desktop     Windows  \n",
       "12426      desktop       MacOS  \n",
       "\n",
       "[5 rows x 404 columns]"
      ]
     },
     "execution_count": 23,
     "metadata": {},
     "output_type": "execute_result"
    }
   ],
   "source": [
    "train.head()"
   ]
  },
  {
   "cell_type": "code",
   "execution_count": 24,
   "metadata": {
    "scrolled": false
   },
   "outputs": [
    {
     "data": {
      "text/html": [
       "<div>\n",
       "<style scoped>\n",
       "    .dataframe tbody tr th:only-of-type {\n",
       "        vertical-align: middle;\n",
       "    }\n",
       "\n",
       "    .dataframe tbody tr th {\n",
       "        vertical-align: top;\n",
       "    }\n",
       "\n",
       "    .dataframe thead th {\n",
       "        text-align: right;\n",
       "    }\n",
       "</style>\n",
       "<table border=\"1\" class=\"dataframe\">\n",
       "  <thead>\n",
       "    <tr style=\"text-align: right;\">\n",
       "      <th></th>\n",
       "      <th>card4</th>\n",
       "      <th>id_31</th>\n",
       "      <th>DeviceType</th>\n",
       "      <th>DeviceInfo</th>\n",
       "    </tr>\n",
       "  </thead>\n",
       "  <tbody>\n",
       "    <tr>\n",
       "      <th>6300</th>\n",
       "      <td>mastercard</td>\n",
       "      <td>mobile safari 11.0</td>\n",
       "      <td>mobile</td>\n",
       "      <td>iOS Device</td>\n",
       "    </tr>\n",
       "    <tr>\n",
       "      <th>122380</th>\n",
       "      <td>visa</td>\n",
       "      <td>mobile safari generic</td>\n",
       "      <td>mobile</td>\n",
       "      <td>iOS Device</td>\n",
       "    </tr>\n",
       "    <tr>\n",
       "      <th>82026</th>\n",
       "      <td>visa</td>\n",
       "      <td>chrome 64.0</td>\n",
       "      <td>desktop</td>\n",
       "      <td>Windows</td>\n",
       "    </tr>\n",
       "    <tr>\n",
       "      <th>126135</th>\n",
       "      <td>mastercard</td>\n",
       "      <td>edge 15.0</td>\n",
       "      <td>desktop</td>\n",
       "      <td>Windows</td>\n",
       "    </tr>\n",
       "    <tr>\n",
       "      <th>12426</th>\n",
       "      <td>visa</td>\n",
       "      <td>chrome 62.0</td>\n",
       "      <td>desktop</td>\n",
       "      <td>MacOS</td>\n",
       "    </tr>\n",
       "    <tr>\n",
       "      <th>...</th>\n",
       "      <td>...</td>\n",
       "      <td>...</td>\n",
       "      <td>...</td>\n",
       "      <td>...</td>\n",
       "    </tr>\n",
       "    <tr>\n",
       "      <th>14016</th>\n",
       "      <td>mastercard</td>\n",
       "      <td>chrome 62.0 for android</td>\n",
       "      <td>mobile</td>\n",
       "      <td>WAS-LX3 Build/HUAWEIWAS-LX3</td>\n",
       "    </tr>\n",
       "    <tr>\n",
       "      <th>56184</th>\n",
       "      <td>mastercard</td>\n",
       "      <td>chrome 63.0</td>\n",
       "      <td>desktop</td>\n",
       "      <td>Windows</td>\n",
       "    </tr>\n",
       "    <tr>\n",
       "      <th>111144</th>\n",
       "      <td>visa</td>\n",
       "      <td>safari generic</td>\n",
       "      <td>desktop</td>\n",
       "      <td>MacOS</td>\n",
       "    </tr>\n",
       "    <tr>\n",
       "      <th>56273</th>\n",
       "      <td>mastercard</td>\n",
       "      <td>chrome 62.0</td>\n",
       "      <td>mobile</td>\n",
       "      <td>NaN</td>\n",
       "    </tr>\n",
       "    <tr>\n",
       "      <th>77071</th>\n",
       "      <td>visa</td>\n",
       "      <td>chrome 64.0 for android</td>\n",
       "      <td>mobile</td>\n",
       "      <td>hi6210sft Build/MRA58K</td>\n",
       "    </tr>\n",
       "  </tbody>\n",
       "</table>\n",
       "<p>115386 rows × 4 columns</p>\n",
       "</div>"
      ],
      "text/plain": [
       "             card4                    id_31 DeviceType  \\\n",
       "6300    mastercard       mobile safari 11.0     mobile   \n",
       "122380        visa    mobile safari generic     mobile   \n",
       "82026         visa              chrome 64.0    desktop   \n",
       "126135  mastercard                edge 15.0    desktop   \n",
       "12426         visa              chrome 62.0    desktop   \n",
       "...            ...                      ...        ...   \n",
       "14016   mastercard  chrome 62.0 for android     mobile   \n",
       "56184   mastercard              chrome 63.0    desktop   \n",
       "111144        visa           safari generic    desktop   \n",
       "56273   mastercard              chrome 62.0     mobile   \n",
       "77071         visa  chrome 64.0 for android     mobile   \n",
       "\n",
       "                         DeviceInfo  \n",
       "6300                     iOS Device  \n",
       "122380                   iOS Device  \n",
       "82026                       Windows  \n",
       "126135                      Windows  \n",
       "12426                         MacOS  \n",
       "...                             ...  \n",
       "14016   WAS-LX3 Build/HUAWEIWAS-LX3  \n",
       "56184                       Windows  \n",
       "111144                        MacOS  \n",
       "56273                           NaN  \n",
       "77071        hi6210sft Build/MRA58K  \n",
       "\n",
       "[115386 rows x 4 columns]"
      ]
     },
     "execution_count": 24,
     "metadata": {},
     "output_type": "execute_result"
    }
   ],
   "source": [
    "train[['card4','id_31','DeviceType','DeviceInfo']]"
   ]
  },
  {
   "cell_type": "markdown",
   "metadata": {},
   "source": [
    "### 2.3. Replacing missing value with mean"
   ]
  },
  {
   "cell_type": "code",
   "execution_count": 25,
   "metadata": {},
   "outputs": [],
   "source": [
    "train_m = train.fillna(train.mean())"
   ]
  },
  {
   "cell_type": "code",
   "execution_count": 26,
   "metadata": {
    "scrolled": false
   },
   "outputs": [
    {
     "data": {
      "text/html": [
       "<div>\n",
       "<style scoped>\n",
       "    .dataframe tbody tr th:only-of-type {\n",
       "        vertical-align: middle;\n",
       "    }\n",
       "\n",
       "    .dataframe tbody tr th {\n",
       "        vertical-align: top;\n",
       "    }\n",
       "\n",
       "    .dataframe thead th {\n",
       "        text-align: right;\n",
       "    }\n",
       "</style>\n",
       "<table border=\"1\" class=\"dataframe\">\n",
       "  <thead>\n",
       "    <tr style=\"text-align: right;\">\n",
       "      <th></th>\n",
       "      <th>TransactionID</th>\n",
       "      <th>isFraud</th>\n",
       "      <th>TransactionDT</th>\n",
       "      <th>TransactionAmt</th>\n",
       "      <th>ProductCD</th>\n",
       "      <th>card1</th>\n",
       "      <th>card2</th>\n",
       "      <th>card3</th>\n",
       "      <th>card4</th>\n",
       "      <th>card5</th>\n",
       "      <th>...</th>\n",
       "      <th>id_31</th>\n",
       "      <th>id_32</th>\n",
       "      <th>id_33</th>\n",
       "      <th>id_34</th>\n",
       "      <th>id_35</th>\n",
       "      <th>id_36</th>\n",
       "      <th>id_37</th>\n",
       "      <th>id_38</th>\n",
       "      <th>DeviceType</th>\n",
       "      <th>DeviceInfo</th>\n",
       "    </tr>\n",
       "  </thead>\n",
       "  <tbody>\n",
       "    <tr>\n",
       "      <th>6300</th>\n",
       "      <td>3011327</td>\n",
       "      <td>0</td>\n",
       "      <td>612890</td>\n",
       "      <td>25.000</td>\n",
       "      <td>H</td>\n",
       "      <td>10625</td>\n",
       "      <td>583.0</td>\n",
       "      <td>150.0</td>\n",
       "      <td>mastercard</td>\n",
       "      <td>219.0</td>\n",
       "      <td>...</td>\n",
       "      <td>mobile safari 11.0</td>\n",
       "      <td>32.000000</td>\n",
       "      <td>2208x1242</td>\n",
       "      <td>match_status:1</td>\n",
       "      <td>T</td>\n",
       "      <td>F</td>\n",
       "      <td>F</td>\n",
       "      <td>T</td>\n",
       "      <td>mobile</td>\n",
       "      <td>iOS Device</td>\n",
       "    </tr>\n",
       "    <tr>\n",
       "      <th>122380</th>\n",
       "      <td>3471063</td>\n",
       "      <td>0</td>\n",
       "      <td>12596865</td>\n",
       "      <td>50.000</td>\n",
       "      <td>H</td>\n",
       "      <td>17400</td>\n",
       "      <td>174.0</td>\n",
       "      <td>150.0</td>\n",
       "      <td>visa</td>\n",
       "      <td>226.0</td>\n",
       "      <td>...</td>\n",
       "      <td>mobile safari generic</td>\n",
       "      <td>32.000000</td>\n",
       "      <td>1334x750</td>\n",
       "      <td>match_status:1</td>\n",
       "      <td>T</td>\n",
       "      <td>F</td>\n",
       "      <td>F</td>\n",
       "      <td>T</td>\n",
       "      <td>mobile</td>\n",
       "      <td>iOS Device</td>\n",
       "    </tr>\n",
       "    <tr>\n",
       "      <th>82026</th>\n",
       "      <td>3252764</td>\n",
       "      <td>0</td>\n",
       "      <td>6443699</td>\n",
       "      <td>26.464</td>\n",
       "      <td>C</td>\n",
       "      <td>7255</td>\n",
       "      <td>545.0</td>\n",
       "      <td>185.0</td>\n",
       "      <td>visa</td>\n",
       "      <td>195.0</td>\n",
       "      <td>...</td>\n",
       "      <td>chrome 64.0</td>\n",
       "      <td>26.504259</td>\n",
       "      <td>NaN</td>\n",
       "      <td>NaN</td>\n",
       "      <td>F</td>\n",
       "      <td>F</td>\n",
       "      <td>T</td>\n",
       "      <td>F</td>\n",
       "      <td>desktop</td>\n",
       "      <td>Windows</td>\n",
       "    </tr>\n",
       "    <tr>\n",
       "      <th>126135</th>\n",
       "      <td>3493180</td>\n",
       "      <td>0</td>\n",
       "      <td>13267628</td>\n",
       "      <td>150.000</td>\n",
       "      <td>R</td>\n",
       "      <td>14426</td>\n",
       "      <td>111.0</td>\n",
       "      <td>150.0</td>\n",
       "      <td>mastercard</td>\n",
       "      <td>224.0</td>\n",
       "      <td>...</td>\n",
       "      <td>edge 15.0</td>\n",
       "      <td>24.000000</td>\n",
       "      <td>1366x768</td>\n",
       "      <td>match_status:2</td>\n",
       "      <td>T</td>\n",
       "      <td>F</td>\n",
       "      <td>T</td>\n",
       "      <td>T</td>\n",
       "      <td>desktop</td>\n",
       "      <td>Windows</td>\n",
       "    </tr>\n",
       "    <tr>\n",
       "      <th>12426</th>\n",
       "      <td>3027413</td>\n",
       "      <td>0</td>\n",
       "      <td>1003211</td>\n",
       "      <td>25.000</td>\n",
       "      <td>H</td>\n",
       "      <td>6170</td>\n",
       "      <td>174.0</td>\n",
       "      <td>150.0</td>\n",
       "      <td>visa</td>\n",
       "      <td>226.0</td>\n",
       "      <td>...</td>\n",
       "      <td>chrome 62.0</td>\n",
       "      <td>24.000000</td>\n",
       "      <td>1366x768</td>\n",
       "      <td>match_status:2</td>\n",
       "      <td>T</td>\n",
       "      <td>F</td>\n",
       "      <td>T</td>\n",
       "      <td>T</td>\n",
       "      <td>desktop</td>\n",
       "      <td>MacOS</td>\n",
       "    </tr>\n",
       "  </tbody>\n",
       "</table>\n",
       "<p>5 rows × 404 columns</p>\n",
       "</div>"
      ],
      "text/plain": [
       "        TransactionID  isFraud  TransactionDT  TransactionAmt ProductCD  \\\n",
       "6300          3011327        0         612890          25.000         H   \n",
       "122380        3471063        0       12596865          50.000         H   \n",
       "82026         3252764        0        6443699          26.464         C   \n",
       "126135        3493180        0       13267628         150.000         R   \n",
       "12426         3027413        0        1003211          25.000         H   \n",
       "\n",
       "        card1  card2  card3       card4  card5  ...                  id_31  \\\n",
       "6300    10625  583.0  150.0  mastercard  219.0  ...     mobile safari 11.0   \n",
       "122380  17400  174.0  150.0        visa  226.0  ...  mobile safari generic   \n",
       "82026    7255  545.0  185.0        visa  195.0  ...            chrome 64.0   \n",
       "126135  14426  111.0  150.0  mastercard  224.0  ...              edge 15.0   \n",
       "12426    6170  174.0  150.0        visa  226.0  ...            chrome 62.0   \n",
       "\n",
       "            id_32      id_33           id_34 id_35 id_36  id_37  id_38  \\\n",
       "6300    32.000000  2208x1242  match_status:1     T     F      F      T   \n",
       "122380  32.000000   1334x750  match_status:1     T     F      F      T   \n",
       "82026   26.504259        NaN             NaN     F     F      T      F   \n",
       "126135  24.000000   1366x768  match_status:2     T     F      T      T   \n",
       "12426   24.000000   1366x768  match_status:2     T     F      T      T   \n",
       "\n",
       "        DeviceType  DeviceInfo  \n",
       "6300        mobile  iOS Device  \n",
       "122380      mobile  iOS Device  \n",
       "82026      desktop     Windows  \n",
       "126135     desktop     Windows  \n",
       "12426      desktop       MacOS  \n",
       "\n",
       "[5 rows x 404 columns]"
      ]
     },
     "execution_count": 26,
     "metadata": {},
     "output_type": "execute_result"
    }
   ],
   "source": [
    "train_m.head()"
   ]
  },
  {
   "cell_type": "code",
   "execution_count": 27,
   "metadata": {},
   "outputs": [],
   "source": [
    "test_m = test.fillna(test.mean())"
   ]
  },
  {
   "cell_type": "markdown",
   "metadata": {},
   "source": [
    "## 3. Feature Selection"
   ]
  },
  {
   "cell_type": "markdown",
   "metadata": {},
   "source": [
    "### 3.1. Use encoder: non-numerical value --- > numberical value"
   ]
  },
  {
   "cell_type": "code",
   "execution_count": 28,
   "metadata": {},
   "outputs": [],
   "source": [
    "from sklearn import preprocessing\n",
    "import warnings\n",
    "warnings.filterwarnings('ignore')"
   ]
  },
  {
   "cell_type": "code",
   "execution_count": 29,
   "metadata": {},
   "outputs": [],
   "source": [
    "for f in train_m.columns:\n",
    "    if train_m[f].dtype=='object': \n",
    "        le = preprocessing.LabelEncoder()\n",
    "        le.fit(list(train_m[f].values))\n",
    "        train_m[f] = le.transform(list(train_m[f].values))"
   ]
  },
  {
   "cell_type": "code",
   "execution_count": 30,
   "metadata": {},
   "outputs": [
    {
     "data": {
      "text/html": [
       "<div>\n",
       "<style scoped>\n",
       "    .dataframe tbody tr th:only-of-type {\n",
       "        vertical-align: middle;\n",
       "    }\n",
       "\n",
       "    .dataframe tbody tr th {\n",
       "        vertical-align: top;\n",
       "    }\n",
       "\n",
       "    .dataframe thead th {\n",
       "        text-align: right;\n",
       "    }\n",
       "</style>\n",
       "<table border=\"1\" class=\"dataframe\">\n",
       "  <thead>\n",
       "    <tr style=\"text-align: right;\">\n",
       "      <th></th>\n",
       "      <th>card4</th>\n",
       "      <th>id_31</th>\n",
       "      <th>DeviceType</th>\n",
       "      <th>DeviceInfo</th>\n",
       "    </tr>\n",
       "  </thead>\n",
       "  <tbody>\n",
       "    <tr>\n",
       "      <th>6300</th>\n",
       "      <td>2</td>\n",
       "      <td>93</td>\n",
       "      <td>1</td>\n",
       "      <td>1642</td>\n",
       "    </tr>\n",
       "    <tr>\n",
       "      <th>122380</th>\n",
       "      <td>4</td>\n",
       "      <td>96</td>\n",
       "      <td>1</td>\n",
       "      <td>1642</td>\n",
       "    </tr>\n",
       "    <tr>\n",
       "      <th>82026</th>\n",
       "      <td>4</td>\n",
       "      <td>49</td>\n",
       "      <td>0</td>\n",
       "      <td>1517</td>\n",
       "    </tr>\n",
       "    <tr>\n",
       "      <th>126135</th>\n",
       "      <td>2</td>\n",
       "      <td>68</td>\n",
       "      <td>0</td>\n",
       "      <td>1517</td>\n",
       "    </tr>\n",
       "    <tr>\n",
       "      <th>12426</th>\n",
       "      <td>4</td>\n",
       "      <td>43</td>\n",
       "      <td>0</td>\n",
       "      <td>675</td>\n",
       "    </tr>\n",
       "    <tr>\n",
       "      <th>...</th>\n",
       "      <td>...</td>\n",
       "      <td>...</td>\n",
       "      <td>...</td>\n",
       "      <td>...</td>\n",
       "    </tr>\n",
       "    <tr>\n",
       "      <th>14016</th>\n",
       "      <td>2</td>\n",
       "      <td>44</td>\n",
       "      <td>1</td>\n",
       "      <td>1512</td>\n",
       "    </tr>\n",
       "    <tr>\n",
       "      <th>56184</th>\n",
       "      <td>2</td>\n",
       "      <td>46</td>\n",
       "      <td>0</td>\n",
       "      <td>1517</td>\n",
       "    </tr>\n",
       "    <tr>\n",
       "      <th>111144</th>\n",
       "      <td>4</td>\n",
       "      <td>112</td>\n",
       "      <td>0</td>\n",
       "      <td>675</td>\n",
       "    </tr>\n",
       "    <tr>\n",
       "      <th>56273</th>\n",
       "      <td>2</td>\n",
       "      <td>43</td>\n",
       "      <td>1</td>\n",
       "      <td>1656</td>\n",
       "    </tr>\n",
       "    <tr>\n",
       "      <th>77071</th>\n",
       "      <td>4</td>\n",
       "      <td>50</td>\n",
       "      <td>1</td>\n",
       "      <td>1640</td>\n",
       "    </tr>\n",
       "  </tbody>\n",
       "</table>\n",
       "<p>115386 rows × 4 columns</p>\n",
       "</div>"
      ],
      "text/plain": [
       "        card4  id_31  DeviceType  DeviceInfo\n",
       "6300        2     93           1        1642\n",
       "122380      4     96           1        1642\n",
       "82026       4     49           0        1517\n",
       "126135      2     68           0        1517\n",
       "12426       4     43           0         675\n",
       "...       ...    ...         ...         ...\n",
       "14016       2     44           1        1512\n",
       "56184       2     46           0        1517\n",
       "111144      4    112           0         675\n",
       "56273       2     43           1        1656\n",
       "77071       4     50           1        1640\n",
       "\n",
       "[115386 rows x 4 columns]"
      ]
     },
     "execution_count": 30,
     "metadata": {},
     "output_type": "execute_result"
    }
   ],
   "source": [
    "train_m[['card4','id_31','DeviceType','DeviceInfo']]"
   ]
  },
  {
   "cell_type": "code",
   "execution_count": 31,
   "metadata": {},
   "outputs": [
    {
     "data": {
      "text/html": [
       "<div>\n",
       "<style scoped>\n",
       "    .dataframe tbody tr th:only-of-type {\n",
       "        vertical-align: middle;\n",
       "    }\n",
       "\n",
       "    .dataframe tbody tr th {\n",
       "        vertical-align: top;\n",
       "    }\n",
       "\n",
       "    .dataframe thead th {\n",
       "        text-align: right;\n",
       "    }\n",
       "</style>\n",
       "<table border=\"1\" class=\"dataframe\">\n",
       "  <thead>\n",
       "    <tr style=\"text-align: right;\">\n",
       "      <th></th>\n",
       "      <th>card4</th>\n",
       "      <th>id_31</th>\n",
       "      <th>DeviceType</th>\n",
       "      <th>DeviceInfo</th>\n",
       "    </tr>\n",
       "  </thead>\n",
       "  <tbody>\n",
       "    <tr>\n",
       "      <th>17335</th>\n",
       "      <td>visa</td>\n",
       "      <td>chrome 63.0</td>\n",
       "      <td>desktop</td>\n",
       "      <td>Windows</td>\n",
       "    </tr>\n",
       "    <tr>\n",
       "      <th>45962</th>\n",
       "      <td>visa</td>\n",
       "      <td>firefox 57.0</td>\n",
       "      <td>desktop</td>\n",
       "      <td>Windows</td>\n",
       "    </tr>\n",
       "    <tr>\n",
       "      <th>113391</th>\n",
       "      <td>mastercard</td>\n",
       "      <td>chrome 65.0 for android</td>\n",
       "      <td>mobile</td>\n",
       "      <td>HTCD100LVWPP</td>\n",
       "    </tr>\n",
       "    <tr>\n",
       "      <th>35793</th>\n",
       "      <td>visa</td>\n",
       "      <td>firefox 57.0</td>\n",
       "      <td>desktop</td>\n",
       "      <td>rv:57.0</td>\n",
       "    </tr>\n",
       "    <tr>\n",
       "      <th>107101</th>\n",
       "      <td>mastercard</td>\n",
       "      <td>safari generic</td>\n",
       "      <td>desktop</td>\n",
       "      <td>NaN</td>\n",
       "    </tr>\n",
       "    <tr>\n",
       "      <th>...</th>\n",
       "      <td>...</td>\n",
       "      <td>...</td>\n",
       "      <td>...</td>\n",
       "      <td>...</td>\n",
       "    </tr>\n",
       "    <tr>\n",
       "      <th>126356</th>\n",
       "      <td>visa</td>\n",
       "      <td>chrome generic</td>\n",
       "      <td>desktop</td>\n",
       "      <td>Windows</td>\n",
       "    </tr>\n",
       "    <tr>\n",
       "      <th>22454</th>\n",
       "      <td>mastercard</td>\n",
       "      <td>mobile safari generic</td>\n",
       "      <td>mobile</td>\n",
       "      <td>NaN</td>\n",
       "    </tr>\n",
       "    <tr>\n",
       "      <th>89419</th>\n",
       "      <td>discover</td>\n",
       "      <td>mobile safari generic</td>\n",
       "      <td>mobile</td>\n",
       "      <td>iOS Device</td>\n",
       "    </tr>\n",
       "    <tr>\n",
       "      <th>82825</th>\n",
       "      <td>mastercard</td>\n",
       "      <td>mobile safari generic</td>\n",
       "      <td>mobile</td>\n",
       "      <td>iOS Device</td>\n",
       "    </tr>\n",
       "    <tr>\n",
       "      <th>115281</th>\n",
       "      <td>mastercard</td>\n",
       "      <td>chrome 65.0 for android</td>\n",
       "      <td>mobile</td>\n",
       "      <td>Lenovo YT3-850M Build/MMB29M</td>\n",
       "    </tr>\n",
       "  </tbody>\n",
       "</table>\n",
       "<p>28845 rows × 4 columns</p>\n",
       "</div>"
      ],
      "text/plain": [
       "             card4                    id_31 DeviceType  \\\n",
       "17335         visa              chrome 63.0    desktop   \n",
       "45962         visa             firefox 57.0    desktop   \n",
       "113391  mastercard  chrome 65.0 for android     mobile   \n",
       "35793         visa             firefox 57.0    desktop   \n",
       "107101  mastercard           safari generic    desktop   \n",
       "...            ...                      ...        ...   \n",
       "126356        visa           chrome generic    desktop   \n",
       "22454   mastercard    mobile safari generic     mobile   \n",
       "89419     discover    mobile safari generic     mobile   \n",
       "82825   mastercard    mobile safari generic     mobile   \n",
       "115281  mastercard  chrome 65.0 for android     mobile   \n",
       "\n",
       "                          DeviceInfo  \n",
       "17335                        Windows  \n",
       "45962                        Windows  \n",
       "113391                  HTCD100LVWPP  \n",
       "35793                        rv:57.0  \n",
       "107101                           NaN  \n",
       "...                              ...  \n",
       "126356                       Windows  \n",
       "22454                            NaN  \n",
       "89419                     iOS Device  \n",
       "82825                     iOS Device  \n",
       "115281  Lenovo YT3-850M Build/MMB29M  \n",
       "\n",
       "[28845 rows x 4 columns]"
      ]
     },
     "execution_count": 31,
     "metadata": {},
     "output_type": "execute_result"
    }
   ],
   "source": [
    "test[['card4','id_31','DeviceType','DeviceInfo']]"
   ]
  },
  {
   "cell_type": "code",
   "execution_count": 32,
   "metadata": {},
   "outputs": [],
   "source": [
    "for f in test_m.columns:\n",
    "    if test_m[f].dtype=='object': \n",
    "        le = preprocessing.LabelEncoder()\n",
    "        le.fit(list(test_m[f].values))\n",
    "        test_m[f] = le.transform(list(test_m[f].values))"
   ]
  },
  {
   "cell_type": "code",
   "execution_count": 33,
   "metadata": {},
   "outputs": [
    {
     "data": {
      "text/html": [
       "<div>\n",
       "<style scoped>\n",
       "    .dataframe tbody tr th:only-of-type {\n",
       "        vertical-align: middle;\n",
       "    }\n",
       "\n",
       "    .dataframe tbody tr th {\n",
       "        vertical-align: top;\n",
       "    }\n",
       "\n",
       "    .dataframe thead th {\n",
       "        text-align: right;\n",
       "    }\n",
       "</style>\n",
       "<table border=\"1\" class=\"dataframe\">\n",
       "  <thead>\n",
       "    <tr style=\"text-align: right;\">\n",
       "      <th></th>\n",
       "      <th>card4</th>\n",
       "      <th>id_31</th>\n",
       "      <th>DeviceType</th>\n",
       "      <th>DeviceInfo</th>\n",
       "    </tr>\n",
       "  </thead>\n",
       "  <tbody>\n",
       "    <tr>\n",
       "      <th>17335</th>\n",
       "      <td>4</td>\n",
       "      <td>39</td>\n",
       "      <td>0</td>\n",
       "      <td>952</td>\n",
       "    </tr>\n",
       "    <tr>\n",
       "      <th>45962</th>\n",
       "      <td>4</td>\n",
       "      <td>69</td>\n",
       "      <td>0</td>\n",
       "      <td>952</td>\n",
       "    </tr>\n",
       "    <tr>\n",
       "      <th>113391</th>\n",
       "      <td>2</td>\n",
       "      <td>46</td>\n",
       "      <td>1</td>\n",
       "      <td>211</td>\n",
       "    </tr>\n",
       "    <tr>\n",
       "      <th>35793</th>\n",
       "      <td>4</td>\n",
       "      <td>69</td>\n",
       "      <td>0</td>\n",
       "      <td>1062</td>\n",
       "    </tr>\n",
       "    <tr>\n",
       "      <th>107101</th>\n",
       "      <td>2</td>\n",
       "      <td>106</td>\n",
       "      <td>0</td>\n",
       "      <td>1039</td>\n",
       "    </tr>\n",
       "    <tr>\n",
       "      <th>...</th>\n",
       "      <td>...</td>\n",
       "      <td>...</td>\n",
       "      <td>...</td>\n",
       "      <td>...</td>\n",
       "    </tr>\n",
       "    <tr>\n",
       "      <th>126356</th>\n",
       "      <td>4</td>\n",
       "      <td>53</td>\n",
       "      <td>0</td>\n",
       "      <td>952</td>\n",
       "    </tr>\n",
       "    <tr>\n",
       "      <th>22454</th>\n",
       "      <td>2</td>\n",
       "      <td>90</td>\n",
       "      <td>1</td>\n",
       "      <td>1039</td>\n",
       "    </tr>\n",
       "    <tr>\n",
       "      <th>89419</th>\n",
       "      <td>1</td>\n",
       "      <td>90</td>\n",
       "      <td>1</td>\n",
       "      <td>1027</td>\n",
       "    </tr>\n",
       "    <tr>\n",
       "      <th>82825</th>\n",
       "      <td>2</td>\n",
       "      <td>90</td>\n",
       "      <td>1</td>\n",
       "      <td>1027</td>\n",
       "    </tr>\n",
       "    <tr>\n",
       "      <th>115281</th>\n",
       "      <td>2</td>\n",
       "      <td>46</td>\n",
       "      <td>1</td>\n",
       "      <td>397</td>\n",
       "    </tr>\n",
       "  </tbody>\n",
       "</table>\n",
       "<p>28845 rows × 4 columns</p>\n",
       "</div>"
      ],
      "text/plain": [
       "        card4  id_31  DeviceType  DeviceInfo\n",
       "17335       4     39           0         952\n",
       "45962       4     69           0         952\n",
       "113391      2     46           1         211\n",
       "35793       4     69           0        1062\n",
       "107101      2    106           0        1039\n",
       "...       ...    ...         ...         ...\n",
       "126356      4     53           0         952\n",
       "22454       2     90           1        1039\n",
       "89419       1     90           1        1027\n",
       "82825       2     90           1        1027\n",
       "115281      2     46           1         397\n",
       "\n",
       "[28845 rows x 4 columns]"
      ]
     },
     "execution_count": 33,
     "metadata": {},
     "output_type": "execute_result"
    }
   ],
   "source": [
    "test_m[['card4','id_31','DeviceType','DeviceInfo']]"
   ]
  },
  {
   "cell_type": "markdown",
   "metadata": {},
   "source": [
    "### 3.2. Correlation"
   ]
  },
  {
   "cell_type": "code",
   "execution_count": 34,
   "metadata": {},
   "outputs": [
    {
     "data": {
      "text/html": [
       "<div>\n",
       "<style scoped>\n",
       "    .dataframe tbody tr th:only-of-type {\n",
       "        vertical-align: middle;\n",
       "    }\n",
       "\n",
       "    .dataframe tbody tr th {\n",
       "        vertical-align: top;\n",
       "    }\n",
       "\n",
       "    .dataframe thead th {\n",
       "        text-align: right;\n",
       "    }\n",
       "</style>\n",
       "<table border=\"1\" class=\"dataframe\">\n",
       "  <thead>\n",
       "    <tr style=\"text-align: right;\">\n",
       "      <th></th>\n",
       "      <th>TransactionID</th>\n",
       "      <th>isFraud</th>\n",
       "      <th>TransactionDT</th>\n",
       "      <th>TransactionAmt</th>\n",
       "      <th>ProductCD</th>\n",
       "      <th>card1</th>\n",
       "      <th>card2</th>\n",
       "      <th>card3</th>\n",
       "      <th>card4</th>\n",
       "      <th>card5</th>\n",
       "      <th>...</th>\n",
       "      <th>id_31</th>\n",
       "      <th>id_32</th>\n",
       "      <th>id_33</th>\n",
       "      <th>id_34</th>\n",
       "      <th>id_35</th>\n",
       "      <th>id_36</th>\n",
       "      <th>id_37</th>\n",
       "      <th>id_38</th>\n",
       "      <th>DeviceType</th>\n",
       "      <th>DeviceInfo</th>\n",
       "    </tr>\n",
       "  </thead>\n",
       "  <tbody>\n",
       "    <tr>\n",
       "      <th>6300</th>\n",
       "      <td>3011327</td>\n",
       "      <td>0</td>\n",
       "      <td>612890</td>\n",
       "      <td>25.000</td>\n",
       "      <td>H</td>\n",
       "      <td>10625</td>\n",
       "      <td>583.0</td>\n",
       "      <td>150.0</td>\n",
       "      <td>mastercard</td>\n",
       "      <td>219.0</td>\n",
       "      <td>...</td>\n",
       "      <td>mobile safari 11.0</td>\n",
       "      <td>32.0</td>\n",
       "      <td>2208x1242</td>\n",
       "      <td>match_status:1</td>\n",
       "      <td>T</td>\n",
       "      <td>F</td>\n",
       "      <td>F</td>\n",
       "      <td>T</td>\n",
       "      <td>mobile</td>\n",
       "      <td>iOS Device</td>\n",
       "    </tr>\n",
       "    <tr>\n",
       "      <th>122380</th>\n",
       "      <td>3471063</td>\n",
       "      <td>0</td>\n",
       "      <td>12596865</td>\n",
       "      <td>50.000</td>\n",
       "      <td>H</td>\n",
       "      <td>17400</td>\n",
       "      <td>174.0</td>\n",
       "      <td>150.0</td>\n",
       "      <td>visa</td>\n",
       "      <td>226.0</td>\n",
       "      <td>...</td>\n",
       "      <td>mobile safari generic</td>\n",
       "      <td>32.0</td>\n",
       "      <td>1334x750</td>\n",
       "      <td>match_status:1</td>\n",
       "      <td>T</td>\n",
       "      <td>F</td>\n",
       "      <td>F</td>\n",
       "      <td>T</td>\n",
       "      <td>mobile</td>\n",
       "      <td>iOS Device</td>\n",
       "    </tr>\n",
       "    <tr>\n",
       "      <th>82026</th>\n",
       "      <td>3252764</td>\n",
       "      <td>0</td>\n",
       "      <td>6443699</td>\n",
       "      <td>26.464</td>\n",
       "      <td>C</td>\n",
       "      <td>7255</td>\n",
       "      <td>545.0</td>\n",
       "      <td>185.0</td>\n",
       "      <td>visa</td>\n",
       "      <td>195.0</td>\n",
       "      <td>...</td>\n",
       "      <td>chrome 64.0</td>\n",
       "      <td>NaN</td>\n",
       "      <td>NaN</td>\n",
       "      <td>NaN</td>\n",
       "      <td>F</td>\n",
       "      <td>F</td>\n",
       "      <td>T</td>\n",
       "      <td>F</td>\n",
       "      <td>desktop</td>\n",
       "      <td>Windows</td>\n",
       "    </tr>\n",
       "    <tr>\n",
       "      <th>126135</th>\n",
       "      <td>3493180</td>\n",
       "      <td>0</td>\n",
       "      <td>13267628</td>\n",
       "      <td>150.000</td>\n",
       "      <td>R</td>\n",
       "      <td>14426</td>\n",
       "      <td>111.0</td>\n",
       "      <td>150.0</td>\n",
       "      <td>mastercard</td>\n",
       "      <td>224.0</td>\n",
       "      <td>...</td>\n",
       "      <td>edge 15.0</td>\n",
       "      <td>24.0</td>\n",
       "      <td>1366x768</td>\n",
       "      <td>match_status:2</td>\n",
       "      <td>T</td>\n",
       "      <td>F</td>\n",
       "      <td>T</td>\n",
       "      <td>T</td>\n",
       "      <td>desktop</td>\n",
       "      <td>Windows</td>\n",
       "    </tr>\n",
       "    <tr>\n",
       "      <th>12426</th>\n",
       "      <td>3027413</td>\n",
       "      <td>0</td>\n",
       "      <td>1003211</td>\n",
       "      <td>25.000</td>\n",
       "      <td>H</td>\n",
       "      <td>6170</td>\n",
       "      <td>174.0</td>\n",
       "      <td>150.0</td>\n",
       "      <td>visa</td>\n",
       "      <td>226.0</td>\n",
       "      <td>...</td>\n",
       "      <td>chrome 62.0</td>\n",
       "      <td>24.0</td>\n",
       "      <td>1366x768</td>\n",
       "      <td>match_status:2</td>\n",
       "      <td>T</td>\n",
       "      <td>F</td>\n",
       "      <td>T</td>\n",
       "      <td>T</td>\n",
       "      <td>desktop</td>\n",
       "      <td>MacOS</td>\n",
       "    </tr>\n",
       "  </tbody>\n",
       "</table>\n",
       "<p>5 rows × 404 columns</p>\n",
       "</div>"
      ],
      "text/plain": [
       "        TransactionID  isFraud  TransactionDT  TransactionAmt ProductCD  \\\n",
       "6300          3011327        0         612890          25.000         H   \n",
       "122380        3471063        0       12596865          50.000         H   \n",
       "82026         3252764        0        6443699          26.464         C   \n",
       "126135        3493180        0       13267628         150.000         R   \n",
       "12426         3027413        0        1003211          25.000         H   \n",
       "\n",
       "        card1  card2  card3       card4  card5  ...                  id_31  \\\n",
       "6300    10625  583.0  150.0  mastercard  219.0  ...     mobile safari 11.0   \n",
       "122380  17400  174.0  150.0        visa  226.0  ...  mobile safari generic   \n",
       "82026    7255  545.0  185.0        visa  195.0  ...            chrome 64.0   \n",
       "126135  14426  111.0  150.0  mastercard  224.0  ...              edge 15.0   \n",
       "12426    6170  174.0  150.0        visa  226.0  ...            chrome 62.0   \n",
       "\n",
       "        id_32      id_33           id_34 id_35 id_36  id_37  id_38  \\\n",
       "6300     32.0  2208x1242  match_status:1     T     F      F      T   \n",
       "122380   32.0   1334x750  match_status:1     T     F      F      T   \n",
       "82026     NaN        NaN             NaN     F     F      T      F   \n",
       "126135   24.0   1366x768  match_status:2     T     F      T      T   \n",
       "12426    24.0   1366x768  match_status:2     T     F      T      T   \n",
       "\n",
       "        DeviceType  DeviceInfo  \n",
       "6300        mobile  iOS Device  \n",
       "122380      mobile  iOS Device  \n",
       "82026      desktop     Windows  \n",
       "126135     desktop     Windows  \n",
       "12426      desktop       MacOS  \n",
       "\n",
       "[5 rows x 404 columns]"
      ]
     },
     "execution_count": 34,
     "metadata": {},
     "output_type": "execute_result"
    }
   ],
   "source": [
    "train.head()"
   ]
  },
  {
   "cell_type": "code",
   "execution_count": 52,
   "metadata": {},
   "outputs": [],
   "source": [
    "train_c = train.set_index('TransactionID')"
   ]
  },
  {
   "cell_type": "code",
   "execution_count": 59,
   "metadata": {},
   "outputs": [
    {
     "name": "stdout",
     "output_type": "stream",
     "text": [
      "(115386, 403)\n"
     ]
    }
   ],
   "source": [
    "print(train_c.shape)"
   ]
  },
  {
   "cell_type": "code",
   "execution_count": 67,
   "metadata": {},
   "outputs": [
    {
     "data": {
      "text/plain": [
       "<matplotlib.axes._subplots.AxesSubplot at 0x23a6e06f208>"
      ]
     },
     "execution_count": 67,
     "metadata": {},
     "output_type": "execute_result"
    },
    {
     "data": {
      "image/png": "[encoded data removed]",
      "text/plain": [
       "<Figure size 1200x900 with 2 Axes>"
      ]
     },
     "metadata": {},
     "output_type": "display_data"
    }
   ],
   "source": [
    "correlation_matrix = train_c.corr()\n",
    "plt.figure(figsize=(12,9))\n",
    "matrix = np.triu(train_c.corr())\n",
    "sns.heatmap(correlation_matrix, mask = matrix, vmax=.3, square=True, cmap= 'BrBG')"
   ]
  },
  {
   "cell_type": "markdown",
   "metadata": {},
   "source": [
    "- <span style=\"color:blue;\">There is no feature exhibiting noticeable correlation with \"isFraud\".</span>  \n",
    "- Feature category C and V series show noticeable intercorrelations. Due to the lack of feature information, additional feature analysis is not carried out. "
   ]
  },
  {
   "cell_type": "markdown",
   "metadata": {},
   "source": [
    "### 3.3. Data balancing (undersample)"
   ]
  },
  {
   "cell_type": "markdown",
   "metadata": {},
   "source": [
    "#### The training dataset is highly skewed. \n",
    "- The fraction of fradulent transactions is a minority, compared to that of normal ones. \n",
    "- Thus, accurate correlations between the fraudulent transactions and their corresponding features can be challenging. \n",
    "- To overcome this issue, undersampling the majority (normal) is performed which can help to balance the dataset and to improve the computation efficiency."
   ]
  },
  {
   "cell_type": "code",
   "execution_count": 36,
   "metadata": {},
   "outputs": [
    {
     "data": {
      "image/png": "[encoded data removed]",
      "text/plain": [
       "<Figure size 640x480 with 1 Axes>"
      ]
     },
     "metadata": {},
     "output_type": "display_data"
    }
   ],
   "source": [
    "sns.countplot(x='isFraud',data=train_m)\n",
    "plt.xticks( np.arange(2), ['normal', 'fraud'] )\n",
    "plt.title('training dataset',fontsize= 18)\n",
    "plt.xlabel('Number',fontsize = 15)\n",
    "plt.ylabel('Transaction',fontsize = 15)\n",
    "labels = (train_m['isFraud'].value_counts())\n",
    "for i, v in enumerate(labels):\n",
    "    plt.text(i, v, str(v), ha = 'center', size = 14, color = 'r')\n",
    "plt.show()"
   ]
  },
  {
   "cell_type": "code",
   "execution_count": 37,
   "metadata": {
    "scrolled": true
   },
   "outputs": [],
   "source": [
    "normal_m = train_m[train_m['isFraud'] == 0]\n",
    "fraud_m = train_m[train_m['isFraud'] == 1]\n",
    "\n",
    "normal_mr = normal_m.sample(frac=1) \n",
    "normal_u = normal_mr[:9054]\n",
    "train_u = pd.concat([normal_u, fraud_m])"
   ]
  },
  {
   "cell_type": "code",
   "execution_count": 38,
   "metadata": {},
   "outputs": [
    {
     "data": {
      "image/png": "[encoded data removed]",
      "text/plain": [
       "<Figure size 640x480 with 1 Axes>"
      ]
     },
     "metadata": {},
     "output_type": "display_data"
    }
   ],
   "source": [
    "sns.countplot(x='isFraud',data=train_u)\n",
    "plt.xticks( np.arange(2), ['normal', 'fraud'] )\n",
    "plt.title('training dataset (undersampled)',fontsize= 18)\n",
    "plt.xlabel('Number',fontsize = 15)\n",
    "plt.ylabel('Transaction',fontsize = 15)\n",
    "labels = (train_u['isFraud'].value_counts())\n",
    "for i, v in enumerate(labels):\n",
    "    plt.text(i, v, str(v), ha = 'center', size = 14, color = 'r')\n",
    "plt.show()"
   ]
  },
  {
   "cell_type": "markdown",
   "metadata": {},
   "source": [
    "## 4. Model training and testing"
   ]
  },
  {
   "cell_type": "code",
   "execution_count": 39,
   "metadata": {},
   "outputs": [],
   "source": [
    "from sklearn.linear_model import LogisticRegression\n",
    "import xgboost as xgb\n",
    "from sklearn.ensemble import RandomForestClassifier\n",
    "from sklearn import metrics"
   ]
  },
  {
   "cell_type": "code",
   "execution_count": 40,
   "metadata": {},
   "outputs": [],
   "source": [
    "X_train = train_u.drop('isFraud', axis=1)\n",
    "y_train = train_u['isFraud'].copy()\n",
    "X_test = test_m.drop('isFraud', axis=1)\n",
    "y_test = test_m['isFraud'].copy()"
   ]
  },
  {
   "cell_type": "markdown",
   "metadata": {},
   "source": [
    "### 4.1. Logistic"
   ]
  },
  {
   "cell_type": "code",
   "execution_count": 41,
   "metadata": {
    "scrolled": true
   },
   "outputs": [],
   "source": [
    "LR = LogisticRegression(C=1e5)\n",
    "LR.fit(X_train, y_train)\n",
    "LR_pred = LR.predict(X_test)"
   ]
  },
  {
   "cell_type": "markdown",
   "metadata": {},
   "source": [
    "### 4.2. XGBoost\n"
   ]
  },
  {
   "cell_type": "code",
   "execution_count": 42,
   "metadata": {},
   "outputs": [],
   "source": [
    "XG = xgb.XGBClassifier(\n",
    "    n_estimators=500,\n",
    "    max_depth=9,\n",
    "    learning_rate=0.05,\n",
    "    subsample=0.9,\n",
    "    colsample_bytree=0.9,\n",
    "    missing=-999,\n",
    "    random_state=2019,\n",
    "    tree_method='hist')\n",
    "XG.fit(X_train, y_train)\n",
    "XG_pred = XG.predict(X_test)"
   ]
  },
  {
   "cell_type": "markdown",
   "metadata": {},
   "source": [
    "### 4.3. Random Forest"
   ]
  },
  {
   "cell_type": "code",
   "execution_count": 43,
   "metadata": {},
   "outputs": [],
   "source": [
    "RF = RandomForestClassifier(n_estimators=100, max_depth=3, random_state=1)\n",
    "RF.fit(X_train, y_train)\n",
    "RF_pred = RF.predict(X_test)"
   ]
  },
  {
   "cell_type": "markdown",
   "metadata": {},
   "source": [
    "### 4.4. Validation metrics"
   ]
  },
  {
   "cell_type": "markdown",
   "metadata": {},
   "source": [
    "#### F<sub>1</sub> score"
   ]
  },
  {
   "cell_type": "code",
   "execution_count": 44,
   "metadata": {
    "scrolled": true
   },
   "outputs": [
    {
     "name": "stdout",
     "output_type": "stream",
     "text": [
      "Logistic F1 score:     0.28053\n",
      "XGboost F1 score:      0.69675\n",
      "RandomForest F1 score: 0.44356\n"
     ]
    }
   ],
   "source": [
    "score1 = metrics.f1_score(y_test, LR_pred)\n",
    "score2 = metrics.f1_score(y_test, XG_pred)\n",
    "score3 = metrics.f1_score(y_test, RF_pred)\n",
    "print ('Logistic F1 score:     %.5f' % score1 )\n",
    "print ('XGboost F1 score:      %.5f' % score2 )\n",
    "print ('RandomForest F1 score: %.5f' % score3 )"
   ]
  },
  {
   "cell_type": "markdown",
   "metadata": {},
   "source": [
    "#### Fitting"
   ]
  },
  {
   "cell_type": "code",
   "execution_count": 45,
   "metadata": {},
   "outputs": [
    {
     "name": "stdout",
     "output_type": "stream",
     "text": [
      "Logistic fitting F1:     0.72179\n",
      "XGboos fitting F1:       0.99740\n",
      "RandomForest fitting F1: 0.76958\n"
     ]
    }
   ],
   "source": [
    "LR_fit = LR.predict(X_train)\n",
    "XG_fit = XG.predict(X_train)\n",
    "RF_fit = RF.predict(X_train)\n",
    "\n",
    "score4 = metrics.f1_score(y_train, LR_fit)\n",
    "score5 = metrics.f1_score(y_train, XG_fit)\n",
    "score6 = metrics.f1_score(y_train, RF_fit)\n",
    "\n",
    "print ('Logistic fitting F1:     %.5f' % score4 )\n",
    "print ('XGboos fitting F1:       %.5f' % score5 )\n",
    "print ('RandomForest fitting F1: %.5f' % score6 )"
   ]
  },
  {
   "cell_type": "markdown",
   "metadata": {},
   "source": [
    "#### Comparing the prediction and fitting results:\n",
    "- The XGboost model produced practical prediction with with F<sub>1</sub> score of 0.68.\n",
    "- Neither the Logisitic model nor the Random Forest model yielded favorable results, which gave F<sub>1</sub> scores of 0.29 and 0.45, respectively."
   ]
  },
  {
   "cell_type": "markdown",
   "metadata": {},
   "source": [
    "## 5. Summary  \n",
    "This project aimed to tackle the data challenge in fraud detection. The original data contain information of transaction and identification. Notably, the data are heavily skewed: 96.5% of transactions is non-fradulent. In addition, the dataset contain missing values and categorical features. To overcome these challenges, undersampling was performed to balance the data; features with missing data were either discarded or replaced by means; all the non-numberical features were systematically transformed into numberical by encoder. To validate model predictivity, original dataset was randomlly splited into two groups: 80% for training and 20% for testing. Three models based on Logistic, XGboost, and Random Forest classifications were developed and tested, which yielded F<sub>1</sub> scores of 0.29, 0.68, and 0.45, respectively. This data challenge project suggests that machine learning model has potential to provide high accuracy fraud detection, especially by using the XGboost algorithm."
   ]
  },
  {
   "cell_type": "markdown",
   "metadata": {},
   "source": [
    "### Future tasks\n",
    "1. Feature engineering and selection: Reduce data redundancy and improve the data quality.\n",
    "2. Model optimization: Hyperparameters in XGBoost and L1 L2 regularization for Logistic regression.\n",
    "3. Additional metrics: Because F<sub>1</sub> score does not take true negative into account, other metrics for evaluationg binary classification such as precision-recall AUC curve and confusion matrix will be exercised.\n",
    "4. Others: PCA analysis, data normalization (scaler), learning curve, LightGBM, etc."
   ]
  },
  {
   "cell_type": "markdown",
   "metadata": {},
   "source": [
    "### References  \n",
    "https://www.kdnuggets.com/2020/07/easy-guide-data-preprocessing-python.html  \n",
    "https://www.kaggle.com/janiobachmann/credit-fraud-dealing-with-imbalanced-datasets  \n",
    "https://www.kaggle.com/pavansanagapati/anomaly-detection-credit-card-fraud-analysis  \n",
    "https://www.kaggle.com/shahules/tackling-class-imbalance  \n",
    "https://scikit-learn.org/   \n",
    "https://en.wikipedia.org/wiki/F1_score\n",
    "\n",
    "Image source  \n",
    "https://images.unsplash.com/photo-1563013544-824ae1b704d3"
   ]
  }
 ],
 "metadata": {
  "kernelspec": {
   "display_name": "Python 3",
   "language": "python",
   "name": "python3"
  },
  "language_info": {
   "codemirror_mode": {
    "name": "ipython",
    "version": 3
   },
   "file_extension": ".py",
   "mimetype": "text/x-python",
   "name": "python",
   "nbconvert_exporter": "python",
   "pygments_lexer": "ipython3",
   "version": "3.7.1"
  }
 },
 "nbformat": 4,
 "nbformat_minor": 4
}
