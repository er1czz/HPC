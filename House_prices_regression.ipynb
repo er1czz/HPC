{
 "cells": [
  {
   "cell_type": "code",
   "execution_count": 2,
   "metadata": {},
   "outputs": [],
   "source": [
    "import numpy as np\n",
    "import pandas as pd\n",
    "from sklearn.ensemble import RandomForestRegressor"
   ]
  },
  {
   "cell_type": "code",
   "execution_count": 3,
   "metadata": {},
   "outputs": [
    {
     "data": {
      "text/plain": [
       "RandomForestRegressor(bootstrap=True, criterion='mse', max_depth=None,\n",
       "                      max_features='auto', max_leaf_nodes=None,\n",
       "                      min_impurity_decrease=0.0, min_impurity_split=None,\n",
       "                      min_samples_leaf=1, min_samples_split=2,\n",
       "                      min_weight_fraction_leaf=0.0, n_estimators=100,\n",
       "                      n_jobs=None, oob_score=False, random_state=None,\n",
       "                      verbose=0, warm_start=False)"
      ]
     },
     "execution_count": 3,
     "metadata": {},
     "output_type": "execute_result"
    }
   ],
   "source": [
    "# Read the data\n",
    "train = pd.read_csv('train.csv')\n",
    "\n",
    "#delete the outliers\n",
    "train.sort_values(by = 'GrLivArea', ascending = False)[:2]\n",
    "train = train.drop(train[train['Id'] == 1299].index)\n",
    "train = train.drop(train[train['Id'] == 524].index)\n",
    "\n",
    "# pull data into target (y) and predictors (X)\n",
    "train_y = train.SalePrice\n",
    "\n",
    "predictor_cols = ['TotRmsAbvGrd','GrLivArea']\n",
    "\n",
    "# Create training predictors data\n",
    "train_X = train[predictor_cols]\n",
    "\n",
    "my_model = RandomForestRegressor(n_estimators = 100)\n",
    "my_model.fit(train_X, train_y)"
   ]
  },
  {
   "cell_type": "code",
   "execution_count": 4,
   "metadata": {
    "scrolled": true
   },
   "outputs": [
    {
     "name": "stdout",
     "output_type": "stream",
     "text": [
      "[130036.4893759  158222.52380952 211540.19444444 ... 111787.245\n",
      " 109100.58333333 261352.56      ]\n"
     ]
    }
   ],
   "source": [
    "test = pd.read_csv('test.csv')\n",
    "# Treat the test data in the same way as training data. In this case, pull same columns.\n",
    "test_X = test[predictor_cols]\n",
    "# Use the model to make predictions\n",
    "predicted_prices = my_model.predict(test_X)\n",
    "fit_prices=my_model.predict(train_X)\n",
    "# We will look at the predicted prices to ensure we have something sensible.\n",
    "print(predicted_prices)"
   ]
  },
  {
   "cell_type": "code",
   "execution_count": 5,
   "metadata": {},
   "outputs": [],
   "source": [
    "my_submission = pd.DataFrame({'Id': test.Id, 'SalePrice': predicted_prices})\n",
    "# you could use any filename. We choose submission here\n",
    "my_submission.to_csv('submission.csv', index=False)"
   ]
  },
  {
   "cell_type": "code",
   "execution_count": 6,
   "metadata": {},
   "outputs": [
    {
     "name": "stdout",
     "output_type": "stream",
     "text": [
      "training score: 0.14514\n"
     ]
    }
   ],
   "source": [
    "from sklearn import metrics\n",
    "# training score\n",
    "score = np.sqrt(metrics.mean_squared_log_error(train_y, fit_prices))\n",
    "print ('training score: %.5f' % score )"
   ]
  },
  {
   "cell_type": "code",
   "execution_count": 8,
   "metadata": {},
   "outputs": [
    {
     "name": "stdout",
     "output_type": "stream",
     "text": [
      "training score: 0.14514\n",
      "R2 score: 0.88787\n"
     ]
    }
   ],
   "source": [
    "from sklearn import metrics\n",
    "# training score\n",
    "\n",
    "score = np.sqrt(metrics.mean_squared_error(np.log(train_y), np.log(fit_prices)))\n",
    "r2 = metrics.r2_score(train_y, fit_prices)\n",
    "print ('training score: %.5f' % score )\n",
    "print ('R2 score: %.5f' % r2)"
   ]
  },
  {
   "cell_type": "code",
   "execution_count": null,
   "metadata": {},
   "outputs": [],
   "source": []
  }
 ],
 "metadata": {
  "kernelspec": {
   "display_name": "Python 3",
   "language": "python",
   "name": "python3"
  },
  "language_info": {
   "codemirror_mode": {
    "name": "ipython",
    "version": 3
   },
   "file_extension": ".py",
   "mimetype": "text/x-python",
   "name": "python",
   "nbconvert_exporter": "python",
   "pygments_lexer": "ipython3",
   "version": "3.7.1"
  }
 },
 "nbformat": 4,
 "nbformat_minor": 2
}
