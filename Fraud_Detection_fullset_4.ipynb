{
 "cells": [
  {
   "cell_type": "markdown",
   "metadata": {},
   "source": [
    "# Data Challenge Project: Fraud Detection  \n",
    "\n",
    "<img src=\"https://github.com/er1czz/kaggle/blob/master/unsplash_transaction.JPG?raw=true\" align = \"right\" style = \"border:20px solid white\">   \n",
    "\n",
    "<h3> Situation:</h3>  \n",
    "\n",
    " * Credit card fraud is a common financial fraud, especially during pandemic. \n",
    " * Shopping everything online is the new norm. \n",
    " \n",
    "<h3> Task:</h3> \n",
    " \n",
    " * How to maximaize the transaction security with minimal hassles to clients?  \n",
    "\n",
    "<h3> Action:</h3>\n",
    "\n",
    "* Develop a predicative model based on machine learning algorithms of binary classification.  \n",
    "\n",
    "<h3> Results:</h3> \n",
    "\n",
    "* To maximize the detection rate of fradulent activities while minimizing the number of false alarms (false positive events).    "
   ]
  },
  {
   "cell_type": "markdown",
   "metadata": {},
   "source": [
    "<b>The project consists of five sections as follows:</b>\n",
    "1. Data exploration\n",
    "2. Data cleaning\n",
    "3. Feature selection\n",
    "4. Models training and testing\n",
    "5. Takeaway"
   ]
  },
  {
   "cell_type": "markdown",
   "metadata": {},
   "source": [
    "<b>Data Wrangling Summary</b>\n",
    "<p>&nbsp;&nbsp; This project aimed to tackle the data challenge in fraud detection. The original data contain information of transaction and identification. Notably, the data are heavily skewed: 96.5% of transactions is non-fradulent. In addition, the dataset contain missing values and categorical features. To overcome these challenges, undersampling was performed to balance the data; features with missing data were either discarded or replaced by means; all the non-numberical features were systematically transformed into numberical by encoder. To validate model predictivity, original dataset was randomlly splited into two groups: 80% for training and 20% for testing. "
   ]
  },
  {
   "cell_type": "code",
   "execution_count": 1,
   "metadata": {
    "scrolled": true
   },
   "outputs": [
    {
     "name": "stdout",
     "output_type": "stream",
     "text": [
      "C:\\Users\\EzzZ\\Desktop\\Fraud2\n"
     ]
    }
   ],
   "source": [
    "cd ../../../../Desktop/Fraud2/"
   ]
  },
  {
   "cell_type": "code",
   "execution_count": 2,
   "metadata": {},
   "outputs": [],
   "source": [
    "import pandas as pd"
   ]
  },
  {
   "cell_type": "code",
   "execution_count": 3,
   "metadata": {},
   "outputs": [],
   "source": [
    "# Data, provided by Kaggle.com, contain two datasets: identity and transaction.  \n",
    "\n",
    "id = pd.read_csv('train_identity.csv')\n",
    "tn = pd.read_csv('train_transaction.csv')"
   ]
  },
  {
   "cell_type": "markdown",
   "metadata": {},
   "source": [
    "## 1. Data exploration"
   ]
  },
  {
   "cell_type": "code",
   "execution_count": 4,
   "metadata": {},
   "outputs": [
    {
     "name": "stdout",
     "output_type": "stream",
     "text": [
      "(144233, 41)\n",
      "(590540, 394)\n"
     ]
    }
   ],
   "source": [
    "print(id.shape)\n",
    "print(tn.shape)"
   ]
  },
  {
   "cell_type": "code",
   "execution_count": 5,
   "metadata": {
    "scrolled": true
   },
   "outputs": [
    {
     "data": {
      "text/html": [
       "<div>\n",
       "<style scoped>\n",
       "    .dataframe tbody tr th:only-of-type {\n",
       "        vertical-align: middle;\n",
       "    }\n",
       "\n",
       "    .dataframe tbody tr th {\n",
       "        vertical-align: top;\n",
       "    }\n",
       "\n",
       "    .dataframe thead th {\n",
       "        text-align: right;\n",
       "    }\n",
       "</style>\n",
       "<table border=\"1\" class=\"dataframe\">\n",
       "  <thead>\n",
       "    <tr style=\"text-align: right;\">\n",
       "      <th></th>\n",
       "      <th>TransactionID</th>\n",
       "      <th>id_01</th>\n",
       "      <th>id_02</th>\n",
       "      <th>id_03</th>\n",
       "      <th>id_04</th>\n",
       "      <th>id_05</th>\n",
       "      <th>id_06</th>\n",
       "      <th>id_07</th>\n",
       "      <th>id_08</th>\n",
       "      <th>id_09</th>\n",
       "      <th>...</th>\n",
       "      <th>id_31</th>\n",
       "      <th>id_32</th>\n",
       "      <th>id_33</th>\n",
       "      <th>id_34</th>\n",
       "      <th>id_35</th>\n",
       "      <th>id_36</th>\n",
       "      <th>id_37</th>\n",
       "      <th>id_38</th>\n",
       "      <th>DeviceType</th>\n",
       "      <th>DeviceInfo</th>\n",
       "    </tr>\n",
       "  </thead>\n",
       "  <tbody>\n",
       "    <tr>\n",
       "      <th>0</th>\n",
       "      <td>2987004</td>\n",
       "      <td>0.0</td>\n",
       "      <td>70787.0</td>\n",
       "      <td>NaN</td>\n",
       "      <td>NaN</td>\n",
       "      <td>NaN</td>\n",
       "      <td>NaN</td>\n",
       "      <td>NaN</td>\n",
       "      <td>NaN</td>\n",
       "      <td>NaN</td>\n",
       "      <td>...</td>\n",
       "      <td>samsung browser 6.2</td>\n",
       "      <td>32.0</td>\n",
       "      <td>2220x1080</td>\n",
       "      <td>match_status:2</td>\n",
       "      <td>T</td>\n",
       "      <td>F</td>\n",
       "      <td>T</td>\n",
       "      <td>T</td>\n",
       "      <td>mobile</td>\n",
       "      <td>SAMSUNG SM-G892A Build/NRD90M</td>\n",
       "    </tr>\n",
       "    <tr>\n",
       "      <th>1</th>\n",
       "      <td>2987008</td>\n",
       "      <td>-5.0</td>\n",
       "      <td>98945.0</td>\n",
       "      <td>NaN</td>\n",
       "      <td>NaN</td>\n",
       "      <td>0.0</td>\n",
       "      <td>-5.0</td>\n",
       "      <td>NaN</td>\n",
       "      <td>NaN</td>\n",
       "      <td>NaN</td>\n",
       "      <td>...</td>\n",
       "      <td>mobile safari 11.0</td>\n",
       "      <td>32.0</td>\n",
       "      <td>1334x750</td>\n",
       "      <td>match_status:1</td>\n",
       "      <td>T</td>\n",
       "      <td>F</td>\n",
       "      <td>F</td>\n",
       "      <td>T</td>\n",
       "      <td>mobile</td>\n",
       "      <td>iOS Device</td>\n",
       "    </tr>\n",
       "    <tr>\n",
       "      <th>2</th>\n",
       "      <td>2987010</td>\n",
       "      <td>-5.0</td>\n",
       "      <td>191631.0</td>\n",
       "      <td>0.0</td>\n",
       "      <td>0.0</td>\n",
       "      <td>0.0</td>\n",
       "      <td>0.0</td>\n",
       "      <td>NaN</td>\n",
       "      <td>NaN</td>\n",
       "      <td>0.0</td>\n",
       "      <td>...</td>\n",
       "      <td>chrome 62.0</td>\n",
       "      <td>NaN</td>\n",
       "      <td>NaN</td>\n",
       "      <td>NaN</td>\n",
       "      <td>F</td>\n",
       "      <td>F</td>\n",
       "      <td>T</td>\n",
       "      <td>T</td>\n",
       "      <td>desktop</td>\n",
       "      <td>Windows</td>\n",
       "    </tr>\n",
       "    <tr>\n",
       "      <th>3</th>\n",
       "      <td>2987011</td>\n",
       "      <td>-5.0</td>\n",
       "      <td>221832.0</td>\n",
       "      <td>NaN</td>\n",
       "      <td>NaN</td>\n",
       "      <td>0.0</td>\n",
       "      <td>-6.0</td>\n",
       "      <td>NaN</td>\n",
       "      <td>NaN</td>\n",
       "      <td>NaN</td>\n",
       "      <td>...</td>\n",
       "      <td>chrome 62.0</td>\n",
       "      <td>NaN</td>\n",
       "      <td>NaN</td>\n",
       "      <td>NaN</td>\n",
       "      <td>F</td>\n",
       "      <td>F</td>\n",
       "      <td>T</td>\n",
       "      <td>T</td>\n",
       "      <td>desktop</td>\n",
       "      <td>NaN</td>\n",
       "    </tr>\n",
       "    <tr>\n",
       "      <th>4</th>\n",
       "      <td>2987016</td>\n",
       "      <td>0.0</td>\n",
       "      <td>7460.0</td>\n",
       "      <td>0.0</td>\n",
       "      <td>0.0</td>\n",
       "      <td>1.0</td>\n",
       "      <td>0.0</td>\n",
       "      <td>NaN</td>\n",
       "      <td>NaN</td>\n",
       "      <td>0.0</td>\n",
       "      <td>...</td>\n",
       "      <td>chrome 62.0</td>\n",
       "      <td>24.0</td>\n",
       "      <td>1280x800</td>\n",
       "      <td>match_status:2</td>\n",
       "      <td>T</td>\n",
       "      <td>F</td>\n",
       "      <td>T</td>\n",
       "      <td>T</td>\n",
       "      <td>desktop</td>\n",
       "      <td>MacOS</td>\n",
       "    </tr>\n",
       "  </tbody>\n",
       "</table>\n",
       "<p>5 rows × 41 columns</p>\n",
       "</div>"
      ],
      "text/plain": [
       "   TransactionID  id_01     id_02  id_03  id_04  id_05  id_06  id_07  id_08  \\\n",
       "0        2987004    0.0   70787.0    NaN    NaN    NaN    NaN    NaN    NaN   \n",
       "1        2987008   -5.0   98945.0    NaN    NaN    0.0   -5.0    NaN    NaN   \n",
       "2        2987010   -5.0  191631.0    0.0    0.0    0.0    0.0    NaN    NaN   \n",
       "3        2987011   -5.0  221832.0    NaN    NaN    0.0   -6.0    NaN    NaN   \n",
       "4        2987016    0.0    7460.0    0.0    0.0    1.0    0.0    NaN    NaN   \n",
       "\n",
       "   id_09  ...                id_31  id_32      id_33           id_34  id_35  \\\n",
       "0    NaN  ...  samsung browser 6.2   32.0  2220x1080  match_status:2      T   \n",
       "1    NaN  ...   mobile safari 11.0   32.0   1334x750  match_status:1      T   \n",
       "2    0.0  ...          chrome 62.0    NaN        NaN             NaN      F   \n",
       "3    NaN  ...          chrome 62.0    NaN        NaN             NaN      F   \n",
       "4    0.0  ...          chrome 62.0   24.0   1280x800  match_status:2      T   \n",
       "\n",
       "  id_36 id_37  id_38  DeviceType                     DeviceInfo  \n",
       "0     F     T      T      mobile  SAMSUNG SM-G892A Build/NRD90M  \n",
       "1     F     F      T      mobile                     iOS Device  \n",
       "2     F     T      T     desktop                        Windows  \n",
       "3     F     T      T     desktop                            NaN  \n",
       "4     F     T      T     desktop                          MacOS  \n",
       "\n",
       "[5 rows x 41 columns]"
      ]
     },
     "execution_count": 5,
     "metadata": {},
     "output_type": "execute_result"
    }
   ],
   "source": [
    "id.head()"
   ]
  },
  {
   "cell_type": "code",
   "execution_count": 6,
   "metadata": {
    "scrolled": true
   },
   "outputs": [
    {
     "data": {
      "text/html": [
       "<div>\n",
       "<style scoped>\n",
       "    .dataframe tbody tr th:only-of-type {\n",
       "        vertical-align: middle;\n",
       "    }\n",
       "\n",
       "    .dataframe tbody tr th {\n",
       "        vertical-align: top;\n",
       "    }\n",
       "\n",
       "    .dataframe thead th {\n",
       "        text-align: right;\n",
       "    }\n",
       "</style>\n",
       "<table border=\"1\" class=\"dataframe\">\n",
       "  <thead>\n",
       "    <tr style=\"text-align: right;\">\n",
       "      <th></th>\n",
       "      <th>TransactionID</th>\n",
       "      <th>isFraud</th>\n",
       "      <th>TransactionDT</th>\n",
       "      <th>TransactionAmt</th>\n",
       "      <th>ProductCD</th>\n",
       "      <th>card1</th>\n",
       "      <th>card2</th>\n",
       "      <th>card3</th>\n",
       "      <th>card4</th>\n",
       "      <th>card5</th>\n",
       "      <th>...</th>\n",
       "      <th>V330</th>\n",
       "      <th>V331</th>\n",
       "      <th>V332</th>\n",
       "      <th>V333</th>\n",
       "      <th>V334</th>\n",
       "      <th>V335</th>\n",
       "      <th>V336</th>\n",
       "      <th>V337</th>\n",
       "      <th>V338</th>\n",
       "      <th>V339</th>\n",
       "    </tr>\n",
       "  </thead>\n",
       "  <tbody>\n",
       "    <tr>\n",
       "      <th>0</th>\n",
       "      <td>2987000</td>\n",
       "      <td>0</td>\n",
       "      <td>86400</td>\n",
       "      <td>68.5</td>\n",
       "      <td>W</td>\n",
       "      <td>13926</td>\n",
       "      <td>NaN</td>\n",
       "      <td>150.0</td>\n",
       "      <td>discover</td>\n",
       "      <td>142.0</td>\n",
       "      <td>...</td>\n",
       "      <td>NaN</td>\n",
       "      <td>NaN</td>\n",
       "      <td>NaN</td>\n",
       "      <td>NaN</td>\n",
       "      <td>NaN</td>\n",
       "      <td>NaN</td>\n",
       "      <td>NaN</td>\n",
       "      <td>NaN</td>\n",
       "      <td>NaN</td>\n",
       "      <td>NaN</td>\n",
       "    </tr>\n",
       "    <tr>\n",
       "      <th>1</th>\n",
       "      <td>2987001</td>\n",
       "      <td>0</td>\n",
       "      <td>86401</td>\n",
       "      <td>29.0</td>\n",
       "      <td>W</td>\n",
       "      <td>2755</td>\n",
       "      <td>404.0</td>\n",
       "      <td>150.0</td>\n",
       "      <td>mastercard</td>\n",
       "      <td>102.0</td>\n",
       "      <td>...</td>\n",
       "      <td>NaN</td>\n",
       "      <td>NaN</td>\n",
       "      <td>NaN</td>\n",
       "      <td>NaN</td>\n",
       "      <td>NaN</td>\n",
       "      <td>NaN</td>\n",
       "      <td>NaN</td>\n",
       "      <td>NaN</td>\n",
       "      <td>NaN</td>\n",
       "      <td>NaN</td>\n",
       "    </tr>\n",
       "    <tr>\n",
       "      <th>2</th>\n",
       "      <td>2987002</td>\n",
       "      <td>0</td>\n",
       "      <td>86469</td>\n",
       "      <td>59.0</td>\n",
       "      <td>W</td>\n",
       "      <td>4663</td>\n",
       "      <td>490.0</td>\n",
       "      <td>150.0</td>\n",
       "      <td>visa</td>\n",
       "      <td>166.0</td>\n",
       "      <td>...</td>\n",
       "      <td>NaN</td>\n",
       "      <td>NaN</td>\n",
       "      <td>NaN</td>\n",
       "      <td>NaN</td>\n",
       "      <td>NaN</td>\n",
       "      <td>NaN</td>\n",
       "      <td>NaN</td>\n",
       "      <td>NaN</td>\n",
       "      <td>NaN</td>\n",
       "      <td>NaN</td>\n",
       "    </tr>\n",
       "    <tr>\n",
       "      <th>3</th>\n",
       "      <td>2987003</td>\n",
       "      <td>0</td>\n",
       "      <td>86499</td>\n",
       "      <td>50.0</td>\n",
       "      <td>W</td>\n",
       "      <td>18132</td>\n",
       "      <td>567.0</td>\n",
       "      <td>150.0</td>\n",
       "      <td>mastercard</td>\n",
       "      <td>117.0</td>\n",
       "      <td>...</td>\n",
       "      <td>NaN</td>\n",
       "      <td>NaN</td>\n",
       "      <td>NaN</td>\n",
       "      <td>NaN</td>\n",
       "      <td>NaN</td>\n",
       "      <td>NaN</td>\n",
       "      <td>NaN</td>\n",
       "      <td>NaN</td>\n",
       "      <td>NaN</td>\n",
       "      <td>NaN</td>\n",
       "    </tr>\n",
       "    <tr>\n",
       "      <th>4</th>\n",
       "      <td>2987004</td>\n",
       "      <td>0</td>\n",
       "      <td>86506</td>\n",
       "      <td>50.0</td>\n",
       "      <td>H</td>\n",
       "      <td>4497</td>\n",
       "      <td>514.0</td>\n",
       "      <td>150.0</td>\n",
       "      <td>mastercard</td>\n",
       "      <td>102.0</td>\n",
       "      <td>...</td>\n",
       "      <td>0.0</td>\n",
       "      <td>0.0</td>\n",
       "      <td>0.0</td>\n",
       "      <td>0.0</td>\n",
       "      <td>0.0</td>\n",
       "      <td>0.0</td>\n",
       "      <td>0.0</td>\n",
       "      <td>0.0</td>\n",
       "      <td>0.0</td>\n",
       "      <td>0.0</td>\n",
       "    </tr>\n",
       "  </tbody>\n",
       "</table>\n",
       "<p>5 rows × 394 columns</p>\n",
       "</div>"
      ],
      "text/plain": [
       "   TransactionID  isFraud  TransactionDT  TransactionAmt ProductCD  card1  \\\n",
       "0        2987000        0          86400            68.5         W  13926   \n",
       "1        2987001        0          86401            29.0         W   2755   \n",
       "2        2987002        0          86469            59.0         W   4663   \n",
       "3        2987003        0          86499            50.0         W  18132   \n",
       "4        2987004        0          86506            50.0         H   4497   \n",
       "\n",
       "   card2  card3       card4  card5  ... V330  V331  V332  V333  V334 V335  \\\n",
       "0    NaN  150.0    discover  142.0  ...  NaN   NaN   NaN   NaN   NaN  NaN   \n",
       "1  404.0  150.0  mastercard  102.0  ...  NaN   NaN   NaN   NaN   NaN  NaN   \n",
       "2  490.0  150.0        visa  166.0  ...  NaN   NaN   NaN   NaN   NaN  NaN   \n",
       "3  567.0  150.0  mastercard  117.0  ...  NaN   NaN   NaN   NaN   NaN  NaN   \n",
       "4  514.0  150.0  mastercard  102.0  ...  0.0   0.0   0.0   0.0   0.0  0.0   \n",
       "\n",
       "  V336  V337  V338  V339  \n",
       "0  NaN   NaN   NaN   NaN  \n",
       "1  NaN   NaN   NaN   NaN  \n",
       "2  NaN   NaN   NaN   NaN  \n",
       "3  NaN   NaN   NaN   NaN  \n",
       "4  0.0   0.0   0.0   0.0  \n",
       "\n",
       "[5 rows x 394 columns]"
      ]
     },
     "execution_count": 6,
     "metadata": {},
     "output_type": "execute_result"
    }
   ],
   "source": [
    "tn.head()"
   ]
  },
  {
   "cell_type": "code",
   "execution_count": 7,
   "metadata": {},
   "outputs": [
    {
     "data": {
      "text/plain": [
       "1938311430530"
      ]
     },
     "execution_count": 7,
     "metadata": {},
     "output_type": "execute_result"
    }
   ],
   "source": [
    "tn.TransactionID.sum()"
   ]
  },
  {
   "cell_type": "code",
   "execution_count": 8,
   "metadata": {},
   "outputs": [
    {
     "data": {
      "text/plain": [
       "466785485555"
      ]
     },
     "execution_count": 8,
     "metadata": {},
     "output_type": "execute_result"
    }
   ],
   "source": [
    "id.TransactionID.sum()"
   ]
  },
  {
   "cell_type": "markdown",
   "metadata": {},
   "source": [
    "Feature \"TransactionDT\" is timedelta from a given reference datetime (not an actual timestamp)."
   ]
  },
  {
   "cell_type": "code",
   "execution_count": 9,
   "metadata": {},
   "outputs": [
    {
     "data": {
      "text/plain": [
       "552913"
      ]
     },
     "execution_count": 9,
     "metadata": {},
     "output_type": "execute_result"
    }
   ],
   "source": [
    "tn.isnull().sum().max()"
   ]
  },
  {
   "cell_type": "code",
   "execution_count": 10,
   "metadata": {},
   "outputs": [],
   "source": [
    "import matplotlib.pyplot as plt\n",
    "import seaborn as sns\n",
    "import missingno as msno"
   ]
  },
  {
   "cell_type": "markdown",
   "metadata": {},
   "source": [
    "### 1.1. Remove unpaired transaction (mismatch between identity and transaction datasets)"
   ]
  },
  {
   "cell_type": "code",
   "execution_count": 11,
   "metadata": {},
   "outputs": [],
   "source": [
    "data = tn.merge(id, on= 'TransactionID', copy = False)"
   ]
  },
  {
   "cell_type": "code",
   "execution_count": 12,
   "metadata": {
    "scrolled": false
   },
   "outputs": [
    {
     "data": {
      "image/png": "[encoded data removed]",
      "text/plain": [
       "<Figure size 500x500 with 1 Axes>"
      ]
     },
     "metadata": {},
     "output_type": "display_data"
    }
   ],
   "source": [
    "plt.style.use('default')\n",
    "total=data.isnull().sum()\n",
    "percent=data.isnull().sum()/data.isnull().count()*100\n",
    "missing_data=pd.concat([total,percent],axis=1, keys=['total', 'percent'])\n",
    "\n",
    "plt.subplots(figsize=(5, 5))\n",
    "g = sns.barplot(y=missing_data.index,x=missing_data['percent'])\n",
    "g.set(yticklabels=[])\n",
    "\n",
    "plt.xlim(0, 100)\n",
    "plt.ylabel('Features', fontsize=15)\n",
    "plt.xlabel('Percent', fontsize=15)\n",
    "plt.title('Missing data by feature', fontsize=15)\n",
    "plt.show()"
   ]
  },
  {
   "cell_type": "code",
   "execution_count": 13,
   "metadata": {},
   "outputs": [
    {
     "name": "stdout",
     "output_type": "stream",
     "text": [
      "id rows   144233\n",
      "tn rows   590540\n",
      "data rows 144233\n"
     ]
    }
   ],
   "source": [
    "print('id rows   %.f' %len(id))\n",
    "print('tn rows   %.f'   %len(tn))\n",
    "print('data rows %.f' %len(data))"
   ]
  },
  {
   "cell_type": "code",
   "execution_count": 14,
   "metadata": {
    "scrolled": true
   },
   "outputs": [
    {
     "name": "stdout",
     "output_type": "stream",
     "text": [
      "unmatched data entry 175844958\n",
      "unmatched data       73.70%\n",
      "\n",
      "Missing data entry 16834880\n",
      "Total data entry   62597122\n",
      "Missing data:      73.70%\n",
      "\n",
      "Columns with missing values 412\n",
      "total columns               434\n",
      "Rows with missing values 144233\n",
      "total rows               144233\n"
     ]
    }
   ],
   "source": [
    "tmp = id.size + tn.size - data.size - len(data)\n",
    "percent = tmp/(id.size + tn.size)*100\n",
    "print('unmatched data entry %.f' % tmp)\n",
    "print('unmatched data       %.2f%%\\n' % percent)\n",
    "\n",
    "missing = data.isnull().sum().sum()\n",
    "total = data.size\n",
    "percent1 = missing/total*100\n",
    "print('Missing data entry %.f' % missing)\n",
    "print('Total data entry   %.f' % total)\n",
    "print('Missing data:      %.2f%%\\n' % percent)\n",
    "\n",
    "tmp1 = data.isnull().any(axis = 0).sum()\n",
    "print('Columns with missing values %.f' %tmp1)\n",
    "print('total columns               %.f' %len(data.columns))\n",
    "\n",
    "tmp2 = data.isnull().any(axis = 1).sum()\n",
    "print('Rows with missing values %.f' %tmp2)\n",
    "print('total rows               %.f' %len(data))"
   ]
  },
  {
   "cell_type": "markdown",
   "metadata": {},
   "source": [
    "# 2. Data cleaning"
   ]
  },
  {
   "cell_type": "markdown",
   "metadata": {},
   "source": [
    "### Treating missing value is tricky for data pre-processing. \n",
    "- Each row has missing value. A few columns have more than 50% data of missing values. Total missing data in percentage is 26.9%.\n",
    "- Features with over 90% data of missing values will be discarded. For the rest, the missing values will be replaced with mean.\n",
    "- Considering the potential data leakage, the data jettison will be performed first, splitting data second, and replacing missing values last."
   ]
  },
  {
   "cell_type": "code",
   "execution_count": 15,
   "metadata": {},
   "outputs": [
    {
     "data": {
      "image/png": "[encoded data removed]",
      "text/plain": [
       "<Figure size 640x480 with 1 Axes>"
      ]
     },
     "metadata": {},
     "output_type": "display_data"
    }
   ],
   "source": [
    "import numpy as np\n",
    "sns.countplot(x='isFraud',data=data)\n",
    "plt.xticks( np.arange(2), ['normal', 'fraud'] )\n",
    "plt.title('data',fontsize= 18)\n",
    "plt.xlabel('Number',fontsize = 15)\n",
    "plt.ylabel('Transaction',fontsize = 15)\n",
    "labels = (data['isFraud'].value_counts())\n",
    "for i, v in enumerate(labels):\n",
    "    plt.text(i, v, str(v), ha = 'center', size = 14, color = 'r')\n",
    "plt.show()"
   ]
  },
  {
   "cell_type": "markdown",
   "metadata": {},
   "source": [
    "### 2.1. Remove columns with over 90% data missing "
   ]
  },
  {
   "cell_type": "code",
   "execution_count": 16,
   "metadata": {},
   "outputs": [],
   "source": [
    "data_1 = data.dropna(axis=1, thresh=len(data)*0.1)"
   ]
  },
  {
   "cell_type": "code",
   "execution_count": 17,
   "metadata": {
    "scrolled": false
   },
   "outputs": [
    {
     "data": {
      "image/png": "[encoded data removed]",
      "text/plain": [
       "<Figure size 500x500 with 1 Axes>"
      ]
     },
     "metadata": {},
     "output_type": "display_data"
    }
   ],
   "source": [
    "plt.style.use('default')\n",
    "total1=data_1.isnull().sum()\n",
    "percent1=data_1.isnull().sum()/data_1.isnull().count()*100\n",
    "missing_data1=pd.concat([total1,percent1],axis=1, keys=['total', 'percent'])\n",
    "\n",
    "plt.subplots(figsize=(5, 5))\n",
    "g = sns.barplot(y=missing_data1.index,x=missing_data1['percent'])\n",
    "g.set(yticklabels=[])\n",
    "\n",
    "plt.ylabel('Features', fontsize=15)\n",
    "plt.xlabel('Percent', fontsize=15)\n",
    "plt.xlim(0, 100)\n",
    "plt.title('Missing data by feature (after jettison)', fontsize=15)\n",
    "plt.show()"
   ]
  },
  {
   "cell_type": "code",
   "execution_count": 18,
   "metadata": {},
   "outputs": [
    {
     "name": "stdout",
     "output_type": "stream",
     "text": [
      "Data preserved: 93.09%\n",
      "\n"
     ]
    }
   ],
   "source": [
    "tmp = data_1.size/data.size*100\n",
    "print('Data preserved: %.2f%%\\n' % tmp)"
   ]
  },
  {
   "cell_type": "markdown",
   "metadata": {},
   "source": [
    "### 2.2. Splitting data: 80% for training and 20% for testing"
   ]
  },
  {
   "cell_type": "code",
   "execution_count": 19,
   "metadata": {},
   "outputs": [],
   "source": [
    "X = data_1.drop('isFraud', axis=1)\n",
    "y = data_1['isFraud'].copy()"
   ]
  },
  {
   "cell_type": "code",
   "execution_count": 20,
   "metadata": {},
   "outputs": [],
   "source": [
    "from sklearn.model_selection import train_test_split\n",
    "X_train, X_test, y_train, y_test = train_test_split(X, y, test_size = 0.2, random_state = 13)"
   ]
  },
  {
   "cell_type": "code",
   "execution_count": 21,
   "metadata": {
    "scrolled": true
   },
   "outputs": [
    {
     "name": "stdout",
     "output_type": "stream",
     "text": [
      "Testing data: 20.5%\n",
      "\n"
     ]
    }
   ],
   "source": [
    "tmp = y_test.sum(axis=0)/y.sum(axis=0)*100\n",
    "print('Testing data: %.1f%%\\n' % tmp)"
   ]
  },
  {
   "cell_type": "code",
   "execution_count": 22,
   "metadata": {
    "scrolled": true
   },
   "outputs": [
    {
     "data": {
      "text/plain": [
       "122872    0\n",
       "54800     0\n",
       "109241    1\n",
       "5569      0\n",
       "1874      0\n",
       "Name: isFraud, dtype: int64"
      ]
     },
     "execution_count": 22,
     "metadata": {},
     "output_type": "execute_result"
    }
   ],
   "source": [
    "y_train.head()"
   ]
  },
  {
   "cell_type": "markdown",
   "metadata": {},
   "source": [
    "##### Manually split the dataset for the convenience of data wrangling"
   ]
  },
  {
   "cell_type": "code",
   "execution_count": 23,
   "metadata": {},
   "outputs": [],
   "source": [
    "normal = data_1[data_1['isFraud'] == 0]\n",
    "fraud = data_1[data_1['isFraud'] == 1]\n",
    "# shuffle\n",
    "normal_r = normal.sample(frac=1)\n",
    "fraud_r = fraud.sample(frac=1)\n",
    "# 80% for training and 20% for testing.\n",
    "normal_1 = normal_r[:106332]\n",
    "normal_2 = normal_r[106333:]\n",
    "fraud_1 = fraud_r[:9054]\n",
    "fraud_2 = fraud_r[9055:]\n",
    "train = pd.concat([normal_1, fraud_1])\n",
    "test = pd.concat([normal_2, fraud_2])"
   ]
  },
  {
   "cell_type": "markdown",
   "metadata": {},
   "source": [
    "### Double check the data features"
   ]
  },
  {
   "cell_type": "code",
   "execution_count": 24,
   "metadata": {},
   "outputs": [
    {
     "name": "stdout",
     "output_type": "stream",
     "text": [
      "(115386, 404)\n",
      "(28845, 404)\n"
     ]
    }
   ],
   "source": [
    "print(train.shape)\n",
    "print(test.shape)"
   ]
  },
  {
   "cell_type": "code",
   "execution_count": 25,
   "metadata": {
    "scrolled": true
   },
   "outputs": [
    {
     "data": {
      "text/html": [
       "<div>\n",
       "<style scoped>\n",
       "    .dataframe tbody tr th:only-of-type {\n",
       "        vertical-align: middle;\n",
       "    }\n",
       "\n",
       "    .dataframe tbody tr th {\n",
       "        vertical-align: top;\n",
       "    }\n",
       "\n",
       "    .dataframe thead th {\n",
       "        text-align: right;\n",
       "    }\n",
       "</style>\n",
       "<table border=\"1\" class=\"dataframe\">\n",
       "  <thead>\n",
       "    <tr style=\"text-align: right;\">\n",
       "      <th></th>\n",
       "      <th>TransactionID</th>\n",
       "      <th>isFraud</th>\n",
       "      <th>TransactionDT</th>\n",
       "      <th>TransactionAmt</th>\n",
       "      <th>ProductCD</th>\n",
       "      <th>card1</th>\n",
       "      <th>card2</th>\n",
       "      <th>card3</th>\n",
       "      <th>card4</th>\n",
       "      <th>card5</th>\n",
       "      <th>...</th>\n",
       "      <th>id_31</th>\n",
       "      <th>id_32</th>\n",
       "      <th>id_33</th>\n",
       "      <th>id_34</th>\n",
       "      <th>id_35</th>\n",
       "      <th>id_36</th>\n",
       "      <th>id_37</th>\n",
       "      <th>id_38</th>\n",
       "      <th>DeviceType</th>\n",
       "      <th>DeviceInfo</th>\n",
       "    </tr>\n",
       "  </thead>\n",
       "  <tbody>\n",
       "    <tr>\n",
       "      <th>90098</th>\n",
       "      <td>3292580</td>\n",
       "      <td>0</td>\n",
       "      <td>7589513</td>\n",
       "      <td>13.534</td>\n",
       "      <td>C</td>\n",
       "      <td>1976</td>\n",
       "      <td>545.0</td>\n",
       "      <td>185.0</td>\n",
       "      <td>visa</td>\n",
       "      <td>102.0</td>\n",
       "      <td>...</td>\n",
       "      <td>chrome 64.0 for android</td>\n",
       "      <td>NaN</td>\n",
       "      <td>NaN</td>\n",
       "      <td>NaN</td>\n",
       "      <td>F</td>\n",
       "      <td>F</td>\n",
       "      <td>T</td>\n",
       "      <td>F</td>\n",
       "      <td>mobile</td>\n",
       "      <td>BLL-L23 Build/HUAWEIBLL-L23</td>\n",
       "    </tr>\n",
       "    <tr>\n",
       "      <th>36067</th>\n",
       "      <td>3077163</td>\n",
       "      <td>0</td>\n",
       "      <td>1885634</td>\n",
       "      <td>53.986</td>\n",
       "      <td>C</td>\n",
       "      <td>1976</td>\n",
       "      <td>545.0</td>\n",
       "      <td>185.0</td>\n",
       "      <td>visa</td>\n",
       "      <td>102.0</td>\n",
       "      <td>...</td>\n",
       "      <td>mobile safari 11.0</td>\n",
       "      <td>NaN</td>\n",
       "      <td>NaN</td>\n",
       "      <td>NaN</td>\n",
       "      <td>F</td>\n",
       "      <td>F</td>\n",
       "      <td>F</td>\n",
       "      <td>T</td>\n",
       "      <td>mobile</td>\n",
       "      <td>NaN</td>\n",
       "    </tr>\n",
       "    <tr>\n",
       "      <th>18371</th>\n",
       "      <td>3041583</td>\n",
       "      <td>0</td>\n",
       "      <td>1278552</td>\n",
       "      <td>100.000</td>\n",
       "      <td>H</td>\n",
       "      <td>5955</td>\n",
       "      <td>414.0</td>\n",
       "      <td>143.0</td>\n",
       "      <td>visa</td>\n",
       "      <td>147.0</td>\n",
       "      <td>...</td>\n",
       "      <td>ie 11.0 for desktop</td>\n",
       "      <td>24.0</td>\n",
       "      <td>1280x1024</td>\n",
       "      <td>match_status:2</td>\n",
       "      <td>T</td>\n",
       "      <td>T</td>\n",
       "      <td>T</td>\n",
       "      <td>T</td>\n",
       "      <td>desktop</td>\n",
       "      <td>Trident/7.0</td>\n",
       "    </tr>\n",
       "    <tr>\n",
       "      <th>56618</th>\n",
       "      <td>3116004</td>\n",
       "      <td>0</td>\n",
       "      <td>2568946</td>\n",
       "      <td>82.553</td>\n",
       "      <td>C</td>\n",
       "      <td>12377</td>\n",
       "      <td>555.0</td>\n",
       "      <td>213.0</td>\n",
       "      <td>mastercard</td>\n",
       "      <td>166.0</td>\n",
       "      <td>...</td>\n",
       "      <td>chrome 63.0 for android</td>\n",
       "      <td>NaN</td>\n",
       "      <td>NaN</td>\n",
       "      <td>NaN</td>\n",
       "      <td>F</td>\n",
       "      <td>F</td>\n",
       "      <td>T</td>\n",
       "      <td>T</td>\n",
       "      <td>mobile</td>\n",
       "      <td>SM-T705</td>\n",
       "    </tr>\n",
       "    <tr>\n",
       "      <th>131986</th>\n",
       "      <td>3522854</td>\n",
       "      <td>0</td>\n",
       "      <td>14125633</td>\n",
       "      <td>47.340</td>\n",
       "      <td>C</td>\n",
       "      <td>3154</td>\n",
       "      <td>408.0</td>\n",
       "      <td>185.0</td>\n",
       "      <td>mastercard</td>\n",
       "      <td>224.0</td>\n",
       "      <td>...</td>\n",
       "      <td>chrome 66.0 for android</td>\n",
       "      <td>NaN</td>\n",
       "      <td>NaN</td>\n",
       "      <td>NaN</td>\n",
       "      <td>F</td>\n",
       "      <td>F</td>\n",
       "      <td>T</td>\n",
       "      <td>F</td>\n",
       "      <td>mobile</td>\n",
       "      <td>SM-G531H Build/LMY48B</td>\n",
       "    </tr>\n",
       "  </tbody>\n",
       "</table>\n",
       "<p>5 rows × 404 columns</p>\n",
       "</div>"
      ],
      "text/plain": [
       "        TransactionID  isFraud  TransactionDT  TransactionAmt ProductCD  \\\n",
       "90098         3292580        0        7589513          13.534         C   \n",
       "36067         3077163        0        1885634          53.986         C   \n",
       "18371         3041583        0        1278552         100.000         H   \n",
       "56618         3116004        0        2568946          82.553         C   \n",
       "131986        3522854        0       14125633          47.340         C   \n",
       "\n",
       "        card1  card2  card3       card4  card5  ...                    id_31  \\\n",
       "90098    1976  545.0  185.0        visa  102.0  ...  chrome 64.0 for android   \n",
       "36067    1976  545.0  185.0        visa  102.0  ...       mobile safari 11.0   \n",
       "18371    5955  414.0  143.0        visa  147.0  ...      ie 11.0 for desktop   \n",
       "56618   12377  555.0  213.0  mastercard  166.0  ...  chrome 63.0 for android   \n",
       "131986   3154  408.0  185.0  mastercard  224.0  ...  chrome 66.0 for android   \n",
       "\n",
       "        id_32      id_33           id_34 id_35 id_36  id_37  id_38  \\\n",
       "90098     NaN        NaN             NaN     F     F      T      F   \n",
       "36067     NaN        NaN             NaN     F     F      F      T   \n",
       "18371    24.0  1280x1024  match_status:2     T     T      T      T   \n",
       "56618     NaN        NaN             NaN     F     F      T      T   \n",
       "131986    NaN        NaN             NaN     F     F      T      F   \n",
       "\n",
       "        DeviceType                   DeviceInfo  \n",
       "90098       mobile  BLL-L23 Build/HUAWEIBLL-L23  \n",
       "36067       mobile                          NaN  \n",
       "18371      desktop                  Trident/7.0  \n",
       "56618       mobile                      SM-T705  \n",
       "131986      mobile        SM-G531H Build/LMY48B  \n",
       "\n",
       "[5 rows x 404 columns]"
      ]
     },
     "execution_count": 25,
     "metadata": {},
     "output_type": "execute_result"
    }
   ],
   "source": [
    "train.head()"
   ]
  },
  {
   "cell_type": "code",
   "execution_count": 26,
   "metadata": {
    "scrolled": false
   },
   "outputs": [
    {
     "data": {
      "text/html": [
       "<div>\n",
       "<style scoped>\n",
       "    .dataframe tbody tr th:only-of-type {\n",
       "        vertical-align: middle;\n",
       "    }\n",
       "\n",
       "    .dataframe tbody tr th {\n",
       "        vertical-align: top;\n",
       "    }\n",
       "\n",
       "    .dataframe thead th {\n",
       "        text-align: right;\n",
       "    }\n",
       "</style>\n",
       "<table border=\"1\" class=\"dataframe\">\n",
       "  <thead>\n",
       "    <tr style=\"text-align: right;\">\n",
       "      <th></th>\n",
       "      <th>card4</th>\n",
       "      <th>id_31</th>\n",
       "      <th>DeviceType</th>\n",
       "      <th>DeviceInfo</th>\n",
       "    </tr>\n",
       "  </thead>\n",
       "  <tbody>\n",
       "    <tr>\n",
       "      <th>90098</th>\n",
       "      <td>visa</td>\n",
       "      <td>chrome 64.0 for android</td>\n",
       "      <td>mobile</td>\n",
       "      <td>BLL-L23 Build/HUAWEIBLL-L23</td>\n",
       "    </tr>\n",
       "    <tr>\n",
       "      <th>36067</th>\n",
       "      <td>visa</td>\n",
       "      <td>mobile safari 11.0</td>\n",
       "      <td>mobile</td>\n",
       "      <td>NaN</td>\n",
       "    </tr>\n",
       "    <tr>\n",
       "      <th>18371</th>\n",
       "      <td>visa</td>\n",
       "      <td>ie 11.0 for desktop</td>\n",
       "      <td>desktop</td>\n",
       "      <td>Trident/7.0</td>\n",
       "    </tr>\n",
       "    <tr>\n",
       "      <th>56618</th>\n",
       "      <td>mastercard</td>\n",
       "      <td>chrome 63.0 for android</td>\n",
       "      <td>mobile</td>\n",
       "      <td>SM-T705</td>\n",
       "    </tr>\n",
       "    <tr>\n",
       "      <th>131986</th>\n",
       "      <td>mastercard</td>\n",
       "      <td>chrome 66.0 for android</td>\n",
       "      <td>mobile</td>\n",
       "      <td>SM-G531H Build/LMY48B</td>\n",
       "    </tr>\n",
       "    <tr>\n",
       "      <th>...</th>\n",
       "      <td>...</td>\n",
       "      <td>...</td>\n",
       "      <td>...</td>\n",
       "      <td>...</td>\n",
       "    </tr>\n",
       "    <tr>\n",
       "      <th>121977</th>\n",
       "      <td>visa</td>\n",
       "      <td>chrome 65.0</td>\n",
       "      <td>desktop</td>\n",
       "      <td>Windows</td>\n",
       "    </tr>\n",
       "    <tr>\n",
       "      <th>2816</th>\n",
       "      <td>mastercard</td>\n",
       "      <td>chrome 56.0 for android</td>\n",
       "      <td>mobile</td>\n",
       "      <td>5011A Build/NRD90M</td>\n",
       "    </tr>\n",
       "    <tr>\n",
       "      <th>75283</th>\n",
       "      <td>visa</td>\n",
       "      <td>chrome 63.0 for android</td>\n",
       "      <td>mobile</td>\n",
       "      <td>HUAWEI VNS-L23 Build/HUAWEIVNS-L23</td>\n",
       "    </tr>\n",
       "    <tr>\n",
       "      <th>76346</th>\n",
       "      <td>visa</td>\n",
       "      <td>chrome 63.0</td>\n",
       "      <td>desktop</td>\n",
       "      <td>Windows</td>\n",
       "    </tr>\n",
       "    <tr>\n",
       "      <th>111470</th>\n",
       "      <td>visa</td>\n",
       "      <td>chrome 65.0 for android</td>\n",
       "      <td>mobile</td>\n",
       "      <td>LG-H650 Build/MRA58K</td>\n",
       "    </tr>\n",
       "  </tbody>\n",
       "</table>\n",
       "<p>115386 rows × 4 columns</p>\n",
       "</div>"
      ],
      "text/plain": [
       "             card4                    id_31 DeviceType  \\\n",
       "90098         visa  chrome 64.0 for android     mobile   \n",
       "36067         visa       mobile safari 11.0     mobile   \n",
       "18371         visa      ie 11.0 for desktop    desktop   \n",
       "56618   mastercard  chrome 63.0 for android     mobile   \n",
       "131986  mastercard  chrome 66.0 for android     mobile   \n",
       "...            ...                      ...        ...   \n",
       "121977        visa              chrome 65.0    desktop   \n",
       "2816    mastercard  chrome 56.0 for android     mobile   \n",
       "75283         visa  chrome 63.0 for android     mobile   \n",
       "76346         visa              chrome 63.0    desktop   \n",
       "111470        visa  chrome 65.0 for android     mobile   \n",
       "\n",
       "                                DeviceInfo  \n",
       "90098          BLL-L23 Build/HUAWEIBLL-L23  \n",
       "36067                                  NaN  \n",
       "18371                          Trident/7.0  \n",
       "56618                              SM-T705  \n",
       "131986               SM-G531H Build/LMY48B  \n",
       "...                                    ...  \n",
       "121977                             Windows  \n",
       "2816                    5011A Build/NRD90M  \n",
       "75283   HUAWEI VNS-L23 Build/HUAWEIVNS-L23  \n",
       "76346                              Windows  \n",
       "111470                LG-H650 Build/MRA58K  \n",
       "\n",
       "[115386 rows x 4 columns]"
      ]
     },
     "execution_count": 26,
     "metadata": {},
     "output_type": "execute_result"
    }
   ],
   "source": [
    "train[['card4','id_31','DeviceType','DeviceInfo']]"
   ]
  },
  {
   "cell_type": "markdown",
   "metadata": {},
   "source": [
    "### 2.3. Replacing missing value with mean"
   ]
  },
  {
   "cell_type": "code",
   "execution_count": 27,
   "metadata": {},
   "outputs": [],
   "source": [
    "train_m = train.fillna(train.mean())"
   ]
  },
  {
   "cell_type": "code",
   "execution_count": 28,
   "metadata": {
    "scrolled": false
   },
   "outputs": [
    {
     "data": {
      "text/html": [
       "<div>\n",
       "<style scoped>\n",
       "    .dataframe tbody tr th:only-of-type {\n",
       "        vertical-align: middle;\n",
       "    }\n",
       "\n",
       "    .dataframe tbody tr th {\n",
       "        vertical-align: top;\n",
       "    }\n",
       "\n",
       "    .dataframe thead th {\n",
       "        text-align: right;\n",
       "    }\n",
       "</style>\n",
       "<table border=\"1\" class=\"dataframe\">\n",
       "  <thead>\n",
       "    <tr style=\"text-align: right;\">\n",
       "      <th></th>\n",
       "      <th>TransactionID</th>\n",
       "      <th>isFraud</th>\n",
       "      <th>TransactionDT</th>\n",
       "      <th>TransactionAmt</th>\n",
       "      <th>ProductCD</th>\n",
       "      <th>card1</th>\n",
       "      <th>card2</th>\n",
       "      <th>card3</th>\n",
       "      <th>card4</th>\n",
       "      <th>card5</th>\n",
       "      <th>...</th>\n",
       "      <th>id_31</th>\n",
       "      <th>id_32</th>\n",
       "      <th>id_33</th>\n",
       "      <th>id_34</th>\n",
       "      <th>id_35</th>\n",
       "      <th>id_36</th>\n",
       "      <th>id_37</th>\n",
       "      <th>id_38</th>\n",
       "      <th>DeviceType</th>\n",
       "      <th>DeviceInfo</th>\n",
       "    </tr>\n",
       "  </thead>\n",
       "  <tbody>\n",
       "    <tr>\n",
       "      <th>90098</th>\n",
       "      <td>3292580</td>\n",
       "      <td>0</td>\n",
       "      <td>7589513</td>\n",
       "      <td>13.534</td>\n",
       "      <td>C</td>\n",
       "      <td>1976</td>\n",
       "      <td>545.0</td>\n",
       "      <td>185.0</td>\n",
       "      <td>visa</td>\n",
       "      <td>102.0</td>\n",
       "      <td>...</td>\n",
       "      <td>chrome 64.0 for android</td>\n",
       "      <td>26.501927</td>\n",
       "      <td>NaN</td>\n",
       "      <td>NaN</td>\n",
       "      <td>F</td>\n",
       "      <td>F</td>\n",
       "      <td>T</td>\n",
       "      <td>F</td>\n",
       "      <td>mobile</td>\n",
       "      <td>BLL-L23 Build/HUAWEIBLL-L23</td>\n",
       "    </tr>\n",
       "    <tr>\n",
       "      <th>36067</th>\n",
       "      <td>3077163</td>\n",
       "      <td>0</td>\n",
       "      <td>1885634</td>\n",
       "      <td>53.986</td>\n",
       "      <td>C</td>\n",
       "      <td>1976</td>\n",
       "      <td>545.0</td>\n",
       "      <td>185.0</td>\n",
       "      <td>visa</td>\n",
       "      <td>102.0</td>\n",
       "      <td>...</td>\n",
       "      <td>mobile safari 11.0</td>\n",
       "      <td>26.501927</td>\n",
       "      <td>NaN</td>\n",
       "      <td>NaN</td>\n",
       "      <td>F</td>\n",
       "      <td>F</td>\n",
       "      <td>F</td>\n",
       "      <td>T</td>\n",
       "      <td>mobile</td>\n",
       "      <td>NaN</td>\n",
       "    </tr>\n",
       "    <tr>\n",
       "      <th>18371</th>\n",
       "      <td>3041583</td>\n",
       "      <td>0</td>\n",
       "      <td>1278552</td>\n",
       "      <td>100.000</td>\n",
       "      <td>H</td>\n",
       "      <td>5955</td>\n",
       "      <td>414.0</td>\n",
       "      <td>143.0</td>\n",
       "      <td>visa</td>\n",
       "      <td>147.0</td>\n",
       "      <td>...</td>\n",
       "      <td>ie 11.0 for desktop</td>\n",
       "      <td>24.000000</td>\n",
       "      <td>1280x1024</td>\n",
       "      <td>match_status:2</td>\n",
       "      <td>T</td>\n",
       "      <td>T</td>\n",
       "      <td>T</td>\n",
       "      <td>T</td>\n",
       "      <td>desktop</td>\n",
       "      <td>Trident/7.0</td>\n",
       "    </tr>\n",
       "    <tr>\n",
       "      <th>56618</th>\n",
       "      <td>3116004</td>\n",
       "      <td>0</td>\n",
       "      <td>2568946</td>\n",
       "      <td>82.553</td>\n",
       "      <td>C</td>\n",
       "      <td>12377</td>\n",
       "      <td>555.0</td>\n",
       "      <td>213.0</td>\n",
       "      <td>mastercard</td>\n",
       "      <td>166.0</td>\n",
       "      <td>...</td>\n",
       "      <td>chrome 63.0 for android</td>\n",
       "      <td>26.501927</td>\n",
       "      <td>NaN</td>\n",
       "      <td>NaN</td>\n",
       "      <td>F</td>\n",
       "      <td>F</td>\n",
       "      <td>T</td>\n",
       "      <td>T</td>\n",
       "      <td>mobile</td>\n",
       "      <td>SM-T705</td>\n",
       "    </tr>\n",
       "    <tr>\n",
       "      <th>131986</th>\n",
       "      <td>3522854</td>\n",
       "      <td>0</td>\n",
       "      <td>14125633</td>\n",
       "      <td>47.340</td>\n",
       "      <td>C</td>\n",
       "      <td>3154</td>\n",
       "      <td>408.0</td>\n",
       "      <td>185.0</td>\n",
       "      <td>mastercard</td>\n",
       "      <td>224.0</td>\n",
       "      <td>...</td>\n",
       "      <td>chrome 66.0 for android</td>\n",
       "      <td>26.501927</td>\n",
       "      <td>NaN</td>\n",
       "      <td>NaN</td>\n",
       "      <td>F</td>\n",
       "      <td>F</td>\n",
       "      <td>T</td>\n",
       "      <td>F</td>\n",
       "      <td>mobile</td>\n",
       "      <td>SM-G531H Build/LMY48B</td>\n",
       "    </tr>\n",
       "  </tbody>\n",
       "</table>\n",
       "<p>5 rows × 404 columns</p>\n",
       "</div>"
      ],
      "text/plain": [
       "        TransactionID  isFraud  TransactionDT  TransactionAmt ProductCD  \\\n",
       "90098         3292580        0        7589513          13.534         C   \n",
       "36067         3077163        0        1885634          53.986         C   \n",
       "18371         3041583        0        1278552         100.000         H   \n",
       "56618         3116004        0        2568946          82.553         C   \n",
       "131986        3522854        0       14125633          47.340         C   \n",
       "\n",
       "        card1  card2  card3       card4  card5  ...                    id_31  \\\n",
       "90098    1976  545.0  185.0        visa  102.0  ...  chrome 64.0 for android   \n",
       "36067    1976  545.0  185.0        visa  102.0  ...       mobile safari 11.0   \n",
       "18371    5955  414.0  143.0        visa  147.0  ...      ie 11.0 for desktop   \n",
       "56618   12377  555.0  213.0  mastercard  166.0  ...  chrome 63.0 for android   \n",
       "131986   3154  408.0  185.0  mastercard  224.0  ...  chrome 66.0 for android   \n",
       "\n",
       "            id_32      id_33           id_34 id_35 id_36  id_37  id_38  \\\n",
       "90098   26.501927        NaN             NaN     F     F      T      F   \n",
       "36067   26.501927        NaN             NaN     F     F      F      T   \n",
       "18371   24.000000  1280x1024  match_status:2     T     T      T      T   \n",
       "56618   26.501927        NaN             NaN     F     F      T      T   \n",
       "131986  26.501927        NaN             NaN     F     F      T      F   \n",
       "\n",
       "        DeviceType                   DeviceInfo  \n",
       "90098       mobile  BLL-L23 Build/HUAWEIBLL-L23  \n",
       "36067       mobile                          NaN  \n",
       "18371      desktop                  Trident/7.0  \n",
       "56618       mobile                      SM-T705  \n",
       "131986      mobile        SM-G531H Build/LMY48B  \n",
       "\n",
       "[5 rows x 404 columns]"
      ]
     },
     "execution_count": 28,
     "metadata": {},
     "output_type": "execute_result"
    }
   ],
   "source": [
    "train_m.head()"
   ]
  },
  {
   "cell_type": "code",
   "execution_count": 29,
   "metadata": {},
   "outputs": [],
   "source": [
    "test_m = test.fillna(test.mean())"
   ]
  },
  {
   "cell_type": "markdown",
   "metadata": {},
   "source": [
    "## 3. Feature Selection"
   ]
  },
  {
   "cell_type": "markdown",
   "metadata": {},
   "source": [
    "### 3.1. Use encoder: non-numerical value --- > numberical value"
   ]
  },
  {
   "cell_type": "code",
   "execution_count": 30,
   "metadata": {},
   "outputs": [],
   "source": [
    "from sklearn import preprocessing\n",
    "import warnings\n",
    "warnings.filterwarnings('ignore')"
   ]
  },
  {
   "cell_type": "code",
   "execution_count": 31,
   "metadata": {},
   "outputs": [],
   "source": [
    "for f in train_m.columns:\n",
    "    if train_m[f].dtype=='object': \n",
    "        le = preprocessing.LabelEncoder()\n",
    "        le.fit(list(train_m[f].values))\n",
    "        train_m[f] = le.transform(list(train_m[f].values))"
   ]
  },
  {
   "cell_type": "code",
   "execution_count": 32,
   "metadata": {},
   "outputs": [
    {
     "data": {
      "text/html": [
       "<div>\n",
       "<style scoped>\n",
       "    .dataframe tbody tr th:only-of-type {\n",
       "        vertical-align: middle;\n",
       "    }\n",
       "\n",
       "    .dataframe tbody tr th {\n",
       "        vertical-align: top;\n",
       "    }\n",
       "\n",
       "    .dataframe thead th {\n",
       "        text-align: right;\n",
       "    }\n",
       "</style>\n",
       "<table border=\"1\" class=\"dataframe\">\n",
       "  <thead>\n",
       "    <tr style=\"text-align: right;\">\n",
       "      <th></th>\n",
       "      <th>card4</th>\n",
       "      <th>id_31</th>\n",
       "      <th>DeviceType</th>\n",
       "      <th>DeviceInfo</th>\n",
       "    </tr>\n",
       "  </thead>\n",
       "  <tbody>\n",
       "    <tr>\n",
       "      <th>90098</th>\n",
       "      <td>4</td>\n",
       "      <td>49</td>\n",
       "      <td>1</td>\n",
       "      <td>153</td>\n",
       "    </tr>\n",
       "    <tr>\n",
       "      <th>36067</th>\n",
       "      <td>4</td>\n",
       "      <td>95</td>\n",
       "      <td>1</td>\n",
       "      <td>1649</td>\n",
       "    </tr>\n",
       "    <tr>\n",
       "      <th>18371</th>\n",
       "      <td>4</td>\n",
       "      <td>88</td>\n",
       "      <td>0</td>\n",
       "      <td>1468</td>\n",
       "    </tr>\n",
       "    <tr>\n",
       "      <th>56618</th>\n",
       "      <td>2</td>\n",
       "      <td>46</td>\n",
       "      <td>1</td>\n",
       "      <td>1405</td>\n",
       "    </tr>\n",
       "    <tr>\n",
       "      <th>131986</th>\n",
       "      <td>2</td>\n",
       "      <td>55</td>\n",
       "      <td>1</td>\n",
       "      <td>1135</td>\n",
       "    </tr>\n",
       "    <tr>\n",
       "      <th>...</th>\n",
       "      <td>...</td>\n",
       "      <td>...</td>\n",
       "      <td>...</td>\n",
       "      <td>...</td>\n",
       "    </tr>\n",
       "    <tr>\n",
       "      <th>121977</th>\n",
       "      <td>4</td>\n",
       "      <td>51</td>\n",
       "      <td>0</td>\n",
       "      <td>1512</td>\n",
       "    </tr>\n",
       "    <tr>\n",
       "      <th>2816</th>\n",
       "      <td>2</td>\n",
       "      <td>31</td>\n",
       "      <td>1</td>\n",
       "      <td>16</td>\n",
       "    </tr>\n",
       "    <tr>\n",
       "      <th>75283</th>\n",
       "      <td>4</td>\n",
       "      <td>46</td>\n",
       "      <td>1</td>\n",
       "      <td>392</td>\n",
       "    </tr>\n",
       "    <tr>\n",
       "      <th>76346</th>\n",
       "      <td>4</td>\n",
       "      <td>45</td>\n",
       "      <td>0</td>\n",
       "      <td>1512</td>\n",
       "    </tr>\n",
       "    <tr>\n",
       "      <th>111470</th>\n",
       "      <td>4</td>\n",
       "      <td>52</td>\n",
       "      <td>1</td>\n",
       "      <td>498</td>\n",
       "    </tr>\n",
       "  </tbody>\n",
       "</table>\n",
       "<p>115386 rows × 4 columns</p>\n",
       "</div>"
      ],
      "text/plain": [
       "        card4  id_31  DeviceType  DeviceInfo\n",
       "90098       4     49           1         153\n",
       "36067       4     95           1        1649\n",
       "18371       4     88           0        1468\n",
       "56618       2     46           1        1405\n",
       "131986      2     55           1        1135\n",
       "...       ...    ...         ...         ...\n",
       "121977      4     51           0        1512\n",
       "2816        2     31           1          16\n",
       "75283       4     46           1         392\n",
       "76346       4     45           0        1512\n",
       "111470      4     52           1         498\n",
       "\n",
       "[115386 rows x 4 columns]"
      ]
     },
     "execution_count": 32,
     "metadata": {},
     "output_type": "execute_result"
    }
   ],
   "source": [
    "train_m[['card4','id_31','DeviceType','DeviceInfo']]"
   ]
  },
  {
   "cell_type": "code",
   "execution_count": 33,
   "metadata": {},
   "outputs": [
    {
     "data": {
      "text/html": [
       "<div>\n",
       "<style scoped>\n",
       "    .dataframe tbody tr th:only-of-type {\n",
       "        vertical-align: middle;\n",
       "    }\n",
       "\n",
       "    .dataframe tbody tr th {\n",
       "        vertical-align: top;\n",
       "    }\n",
       "\n",
       "    .dataframe thead th {\n",
       "        text-align: right;\n",
       "    }\n",
       "</style>\n",
       "<table border=\"1\" class=\"dataframe\">\n",
       "  <thead>\n",
       "    <tr style=\"text-align: right;\">\n",
       "      <th></th>\n",
       "      <th>card4</th>\n",
       "      <th>id_31</th>\n",
       "      <th>DeviceType</th>\n",
       "      <th>DeviceInfo</th>\n",
       "    </tr>\n",
       "  </thead>\n",
       "  <tbody>\n",
       "    <tr>\n",
       "      <th>131234</th>\n",
       "      <td>visa</td>\n",
       "      <td>mobile safari 11.0</td>\n",
       "      <td>mobile</td>\n",
       "      <td>iOS Device</td>\n",
       "    </tr>\n",
       "    <tr>\n",
       "      <th>124282</th>\n",
       "      <td>visa</td>\n",
       "      <td>chrome 65.0</td>\n",
       "      <td>desktop</td>\n",
       "      <td>Windows</td>\n",
       "    </tr>\n",
       "    <tr>\n",
       "      <th>34329</th>\n",
       "      <td>mastercard</td>\n",
       "      <td>ie 11.0 for tablet</td>\n",
       "      <td>desktop</td>\n",
       "      <td>Trident/7.0</td>\n",
       "    </tr>\n",
       "    <tr>\n",
       "      <th>120439</th>\n",
       "      <td>american express</td>\n",
       "      <td>chrome 65.0</td>\n",
       "      <td>desktop</td>\n",
       "      <td>Windows</td>\n",
       "    </tr>\n",
       "    <tr>\n",
       "      <th>123520</th>\n",
       "      <td>visa</td>\n",
       "      <td>chrome 65.0</td>\n",
       "      <td>desktop</td>\n",
       "      <td>Windows</td>\n",
       "    </tr>\n",
       "    <tr>\n",
       "      <th>...</th>\n",
       "      <td>...</td>\n",
       "      <td>...</td>\n",
       "      <td>...</td>\n",
       "      <td>...</td>\n",
       "    </tr>\n",
       "    <tr>\n",
       "      <th>69502</th>\n",
       "      <td>visa</td>\n",
       "      <td>chrome 63.0</td>\n",
       "      <td>desktop</td>\n",
       "      <td>Windows</td>\n",
       "    </tr>\n",
       "    <tr>\n",
       "      <th>100367</th>\n",
       "      <td>visa</td>\n",
       "      <td>chrome generic</td>\n",
       "      <td>desktop</td>\n",
       "      <td>Windows</td>\n",
       "    </tr>\n",
       "    <tr>\n",
       "      <th>106627</th>\n",
       "      <td>visa</td>\n",
       "      <td>chrome 65.0 for android</td>\n",
       "      <td>mobile</td>\n",
       "      <td>Moto G Play Build/MPIS24.241-15.3-7</td>\n",
       "    </tr>\n",
       "    <tr>\n",
       "      <th>76668</th>\n",
       "      <td>mastercard</td>\n",
       "      <td>mobile safari generic</td>\n",
       "      <td>mobile</td>\n",
       "      <td>iOS Device</td>\n",
       "    </tr>\n",
       "    <tr>\n",
       "      <th>9834</th>\n",
       "      <td>mastercard</td>\n",
       "      <td>chrome 63.0</td>\n",
       "      <td>desktop</td>\n",
       "      <td>Windows</td>\n",
       "    </tr>\n",
       "  </tbody>\n",
       "</table>\n",
       "<p>28845 rows × 4 columns</p>\n",
       "</div>"
      ],
      "text/plain": [
       "                   card4                    id_31 DeviceType  \\\n",
       "131234              visa       mobile safari 11.0     mobile   \n",
       "124282              visa              chrome 65.0    desktop   \n",
       "34329         mastercard       ie 11.0 for tablet    desktop   \n",
       "120439  american express              chrome 65.0    desktop   \n",
       "123520              visa              chrome 65.0    desktop   \n",
       "...                  ...                      ...        ...   \n",
       "69502               visa              chrome 63.0    desktop   \n",
       "100367              visa           chrome generic    desktop   \n",
       "106627              visa  chrome 65.0 for android     mobile   \n",
       "76668         mastercard    mobile safari generic     mobile   \n",
       "9834          mastercard              chrome 63.0    desktop   \n",
       "\n",
       "                                 DeviceInfo  \n",
       "131234                           iOS Device  \n",
       "124282                              Windows  \n",
       "34329                           Trident/7.0  \n",
       "120439                              Windows  \n",
       "123520                              Windows  \n",
       "...                                     ...  \n",
       "69502                               Windows  \n",
       "100367                              Windows  \n",
       "106627  Moto G Play Build/MPIS24.241-15.3-7  \n",
       "76668                            iOS Device  \n",
       "9834                                Windows  \n",
       "\n",
       "[28845 rows x 4 columns]"
      ]
     },
     "execution_count": 33,
     "metadata": {},
     "output_type": "execute_result"
    }
   ],
   "source": [
    "test[['card4','id_31','DeviceType','DeviceInfo']]"
   ]
  },
  {
   "cell_type": "code",
   "execution_count": 34,
   "metadata": {},
   "outputs": [],
   "source": [
    "for f in test_m.columns:\n",
    "    if test_m[f].dtype=='object': \n",
    "        le = preprocessing.LabelEncoder()\n",
    "        le.fit(list(test_m[f].values))\n",
    "        test_m[f] = le.transform(list(test_m[f].values))"
   ]
  },
  {
   "cell_type": "code",
   "execution_count": 35,
   "metadata": {},
   "outputs": [
    {
     "data": {
      "text/html": [
       "<div>\n",
       "<style scoped>\n",
       "    .dataframe tbody tr th:only-of-type {\n",
       "        vertical-align: middle;\n",
       "    }\n",
       "\n",
       "    .dataframe tbody tr th {\n",
       "        vertical-align: top;\n",
       "    }\n",
       "\n",
       "    .dataframe thead th {\n",
       "        text-align: right;\n",
       "    }\n",
       "</style>\n",
       "<table border=\"1\" class=\"dataframe\">\n",
       "  <thead>\n",
       "    <tr style=\"text-align: right;\">\n",
       "      <th></th>\n",
       "      <th>card4</th>\n",
       "      <th>id_31</th>\n",
       "      <th>DeviceType</th>\n",
       "      <th>DeviceInfo</th>\n",
       "    </tr>\n",
       "  </thead>\n",
       "  <tbody>\n",
       "    <tr>\n",
       "      <th>131234</th>\n",
       "      <td>4</td>\n",
       "      <td>87</td>\n",
       "      <td>1</td>\n",
       "      <td>1069</td>\n",
       "    </tr>\n",
       "    <tr>\n",
       "      <th>124282</th>\n",
       "      <td>4</td>\n",
       "      <td>47</td>\n",
       "      <td>0</td>\n",
       "      <td>988</td>\n",
       "    </tr>\n",
       "    <tr>\n",
       "      <th>34329</th>\n",
       "      <td>2</td>\n",
       "      <td>82</td>\n",
       "      <td>0</td>\n",
       "      <td>961</td>\n",
       "    </tr>\n",
       "    <tr>\n",
       "      <th>120439</th>\n",
       "      <td>0</td>\n",
       "      <td>47</td>\n",
       "      <td>0</td>\n",
       "      <td>988</td>\n",
       "    </tr>\n",
       "    <tr>\n",
       "      <th>123520</th>\n",
       "      <td>4</td>\n",
       "      <td>47</td>\n",
       "      <td>0</td>\n",
       "      <td>988</td>\n",
       "    </tr>\n",
       "    <tr>\n",
       "      <th>...</th>\n",
       "      <td>...</td>\n",
       "      <td>...</td>\n",
       "      <td>...</td>\n",
       "      <td>...</td>\n",
       "    </tr>\n",
       "    <tr>\n",
       "      <th>69502</th>\n",
       "      <td>4</td>\n",
       "      <td>41</td>\n",
       "      <td>0</td>\n",
       "      <td>988</td>\n",
       "    </tr>\n",
       "    <tr>\n",
       "      <th>100367</th>\n",
       "      <td>4</td>\n",
       "      <td>55</td>\n",
       "      <td>0</td>\n",
       "      <td>988</td>\n",
       "    </tr>\n",
       "    <tr>\n",
       "      <th>106627</th>\n",
       "      <td>4</td>\n",
       "      <td>48</td>\n",
       "      <td>1</td>\n",
       "      <td>460</td>\n",
       "    </tr>\n",
       "    <tr>\n",
       "      <th>76668</th>\n",
       "      <td>2</td>\n",
       "      <td>90</td>\n",
       "      <td>1</td>\n",
       "      <td>1069</td>\n",
       "    </tr>\n",
       "    <tr>\n",
       "      <th>9834</th>\n",
       "      <td>2</td>\n",
       "      <td>41</td>\n",
       "      <td>0</td>\n",
       "      <td>988</td>\n",
       "    </tr>\n",
       "  </tbody>\n",
       "</table>\n",
       "<p>28845 rows × 4 columns</p>\n",
       "</div>"
      ],
      "text/plain": [
       "        card4  id_31  DeviceType  DeviceInfo\n",
       "131234      4     87           1        1069\n",
       "124282      4     47           0         988\n",
       "34329       2     82           0         961\n",
       "120439      0     47           0         988\n",
       "123520      4     47           0         988\n",
       "...       ...    ...         ...         ...\n",
       "69502       4     41           0         988\n",
       "100367      4     55           0         988\n",
       "106627      4     48           1         460\n",
       "76668       2     90           1        1069\n",
       "9834        2     41           0         988\n",
       "\n",
       "[28845 rows x 4 columns]"
      ]
     },
     "execution_count": 35,
     "metadata": {},
     "output_type": "execute_result"
    }
   ],
   "source": [
    "test_m[['card4','id_31','DeviceType','DeviceInfo']]"
   ]
  },
  {
   "cell_type": "markdown",
   "metadata": {},
   "source": [
    "### 3.2. Correlation"
   ]
  },
  {
   "cell_type": "code",
   "execution_count": 36,
   "metadata": {},
   "outputs": [
    {
     "data": {
      "text/html": [
       "<div>\n",
       "<style scoped>\n",
       "    .dataframe tbody tr th:only-of-type {\n",
       "        vertical-align: middle;\n",
       "    }\n",
       "\n",
       "    .dataframe tbody tr th {\n",
       "        vertical-align: top;\n",
       "    }\n",
       "\n",
       "    .dataframe thead th {\n",
       "        text-align: right;\n",
       "    }\n",
       "</style>\n",
       "<table border=\"1\" class=\"dataframe\">\n",
       "  <thead>\n",
       "    <tr style=\"text-align: right;\">\n",
       "      <th></th>\n",
       "      <th>TransactionID</th>\n",
       "      <th>isFraud</th>\n",
       "      <th>TransactionDT</th>\n",
       "      <th>TransactionAmt</th>\n",
       "      <th>ProductCD</th>\n",
       "      <th>card1</th>\n",
       "      <th>card2</th>\n",
       "      <th>card3</th>\n",
       "      <th>card4</th>\n",
       "      <th>card5</th>\n",
       "      <th>...</th>\n",
       "      <th>id_31</th>\n",
       "      <th>id_32</th>\n",
       "      <th>id_33</th>\n",
       "      <th>id_34</th>\n",
       "      <th>id_35</th>\n",
       "      <th>id_36</th>\n",
       "      <th>id_37</th>\n",
       "      <th>id_38</th>\n",
       "      <th>DeviceType</th>\n",
       "      <th>DeviceInfo</th>\n",
       "    </tr>\n",
       "  </thead>\n",
       "  <tbody>\n",
       "    <tr>\n",
       "      <th>90098</th>\n",
       "      <td>3292580</td>\n",
       "      <td>0</td>\n",
       "      <td>7589513</td>\n",
       "      <td>13.534</td>\n",
       "      <td>C</td>\n",
       "      <td>1976</td>\n",
       "      <td>545.0</td>\n",
       "      <td>185.0</td>\n",
       "      <td>visa</td>\n",
       "      <td>102.0</td>\n",
       "      <td>...</td>\n",
       "      <td>chrome 64.0 for android</td>\n",
       "      <td>NaN</td>\n",
       "      <td>NaN</td>\n",
       "      <td>NaN</td>\n",
       "      <td>F</td>\n",
       "      <td>F</td>\n",
       "      <td>T</td>\n",
       "      <td>F</td>\n",
       "      <td>mobile</td>\n",
       "      <td>BLL-L23 Build/HUAWEIBLL-L23</td>\n",
       "    </tr>\n",
       "    <tr>\n",
       "      <th>36067</th>\n",
       "      <td>3077163</td>\n",
       "      <td>0</td>\n",
       "      <td>1885634</td>\n",
       "      <td>53.986</td>\n",
       "      <td>C</td>\n",
       "      <td>1976</td>\n",
       "      <td>545.0</td>\n",
       "      <td>185.0</td>\n",
       "      <td>visa</td>\n",
       "      <td>102.0</td>\n",
       "      <td>...</td>\n",
       "      <td>mobile safari 11.0</td>\n",
       "      <td>NaN</td>\n",
       "      <td>NaN</td>\n",
       "      <td>NaN</td>\n",
       "      <td>F</td>\n",
       "      <td>F</td>\n",
       "      <td>F</td>\n",
       "      <td>T</td>\n",
       "      <td>mobile</td>\n",
       "      <td>NaN</td>\n",
       "    </tr>\n",
       "    <tr>\n",
       "      <th>18371</th>\n",
       "      <td>3041583</td>\n",
       "      <td>0</td>\n",
       "      <td>1278552</td>\n",
       "      <td>100.000</td>\n",
       "      <td>H</td>\n",
       "      <td>5955</td>\n",
       "      <td>414.0</td>\n",
       "      <td>143.0</td>\n",
       "      <td>visa</td>\n",
       "      <td>147.0</td>\n",
       "      <td>...</td>\n",
       "      <td>ie 11.0 for desktop</td>\n",
       "      <td>24.0</td>\n",
       "      <td>1280x1024</td>\n",
       "      <td>match_status:2</td>\n",
       "      <td>T</td>\n",
       "      <td>T</td>\n",
       "      <td>T</td>\n",
       "      <td>T</td>\n",
       "      <td>desktop</td>\n",
       "      <td>Trident/7.0</td>\n",
       "    </tr>\n",
       "    <tr>\n",
       "      <th>56618</th>\n",
       "      <td>3116004</td>\n",
       "      <td>0</td>\n",
       "      <td>2568946</td>\n",
       "      <td>82.553</td>\n",
       "      <td>C</td>\n",
       "      <td>12377</td>\n",
       "      <td>555.0</td>\n",
       "      <td>213.0</td>\n",
       "      <td>mastercard</td>\n",
       "      <td>166.0</td>\n",
       "      <td>...</td>\n",
       "      <td>chrome 63.0 for android</td>\n",
       "      <td>NaN</td>\n",
       "      <td>NaN</td>\n",
       "      <td>NaN</td>\n",
       "      <td>F</td>\n",
       "      <td>F</td>\n",
       "      <td>T</td>\n",
       "      <td>T</td>\n",
       "      <td>mobile</td>\n",
       "      <td>SM-T705</td>\n",
       "    </tr>\n",
       "    <tr>\n",
       "      <th>131986</th>\n",
       "      <td>3522854</td>\n",
       "      <td>0</td>\n",
       "      <td>14125633</td>\n",
       "      <td>47.340</td>\n",
       "      <td>C</td>\n",
       "      <td>3154</td>\n",
       "      <td>408.0</td>\n",
       "      <td>185.0</td>\n",
       "      <td>mastercard</td>\n",
       "      <td>224.0</td>\n",
       "      <td>...</td>\n",
       "      <td>chrome 66.0 for android</td>\n",
       "      <td>NaN</td>\n",
       "      <td>NaN</td>\n",
       "      <td>NaN</td>\n",
       "      <td>F</td>\n",
       "      <td>F</td>\n",
       "      <td>T</td>\n",
       "      <td>F</td>\n",
       "      <td>mobile</td>\n",
       "      <td>SM-G531H Build/LMY48B</td>\n",
       "    </tr>\n",
       "  </tbody>\n",
       "</table>\n",
       "<p>5 rows × 404 columns</p>\n",
       "</div>"
      ],
      "text/plain": [
       "        TransactionID  isFraud  TransactionDT  TransactionAmt ProductCD  \\\n",
       "90098         3292580        0        7589513          13.534         C   \n",
       "36067         3077163        0        1885634          53.986         C   \n",
       "18371         3041583        0        1278552         100.000         H   \n",
       "56618         3116004        0        2568946          82.553         C   \n",
       "131986        3522854        0       14125633          47.340         C   \n",
       "\n",
       "        card1  card2  card3       card4  card5  ...                    id_31  \\\n",
       "90098    1976  545.0  185.0        visa  102.0  ...  chrome 64.0 for android   \n",
       "36067    1976  545.0  185.0        visa  102.0  ...       mobile safari 11.0   \n",
       "18371    5955  414.0  143.0        visa  147.0  ...      ie 11.0 for desktop   \n",
       "56618   12377  555.0  213.0  mastercard  166.0  ...  chrome 63.0 for android   \n",
       "131986   3154  408.0  185.0  mastercard  224.0  ...  chrome 66.0 for android   \n",
       "\n",
       "        id_32      id_33           id_34 id_35 id_36  id_37  id_38  \\\n",
       "90098     NaN        NaN             NaN     F     F      T      F   \n",
       "36067     NaN        NaN             NaN     F     F      F      T   \n",
       "18371    24.0  1280x1024  match_status:2     T     T      T      T   \n",
       "56618     NaN        NaN             NaN     F     F      T      T   \n",
       "131986    NaN        NaN             NaN     F     F      T      F   \n",
       "\n",
       "        DeviceType                   DeviceInfo  \n",
       "90098       mobile  BLL-L23 Build/HUAWEIBLL-L23  \n",
       "36067       mobile                          NaN  \n",
       "18371      desktop                  Trident/7.0  \n",
       "56618       mobile                      SM-T705  \n",
       "131986      mobile        SM-G531H Build/LMY48B  \n",
       "\n",
       "[5 rows x 404 columns]"
      ]
     },
     "execution_count": 36,
     "metadata": {},
     "output_type": "execute_result"
    }
   ],
   "source": [
    "train.head()"
   ]
  },
  {
   "cell_type": "code",
   "execution_count": 37,
   "metadata": {},
   "outputs": [],
   "source": [
    "train_c = train.set_index('TransactionID')"
   ]
  },
  {
   "cell_type": "code",
   "execution_count": 38,
   "metadata": {},
   "outputs": [
    {
     "name": "stdout",
     "output_type": "stream",
     "text": [
      "(115386, 403)\n"
     ]
    }
   ],
   "source": [
    "print(train_c.shape)"
   ]
  },
  {
   "cell_type": "code",
   "execution_count": 153,
   "metadata": {},
   "outputs": [
    {
     "data": {
      "text/plain": [
       "<matplotlib.axes._subplots.AxesSubplot at 0x1c2aaaab470>"
      ]
     },
     "execution_count": 153,
     "metadata": {},
     "output_type": "execute_result"
    },
    {
     "data": {
      "image/png": "[encoded data removed]",
      "text/plain": [
       "<Figure size 1200x900 with 2 Axes>"
      ]
     },
     "metadata": {},
     "output_type": "display_data"
    }
   ],
   "source": [
    "correlation_matrix = train_c.corr()\n",
    "plt.figure(figsize=(12,9))\n",
    "matrix = np.triu(train_c.corr())\n",
    "sns.heatmap(correlation_matrix, mask = matrix, vmax=.3, square=True, cmap= 'BrBG')"
   ]
  },
  {
   "cell_type": "markdown",
   "metadata": {},
   "source": [
    "- There is no feature exhibiting noticeable correlation with \"isFraud\".  \n",
    "- Feature category C, D, and V series show noticeable intercorrelations."
   ]
  },
  {
   "cell_type": "markdown",
   "metadata": {},
   "source": [
    "### 3.3. Feature Importance (Random Forest)"
   ]
  },
  {
   "cell_type": "code",
   "execution_count": 39,
   "metadata": {},
   "outputs": [],
   "source": [
    "from sklearn.datasets import make_classification\n",
    "from sklearn.ensemble import ExtraTreesClassifier"
   ]
  },
  {
   "cell_type": "code",
   "execution_count": 40,
   "metadata": {},
   "outputs": [],
   "source": [
    "X = train.drop('isFraud', axis=1)\n",
    "y = train['isFraud'].copy()"
   ]
  },
  {
   "cell_type": "code",
   "execution_count": 41,
   "metadata": {},
   "outputs": [
    {
     "data": {
      "image/png": "[encoded data removed]",
      "text/plain": [
       "<Figure size 640x480 with 1 Axes>"
      ]
     },
     "metadata": {},
     "output_type": "display_data"
    }
   ],
   "source": [
    "# define dataset\n",
    "X, y = make_classification(n_samples=1000, n_features=404, n_informative=5, n_redundant=5, random_state=13)\n",
    "# define the model\n",
    "forest = ExtraTreesClassifier(n_estimators=250, random_state=13)\n",
    "# fit the model\n",
    "forest.fit(X, y)\n",
    "# get importance\n",
    "importances = forest.feature_importances_\n",
    "std = np.std([tree.feature_importances_ for tree in forest.estimators_],\n",
    "             axis=0)\n",
    "indices = np.argsort(importances)[::-1]\n",
    "# Print the feature ranking\n",
    "#print(\"Feature ranking:\")\n",
    "\n",
    "#for f in range(X.shape[1]):\n",
    "#    print(\"%d. feature %d (%f)\" % (f + 1, indices[f], importances[indices[f]]))\n",
    "\n",
    "# Plot the impurity-based feature importances of the forest\n",
    "plt.figure()\n",
    "plt.title(\"Feature importances\")\n",
    "plt.bar(range(X.shape[1]), importances[indices],\n",
    "        color=\"r\", yerr=std[indices], align=\"center\")\n",
    "plt.xticks([])\n",
    "plt.xlim([-1, X.shape[1]])\n",
    "plt.show()"
   ]
  },
  {
   "cell_type": "code",
   "execution_count": 42,
   "metadata": {
    "scrolled": true
   },
   "outputs": [
    {
     "name": "stdout",
     "output_type": "stream",
     "text": [
      "Feature: 0, Score: 0.00219\n",
      "Feature: 2, Score: 0.00241\n",
      "Feature: 4, Score: 0.00235\n",
      "Feature: 5, Score: 0.00233\n",
      "Feature: 7, Score: 0.00218\n",
      "Feature: 10, Score: 0.00268\n",
      "Feature: 11, Score: 0.00259\n",
      "Feature: 12, Score: 0.00248\n",
      "Feature: 14, Score: 0.00227\n",
      "Feature: 15, Score: 0.00264\n",
      "Feature: 16, Score: 0.00229\n",
      "Feature: 18, Score: 0.00227\n",
      "Feature: 19, Score: 0.00227\n",
      "Feature: 22, Score: 0.00233\n",
      "Feature: 23, Score: 0.00242\n",
      "Feature: 24, Score: 0.00226\n",
      "Feature: 25, Score: 0.00262\n",
      "Feature: 27, Score: 0.00216\n",
      "Feature: 31, Score: 0.00233\n",
      "Feature: 33, Score: 0.00252\n",
      "Feature: 34, Score: 0.00240\n",
      "Feature: 35, Score: 0.00269\n",
      "Feature: 36, Score: 0.00229\n",
      "Feature: 37, Score: 0.00257\n",
      "Feature: 38, Score: 0.00226\n",
      "Feature: 40, Score: 0.00243\n",
      "Feature: 41, Score: 0.00228\n",
      "Feature: 42, Score: 0.00236\n",
      "Feature: 44, Score: 0.00259\n",
      "Feature: 45, Score: 0.00233\n",
      "Feature: 46, Score: 0.00216\n",
      "Feature: 48, Score: 0.00218\n",
      "Feature: 49, Score: 0.00228\n",
      "Feature: 50, Score: 0.00255\n",
      "Feature: 51, Score: 0.00257\n",
      "Feature: 52, Score: 0.00231\n",
      "Feature: 53, Score: 0.00277\n",
      "Feature: 54, Score: 0.00225\n",
      "Feature: 55, Score: 0.00219\n",
      "Feature: 56, Score: 0.00281\n",
      "Feature: 57, Score: 0.00266\n",
      "Feature: 58, Score: 0.00215\n",
      "Feature: 59, Score: 0.00247\n",
      "Feature: 60, Score: 0.00234\n",
      "Feature: 63, Score: 0.00231\n",
      "Feature: 65, Score: 0.00228\n",
      "Feature: 70, Score: 0.00234\n",
      "Feature: 71, Score: 0.00217\n",
      "Feature: 73, Score: 0.00229\n",
      "Feature: 74, Score: 0.01029\n",
      "Feature: 75, Score: 0.00251\n",
      "Feature: 77, Score: 0.00256\n",
      "Feature: 82, Score: 0.00224\n",
      "Feature: 83, Score: 0.00245\n",
      "Feature: 84, Score: 0.00237\n",
      "Feature: 85, Score: 0.00269\n",
      "Feature: 86, Score: 0.00260\n",
      "Feature: 87, Score: 0.00242\n",
      "Feature: 90, Score: 0.00275\n",
      "Feature: 91, Score: 0.00904\n",
      "Feature: 92, Score: 0.00241\n",
      "Feature: 93, Score: 0.00248\n",
      "Feature: 95, Score: 0.00239\n",
      "Feature: 96, Score: 0.00234\n",
      "Feature: 97, Score: 0.00217\n",
      "Feature: 99, Score: 0.00220\n",
      "Feature: 100, Score: 0.00229\n",
      "Feature: 101, Score: 0.00244\n",
      "Feature: 102, Score: 0.00249\n",
      "Feature: 103, Score: 0.00235\n",
      "Feature: 104, Score: 0.00250\n",
      "Feature: 105, Score: 0.00229\n",
      "Feature: 107, Score: 0.00222\n",
      "Feature: 109, Score: 0.00221\n",
      "Feature: 110, Score: 0.00235\n",
      "Feature: 111, Score: 0.00260\n",
      "Feature: 112, Score: 0.00228\n",
      "Feature: 113, Score: 0.00259\n",
      "Feature: 114, Score: 0.00256\n",
      "Feature: 115, Score: 0.00248\n",
      "Feature: 116, Score: 0.00223\n",
      "Feature: 117, Score: 0.01890\n",
      "Feature: 118, Score: 0.00246\n",
      "Feature: 119, Score: 0.00224\n",
      "Feature: 121, Score: 0.00260\n",
      "Feature: 122, Score: 0.00221\n",
      "Feature: 123, Score: 0.00241\n",
      "Feature: 124, Score: 0.00227\n",
      "Feature: 125, Score: 0.00246\n",
      "Feature: 126, Score: 0.00223\n",
      "Feature: 127, Score: 0.00633\n",
      "Feature: 132, Score: 0.00244\n",
      "Feature: 135, Score: 0.00233\n",
      "Feature: 136, Score: 0.00235\n",
      "Feature: 137, Score: 0.00261\n",
      "Feature: 139, Score: 0.00268\n",
      "Feature: 140, Score: 0.00236\n",
      "Feature: 141, Score: 0.00237\n",
      "Feature: 143, Score: 0.00227\n",
      "Feature: 144, Score: 0.00227\n",
      "Feature: 145, Score: 0.00221\n",
      "Feature: 147, Score: 0.00244\n",
      "Feature: 148, Score: 0.00235\n",
      "Feature: 150, Score: 0.00225\n",
      "Feature: 151, Score: 0.01362\n",
      "Feature: 152, Score: 0.00219\n",
      "Feature: 154, Score: 0.00227\n",
      "Feature: 156, Score: 0.00232\n",
      "Feature: 157, Score: 0.00228\n",
      "Feature: 159, Score: 0.00250\n",
      "Feature: 160, Score: 0.00743\n",
      "Feature: 165, Score: 0.00243\n",
      "Feature: 167, Score: 0.00218\n",
      "Feature: 170, Score: 0.00262\n",
      "Feature: 173, Score: 0.00253\n",
      "Feature: 175, Score: 0.00230\n",
      "Feature: 176, Score: 0.00223\n",
      "Feature: 178, Score: 0.00274\n",
      "Feature: 179, Score: 0.00225\n",
      "Feature: 181, Score: 0.00233\n",
      "Feature: 182, Score: 0.00220\n",
      "Feature: 183, Score: 0.00276\n",
      "Feature: 185, Score: 0.00238\n",
      "Feature: 190, Score: 0.00263\n",
      "Feature: 192, Score: 0.00245\n",
      "Feature: 193, Score: 0.00229\n",
      "Feature: 194, Score: 0.00249\n",
      "Feature: 197, Score: 0.00249\n",
      "Feature: 198, Score: 0.00239\n",
      "Feature: 199, Score: 0.00248\n",
      "Feature: 200, Score: 0.00241\n",
      "Feature: 204, Score: 0.00252\n",
      "Feature: 205, Score: 0.00222\n",
      "Feature: 206, Score: 0.00229\n",
      "Feature: 208, Score: 0.00278\n",
      "Feature: 209, Score: 0.00229\n",
      "Feature: 210, Score: 0.00231\n",
      "Feature: 212, Score: 0.00246\n",
      "Feature: 213, Score: 0.00617\n",
      "Feature: 215, Score: 0.00273\n",
      "Feature: 216, Score: 0.00269\n",
      "Feature: 219, Score: 0.00240\n",
      "Feature: 221, Score: 0.00261\n",
      "Feature: 222, Score: 0.00268\n",
      "Feature: 223, Score: 0.00219\n",
      "Feature: 224, Score: 0.00258\n",
      "Feature: 225, Score: 0.00270\n",
      "Feature: 226, Score: 0.00255\n",
      "Feature: 227, Score: 0.00232\n",
      "Feature: 228, Score: 0.00238\n",
      "Feature: 230, Score: 0.00225\n",
      "Feature: 231, Score: 0.00242\n",
      "Feature: 233, Score: 0.00239\n",
      "Feature: 234, Score: 0.00218\n",
      "Feature: 235, Score: 0.00217\n",
      "Feature: 236, Score: 0.00246\n",
      "Feature: 237, Score: 0.00245\n",
      "Feature: 238, Score: 0.00224\n",
      "Feature: 240, Score: 0.00239\n",
      "Feature: 241, Score: 0.00223\n",
      "Feature: 246, Score: 0.00280\n",
      "Feature: 247, Score: 0.00232\n",
      "Feature: 248, Score: 0.00280\n",
      "Feature: 250, Score: 0.00219\n",
      "Feature: 251, Score: 0.00227\n",
      "Feature: 252, Score: 0.00354\n",
      "Feature: 253, Score: 0.00265\n",
      "Feature: 254, Score: 0.00217\n",
      "Feature: 255, Score: 0.00237\n",
      "Feature: 256, Score: 0.00219\n",
      "Feature: 258, Score: 0.00225\n",
      "Feature: 259, Score: 0.00239\n",
      "Feature: 260, Score: 0.00235\n",
      "Feature: 262, Score: 0.00235\n",
      "Feature: 263, Score: 0.00224\n",
      "Feature: 264, Score: 0.00228\n",
      "Feature: 265, Score: 0.00215\n",
      "Feature: 267, Score: 0.00224\n",
      "Feature: 268, Score: 0.00218\n",
      "Feature: 269, Score: 0.00236\n",
      "Feature: 270, Score: 0.00239\n",
      "Feature: 272, Score: 0.00231\n",
      "Feature: 275, Score: 0.00233\n",
      "Feature: 277, Score: 0.00249\n",
      "Feature: 279, Score: 0.00219\n",
      "Feature: 284, Score: 0.00288\n",
      "Feature: 286, Score: 0.00274\n",
      "Feature: 287, Score: 0.00250\n",
      "Feature: 288, Score: 0.00237\n",
      "Feature: 290, Score: 0.01140\n",
      "Feature: 294, Score: 0.00290\n",
      "Feature: 295, Score: 0.00226\n",
      "Feature: 296, Score: 0.00217\n",
      "Feature: 297, Score: 0.00219\n",
      "Feature: 298, Score: 0.00246\n",
      "Feature: 301, Score: 0.00215\n",
      "Feature: 303, Score: 0.00228\n",
      "Feature: 305, Score: 0.00247\n",
      "Feature: 306, Score: 0.00239\n",
      "Feature: 307, Score: 0.00234\n",
      "Feature: 309, Score: 0.02032\n",
      "Feature: 310, Score: 0.00250\n",
      "Feature: 311, Score: 0.00219\n",
      "Feature: 312, Score: 0.00235\n",
      "Feature: 313, Score: 0.00223\n",
      "Feature: 314, Score: 0.00230\n",
      "Feature: 317, Score: 0.00233\n",
      "Feature: 318, Score: 0.00255\n",
      "Feature: 321, Score: 0.00243\n",
      "Feature: 322, Score: 0.00834\n",
      "Feature: 323, Score: 0.00272\n",
      "Feature: 327, Score: 0.00235\n",
      "Feature: 328, Score: 0.00237\n",
      "Feature: 330, Score: 0.00245\n",
      "Feature: 333, Score: 0.00244\n",
      "Feature: 335, Score: 0.00217\n",
      "Feature: 336, Score: 0.00225\n",
      "Feature: 338, Score: 0.00222\n",
      "Feature: 340, Score: 0.00249\n",
      "Feature: 341, Score: 0.00239\n",
      "Feature: 342, Score: 0.00225\n",
      "Feature: 343, Score: 0.00225\n",
      "Feature: 344, Score: 0.00262\n",
      "Feature: 345, Score: 0.00240\n",
      "Feature: 346, Score: 0.00261\n",
      "Feature: 347, Score: 0.00233\n",
      "Feature: 348, Score: 0.00231\n",
      "Feature: 349, Score: 0.00225\n",
      "Feature: 350, Score: 0.00269\n",
      "Feature: 352, Score: 0.00254\n",
      "Feature: 353, Score: 0.00217\n",
      "Feature: 354, Score: 0.00242\n",
      "Feature: 355, Score: 0.00223\n",
      "Feature: 356, Score: 0.00238\n",
      "Feature: 358, Score: 0.00252\n",
      "Feature: 359, Score: 0.00236\n",
      "Feature: 360, Score: 0.00217\n",
      "Feature: 361, Score: 0.00233\n",
      "Feature: 365, Score: 0.00236\n",
      "Feature: 367, Score: 0.00219\n",
      "Feature: 368, Score: 0.00227\n",
      "Feature: 369, Score: 0.00234\n",
      "Feature: 370, Score: 0.00243\n",
      "Feature: 373, Score: 0.00251\n",
      "Feature: 374, Score: 0.00216\n",
      "Feature: 375, Score: 0.00274\n",
      "Feature: 380, Score: 0.00223\n",
      "Feature: 381, Score: 0.00246\n",
      "Feature: 384, Score: 0.00223\n",
      "Feature: 385, Score: 0.00230\n",
      "Feature: 386, Score: 0.00219\n",
      "Feature: 389, Score: 0.00250\n",
      "Feature: 390, Score: 0.00232\n",
      "Feature: 392, Score: 0.00289\n",
      "Feature: 394, Score: 0.00230\n",
      "Feature: 396, Score: 0.00272\n",
      "Feature: 397, Score: 0.00223\n",
      "Feature: 399, Score: 0.00228\n",
      "Feature: 400, Score: 0.00219\n",
      "Feature: 403, Score: 0.00269\n"
     ]
    }
   ],
   "source": [
    "feature = [ ]\n",
    "# summarize feature importance\n",
    "for i,v in enumerate(importances):\n",
    "    if v >= 0.00215:\n",
    "        print('Feature: %0d, Score: %.5f' % (i,v))\n",
    "        feature.append(i)"
   ]
  },
  {
   "cell_type": "code",
   "execution_count": 43,
   "metadata": {
    "scrolled": true
   },
   "outputs": [
    {
     "data": {
      "text/plain": [
       "260"
      ]
     },
     "execution_count": 43,
     "metadata": {},
     "output_type": "execute_result"
    }
   ],
   "source": [
    "len(feature)"
   ]
  },
  {
   "cell_type": "code",
   "execution_count": 44,
   "metadata": {
    "scrolled": true
   },
   "outputs": [
    {
     "name": "stdout",
     "output_type": "stream",
     "text": [
      "[0, 2, 4, 5, 7, 10, 11, 12, 14, 15, 16, 18, 19, 22, 23, 24, 25, 27, 31, 33, 34, 35, 36, 37, 38, 40, 41, 42, 44, 45, 46, 48, 49, 50, 51, 52, 53, 54, 55, 56, 57, 58, 59, 60, 63, 65, 70, 71, 73, 74, 75, 77, 82, 83, 84, 85, 86, 87, 90, 91, 92, 93, 95, 96, 97, 99, 100, 101, 102, 103, 104, 105, 107, 109, 110, 111, 112, 113, 114, 115, 116, 117, 118, 119, 121, 122, 123, 124, 125, 126, 127, 132, 135, 136, 137, 139, 140, 141, 143, 144, 145, 147, 148, 150, 151, 152, 154, 156, 157, 159, 160, 165, 167, 170, 173, 175, 176, 178, 179, 181, 182, 183, 185, 190, 192, 193, 194, 197, 198, 199, 200, 204, 205, 206, 208, 209, 210, 212, 213, 215, 216, 219, 221, 222, 223, 224, 225, 226, 227, 228, 230, 231, 233, 234, 235, 236, 237, 238, 240, 241, 246, 247, 248, 250, 251, 252, 253, 254, 255, 256, 258, 259, 260, 262, 263, 264, 265, 267, 268, 269, 270, 272, 275, 277, 279, 284, 286, 287, 288, 290, 294, 295, 296, 297, 298, 301, 303, 305, 306, 307, 309, 310, 311, 312, 313, 314, 317, 318, 321, 322, 323, 327, 328, 330, 333, 335, 336, 338, 340, 341, 342, 343, 344, 345, 346, 347, 348, 349, 350, 352, 353, 354, 355, 356, 358, 359, 360, 361, 365, 367, 368, 369, 370, 373, 374, 375, 380, 381, 384, 385, 386, 389, 390, 392, 394, 396, 397, 399, 400, 403]\n"
     ]
    }
   ],
   "source": [
    "print(feature)"
   ]
  },
  {
   "cell_type": "markdown",
   "metadata": {},
   "source": [
    "### 3.3. Data balancing (undersample)"
   ]
  },
  {
   "cell_type": "markdown",
   "metadata": {},
   "source": [
    "#### The training dataset is highly skewed. \n",
    "- The fraction of fradulent transactions is a minority, compared to that of normal ones. \n",
    "- Thus, accurate correlations between the fraudulent transactions and their corresponding features can be challenging. \n",
    "- To overcome this issue, undersampling the majority (normal) is performed which can help to balance the dataset and to improve the computation efficiency."
   ]
  },
  {
   "cell_type": "code",
   "execution_count": 45,
   "metadata": {},
   "outputs": [
    {
     "data": {
      "image/png": "[encoded data removed]",
      "text/plain": [
       "<Figure size 640x480 with 1 Axes>"
      ]
     },
     "metadata": {},
     "output_type": "display_data"
    }
   ],
   "source": [
    "sns.countplot(x='isFraud',data=train_m)\n",
    "plt.xticks( np.arange(2), ['normal', 'fraud'] )\n",
    "plt.title('training dataset',fontsize= 18)\n",
    "plt.xlabel('Number',fontsize = 15)\n",
    "plt.ylabel('Transaction',fontsize = 15)\n",
    "labels = (train_m['isFraud'].value_counts())\n",
    "for i, v in enumerate(labels):\n",
    "    plt.text(i, v, str(v), ha = 'center', size = 14, color = 'r')\n",
    "plt.show()"
   ]
  },
  {
   "cell_type": "code",
   "execution_count": 46,
   "metadata": {
    "scrolled": true
   },
   "outputs": [],
   "source": [
    "normal_m = train_m[train_m['isFraud'] == 0]\n",
    "fraud_m = train_m[train_m['isFraud'] == 1]\n",
    "\n",
    "normal_mr = normal_m.sample(frac=1) \n",
    "normal_u = normal_mr[:9054]\n",
    "train_u = pd.concat([normal_u, fraud_m])"
   ]
  },
  {
   "cell_type": "code",
   "execution_count": 47,
   "metadata": {},
   "outputs": [
    {
     "data": {
      "image/png": "[encoded data removed]",
      "text/plain": [
       "<Figure size 640x480 with 1 Axes>"
      ]
     },
     "metadata": {},
     "output_type": "display_data"
    }
   ],
   "source": [
    "sns.countplot(x='isFraud',data=train_u)\n",
    "plt.xticks( np.arange(2), ['normal', 'fraud'] )\n",
    "plt.title('training dataset (undersampled)',fontsize= 18)\n",
    "plt.xlabel('Number',fontsize = 15)\n",
    "plt.ylabel('Transaction',fontsize = 15)\n",
    "labels = (train_u['isFraud'].value_counts())\n",
    "for i, v in enumerate(labels):\n",
    "    plt.text(i, v, str(v), ha = 'center', size = 14, color = 'r')\n",
    "plt.show()"
   ]
  },
  {
   "cell_type": "markdown",
   "metadata": {},
   "source": [
    "## 4. Model training and testing"
   ]
  },
  {
   "cell_type": "code",
   "execution_count": 48,
   "metadata": {},
   "outputs": [],
   "source": [
    "from sklearn.linear_model import LogisticRegression\n",
    "import xgboost as xgb\n",
    "from sklearn.ensemble import RandomForestClassifier\n",
    "import lightgbm as lgb\n",
    "from sklearn import metrics\n",
    "from sklearn.preprocessing import StandardScaler"
   ]
  },
  {
   "cell_type": "code",
   "execution_count": 49,
   "metadata": {},
   "outputs": [],
   "source": [
    "X_train = train_u.iloc[:,feature]\n",
    "y_train = train_u['isFraud'].copy()\n",
    "X_test = test_m.iloc[:,feature]\n",
    "y_test = test_m['isFraud'].copy()"
   ]
  },
  {
   "cell_type": "code",
   "execution_count": 50,
   "metadata": {},
   "outputs": [],
   "source": [
    "# normalize data\n",
    "sc = StandardScaler()\n",
    "sc.fit(X_train)\n",
    "X_train_std = sc.transform(X_train)\n",
    "X_test_std = sc.transform(X_test)"
   ]
  },
  {
   "cell_type": "code",
   "execution_count": 51,
   "metadata": {
    "scrolled": true
   },
   "outputs": [],
   "source": [
    "# Logistic\n",
    "LR = LogisticRegression(random_state=13,n_jobs=8)\n",
    "LR.fit(X_train_std, y_train)\n",
    "LR_pred = LR.predict(X_test_std)"
   ]
  },
  {
   "cell_type": "code",
   "execution_count": 52,
   "metadata": {},
   "outputs": [],
   "source": [
    "# XGBoost\n",
    "XG = xgb.XGBClassifier(n_estimators=500, max_depth=5,random_state=13,n_jobs=8)\n",
    "XG.fit(X_train_std, y_train)\n",
    "XG_pred = XG.predict(X_test_std)"
   ]
  },
  {
   "cell_type": "code",
   "execution_count": 53,
   "metadata": {},
   "outputs": [],
   "source": [
    "# Random Forest\n",
    "RF = RandomForestClassifier(n_estimators=500, max_depth=5, random_state=13, n_jobs=8)\n",
    "RF.fit(X_train_std, y_train)\n",
    "RF_pred = RF.predict(X_test_std)"
   ]
  },
  {
   "cell_type": "code",
   "execution_count": 54,
   "metadata": {},
   "outputs": [],
   "source": [
    "# LightGBM\n",
    "LG = lgb.LGBMClassifier(n_estimator=500, max_depth=5, random_state = 13, n_jobs=8)\n",
    "LG.fit(X_train_std, y_train)\n",
    "LG_pred = LG.predict(X_test_std)"
   ]
  },
  {
   "cell_type": "markdown",
   "metadata": {},
   "source": [
    "#### F<sub>1</sub> score"
   ]
  },
  {
   "cell_type": "code",
   "execution_count": 55,
   "metadata": {
    "scrolled": false
   },
   "outputs": [
    {
     "name": "stdout",
     "output_type": "stream",
     "text": [
      "F1 score Logistic:     0.35763\n",
      "F1 score XGboost:      0.68026\n",
      "F1 score RandomForest: 0.48182\n",
      "F1 score LightGBM:     0.60364\n"
     ]
    }
   ],
   "source": [
    "score1 = metrics.f1_score(y_test, LR_pred)\n",
    "score2 = metrics.f1_score(y_test, XG_pred)\n",
    "score3 = metrics.f1_score(y_test, RF_pred)\n",
    "score4 = metrics.f1_score(y_test, LG_pred)\n",
    "print ('F1 score Logistic:     %.5f' % score1 )\n",
    "print ('F1 score XGboost:      %.5f' % score2 )\n",
    "print ('F1 score RandomForest: %.5f' % score3 )\n",
    "print ('F1 score LightGBM:     %.5f' % score4 )"
   ]
  },
  {
   "cell_type": "markdown",
   "metadata": {},
   "source": [
    "#### Data normalization significantly improved the performance of logistic model with increased F<sub>1</sub>score from 0.2 to 0.4. LightGBM received slight improvement.\n",
    "\n",
    "### 4.1. Model optimization"
   ]
  },
  {
   "cell_type": "code",
   "execution_count": 56,
   "metadata": {},
   "outputs": [],
   "source": [
    "from sklearn.model_selection import GridSearchCV"
   ]
  },
  {
   "cell_type": "markdown",
   "metadata": {},
   "source": [
    "#### Grid search to tune the hyperparameters of Logistic Regression, Random Forest, and XGBoost.\n",
    "#### For logistic regression, <em>C</em> is a regularization parameter.  <em>C = 1 / λ</em>. "
   ]
  },
  {
   "cell_type": "code",
   "execution_count": 57,
   "metadata": {},
   "outputs": [],
   "source": [
    "# To optimize Logistic\n",
    "c_values = list(np.logspace(-5,5,11, endpoint=True)) #convert the array into list\n",
    "solvers = ['newton-cg', 'saga']\n",
    "penalty = ['l2']"
   ]
  },
  {
   "cell_type": "code",
   "execution_count": 58,
   "metadata": {},
   "outputs": [],
   "source": [
    "#define grid search\n",
    "grid = dict(solver=solvers, penalty=penalty,C=c_values)\n",
    "#cv = StratifiedKFold(n_splits=10, random_state=13)  #Kfold for cross-validation\n",
    "grid_search = GridSearchCV(estimator=LR, param_grid=grid, n_jobs=8, cv=None, scoring='f1',error_score=0)\n",
    "grid_result = grid_search.fit(X_train_std, y_train)"
   ]
  },
  {
   "cell_type": "code",
   "execution_count": 59,
   "metadata": {
    "scrolled": true
   },
   "outputs": [
    {
     "name": "stdout",
     "output_type": "stream",
     "text": [
      "Best: 0.797628 using {'C': 1000.0, 'penalty': 'l2', 'solver': 'newton-cg'}\n",
      "0.701670 (0.006160) with: {'C': 1e-05, 'penalty': 'l2', 'solver': 'newton-cg'}\n",
      "0.701501 (0.006462) with: {'C': 1e-05, 'penalty': 'l2', 'solver': 'saga'}\n",
      "0.735742 (0.004612) with: {'C': 0.0001, 'penalty': 'l2', 'solver': 'newton-cg'}\n",
      "0.735522 (0.004488) with: {'C': 0.0001, 'penalty': 'l2', 'solver': 'saga'}\n",
      "0.766138 (0.005647) with: {'C': 0.001, 'penalty': 'l2', 'solver': 'newton-cg'}\n",
      "0.766064 (0.005637) with: {'C': 0.001, 'penalty': 'l2', 'solver': 'saga'}\n",
      "0.784988 (0.005116) with: {'C': 0.01, 'penalty': 'l2', 'solver': 'newton-cg'}\n",
      "0.782631 (0.005183) with: {'C': 0.01, 'penalty': 'l2', 'solver': 'saga'}\n",
      "0.793472 (0.006401) with: {'C': 0.1, 'penalty': 'l2', 'solver': 'newton-cg'}\n",
      "0.785655 (0.005809) with: {'C': 0.1, 'penalty': 'l2', 'solver': 'saga'}\n",
      "0.796767 (0.005780) with: {'C': 1.0, 'penalty': 'l2', 'solver': 'newton-cg'}\n",
      "0.786448 (0.005673) with: {'C': 1.0, 'penalty': 'l2', 'solver': 'saga'}\n",
      "0.796448 (0.006779) with: {'C': 10.0, 'penalty': 'l2', 'solver': 'newton-cg'}\n",
      "0.786309 (0.005633) with: {'C': 10.0, 'penalty': 'l2', 'solver': 'saga'}\n",
      "0.797180 (0.006606) with: {'C': 100.0, 'penalty': 'l2', 'solver': 'newton-cg'}\n",
      "0.786309 (0.005633) with: {'C': 100.0, 'penalty': 'l2', 'solver': 'saga'}\n",
      "0.797628 (0.006149) with: {'C': 1000.0, 'penalty': 'l2', 'solver': 'newton-cg'}\n",
      "0.786309 (0.005633) with: {'C': 1000.0, 'penalty': 'l2', 'solver': 'saga'}\n",
      "0.797416 (0.006175) with: {'C': 10000.0, 'penalty': 'l2', 'solver': 'newton-cg'}\n",
      "0.786309 (0.005633) with: {'C': 10000.0, 'penalty': 'l2', 'solver': 'saga'}\n",
      "0.797487 (0.006107) with: {'C': 100000.0, 'penalty': 'l2', 'solver': 'newton-cg'}\n",
      "0.786309 (0.005633) with: {'C': 100000.0, 'penalty': 'l2', 'solver': 'saga'}\n"
     ]
    }
   ],
   "source": [
    "# summarize results\n",
    "print(\"Best: %f using %s\" % (grid_result.best_score_, grid_result.best_params_))\n",
    "means = grid_result.cv_results_['mean_test_score']\n",
    "stds = grid_result.cv_results_['std_test_score']\n",
    "params = grid_result.cv_results_['params']\n",
    "for mean, stdev, param in zip(means, stds, params):\n",
    "    print(\"%f (%f) with: %r\" % (mean, stdev, param))"
   ]
  },
  {
   "cell_type": "code",
   "execution_count": 65,
   "metadata": {},
   "outputs": [],
   "source": [
    "# optimized logistic\n",
    "LR2 = LogisticRegression(penalty='l2', random_state=13, n_jobs=8, C=1000, solver='newton-cg')\n",
    "LR2.fit(X_train_std, y_train)\n",
    "LR2_pred = LR2.predict(X_test_std)"
   ]
  },
  {
   "cell_type": "code",
   "execution_count": 77,
   "metadata": {
    "scrolled": true
   },
   "outputs": [
    {
     "name": "stdout",
     "output_type": "stream",
     "text": [
      "Logistic F1: 0.34415\n"
     ]
    }
   ],
   "source": [
    "op_score1 = metrics.f1_score(y_test, LR2_pred)\n",
    "print ('Logistic F1: %.5f' % op_score1)"
   ]
  },
  {
   "cell_type": "code",
   "execution_count": 75,
   "metadata": {},
   "outputs": [],
   "source": [
    "# To optimize random forests\n",
    "n_estimators = [500, 1000, 2000]\n",
    "# max_features = ['auto', 'sqrt', 'log2']\n",
    "max_depth = [int(x) for x in np.linspace(1, 5, num = 5)]"
   ]
  },
  {
   "cell_type": "code",
   "execution_count": 76,
   "metadata": {},
   "outputs": [
    {
     "name": "stdout",
     "output_type": "stream",
     "text": [
      "Best: 0.781910 using {'max_depth': 5, 'n_estimators': 500}\n",
      "0.707185 (0.003617) with: {'max_depth': 1, 'n_estimators': 500}\n",
      "0.708025 (0.003689) with: {'max_depth': 1, 'n_estimators': 1000}\n",
      "0.706502 (0.003215) with: {'max_depth': 1, 'n_estimators': 2000}\n",
      "0.744231 (0.003798) with: {'max_depth': 2, 'n_estimators': 500}\n",
      "0.744769 (0.004253) with: {'max_depth': 2, 'n_estimators': 1000}\n",
      "0.745218 (0.003415) with: {'max_depth': 2, 'n_estimators': 2000}\n",
      "0.755921 (0.004156) with: {'max_depth': 3, 'n_estimators': 500}\n",
      "0.756471 (0.004273) with: {'max_depth': 3, 'n_estimators': 1000}\n",
      "0.756460 (0.004756) with: {'max_depth': 3, 'n_estimators': 2000}\n",
      "0.769315 (0.004288) with: {'max_depth': 4, 'n_estimators': 500}\n",
      "0.769070 (0.004646) with: {'max_depth': 4, 'n_estimators': 1000}\n",
      "0.769323 (0.005096) with: {'max_depth': 4, 'n_estimators': 2000}\n",
      "0.781910 (0.003763) with: {'max_depth': 5, 'n_estimators': 500}\n",
      "0.781026 (0.003211) with: {'max_depth': 5, 'n_estimators': 1000}\n",
      "0.781201 (0.004071) with: {'max_depth': 5, 'n_estimators': 2000}\n"
     ]
    }
   ],
   "source": [
    "# define grid search\n",
    "grid = dict(n_estimators=n_estimators,max_depth=max_depth)\n",
    "grid_search = GridSearchCV(estimator=RF, param_grid=grid, n_jobs=-1, cv=None, scoring='f1',error_score=0)\n",
    "grid_result = grid_search.fit(X_train_std, y_train)\n",
    "# summarize results\n",
    "print(\"Best: %f using %s\" % (grid_result.best_score_, grid_result.best_params_))\n",
    "means = grid_result.cv_results_['mean_test_score']\n",
    "stds = grid_result.cv_results_['std_test_score']\n",
    "params = grid_result.cv_results_['params']\n",
    "for mean, stdev, param in zip(means, stds, params):\n",
    "    print(\"%f (%f) with: %r\" % (mean, stdev, param))"
   ]
  },
  {
   "cell_type": "code",
   "execution_count": 78,
   "metadata": {},
   "outputs": [],
   "source": [
    "# optimized random forest\n",
    "RF2 = RandomForestClassifier(n_estimators=500, max_depth=5, random_state=13, n_jobs=8)\n",
    "RF2.fit(X_train_std, y_train)\n",
    "RF2_pred = RF2.predict(X_test_std)"
   ]
  },
  {
   "cell_type": "code",
   "execution_count": 79,
   "metadata": {},
   "outputs": [
    {
     "name": "stdout",
     "output_type": "stream",
     "text": [
      "Random Forest F1: 0.48182\n"
     ]
    }
   ],
   "source": [
    "op_score2 = metrics.f1_score(y_test, RF2_pred)\n",
    "print ('Random Forest F1: %.5f' % op_score2)"
   ]
  },
  {
   "cell_type": "code",
   "execution_count": 80,
   "metadata": {},
   "outputs": [],
   "source": [
    "# To optimize random forests\n",
    "n_estimators = [100, 500, 1000]\n",
    "learning_rate = [0.001, 0.01, 0.1]"
   ]
  },
  {
   "cell_type": "code",
   "execution_count": 82,
   "metadata": {},
   "outputs": [
    {
     "name": "stdout",
     "output_type": "stream",
     "text": [
      "Best: 0.896131 using {'learning_rate': 0.1, 'n_estimators': 1000}\n",
      "0.785267 (0.007098) with: {'learning_rate': 0.001, 'n_estimators': 100}\n",
      "0.794152 (0.006595) with: {'learning_rate': 0.001, 'n_estimators': 500}\n",
      "0.802310 (0.004649) with: {'learning_rate': 0.001, 'n_estimators': 1000}\n",
      "0.802798 (0.004451) with: {'learning_rate': 0.01, 'n_estimators': 100}\n",
      "0.838900 (0.003961) with: {'learning_rate': 0.01, 'n_estimators': 500}\n",
      "0.858775 (0.005624) with: {'learning_rate': 0.01, 'n_estimators': 1000}\n",
      "0.859518 (0.006141) with: {'learning_rate': 0.1, 'n_estimators': 100}\n",
      "0.890296 (0.005346) with: {'learning_rate': 0.1, 'n_estimators': 500}\n",
      "0.896131 (0.006255) with: {'learning_rate': 0.1, 'n_estimators': 1000}\n"
     ]
    }
   ],
   "source": [
    "# define grid search\n",
    "grid = dict(learning_rate=learning_rate, n_estimators=n_estimators)\n",
    "grid_search = GridSearchCV(estimator=XG, param_grid=grid, n_jobs=-1, cv=None, scoring='f1',error_score=0)\n",
    "grid_result = grid_search.fit(X_train_std, y_train)\n",
    "# summarize results\n",
    "print(\"Best: %f using %s\" % (grid_result.best_score_, grid_result.best_params_))\n",
    "means = grid_result.cv_results_['mean_test_score']\n",
    "stds = grid_result.cv_results_['std_test_score']\n",
    "params = grid_result.cv_results_['params']\n",
    "for mean, stdev, param in zip(means, stds, params):\n",
    "    print(\"%f (%f) with: %r\" % (mean, stdev, param))"
   ]
  },
  {
   "cell_type": "code",
   "execution_count": 84,
   "metadata": {},
   "outputs": [
    {
     "name": "stdout",
     "output_type": "stream",
     "text": [
      "Wall time: 16.5 s\n"
     ]
    }
   ],
   "source": [
    "%%time\n",
    "# optimized XGBoost\n",
    "\n",
    "XG2 = xgb.XGBClassifier(n_estimators=1000, learning_rate=0.1 ,random_state=13,n_jobs=8)\n",
    "XG2.fit(X_train_std, y_train)\n",
    "XG2_pred = XG2.predict(X_test_std)"
   ]
  },
  {
   "cell_type": "code",
   "execution_count": 85,
   "metadata": {},
   "outputs": [
    {
     "name": "stdout",
     "output_type": "stream",
     "text": [
      "XGBoost F1: 0.67214\n"
     ]
    }
   ],
   "source": [
    "op_score3 = metrics.f1_score(y_test, XG2_pred)\n",
    "print ('XGBoost F1: %.5f' % op_score3)"
   ]
  },
  {
   "cell_type": "code",
   "execution_count": 86,
   "metadata": {},
   "outputs": [],
   "source": [
    "# Optimize XGBoost step 2\n",
    "subsample = [0.5, 0.7, 1.0]\n",
    "max_depth = [3, 6, 9]"
   ]
  },
  {
   "cell_type": "code",
   "execution_count": 90,
   "metadata": {
    "scrolled": true
   },
   "outputs": [
    {
     "name": "stdout",
     "output_type": "stream",
     "text": [
      "Best: 0.900228 using {'learning_rate': 0.1, 'max_depth': 9, 'n_estimators': 1000, 'subsample': 1.0}\n",
      "0.883905 (0.007594) with: {'learning_rate': 0.1, 'max_depth': 3, 'n_estimators': 1000, 'subsample': 0.5}\n",
      "0.887706 (0.004747) with: {'learning_rate': 0.1, 'max_depth': 3, 'n_estimators': 1000, 'subsample': 0.7}\n",
      "0.882197 (0.006272) with: {'learning_rate': 0.1, 'max_depth': 3, 'n_estimators': 1000, 'subsample': 1.0}\n",
      "0.895973 (0.006894) with: {'learning_rate': 0.1, 'max_depth': 6, 'n_estimators': 1000, 'subsample': 0.5}\n",
      "0.896989 (0.006656) with: {'learning_rate': 0.1, 'max_depth': 6, 'n_estimators': 1000, 'subsample': 0.7}\n",
      "0.898510 (0.004762) with: {'learning_rate': 0.1, 'max_depth': 6, 'n_estimators': 1000, 'subsample': 1.0}\n",
      "0.897406 (0.005704) with: {'learning_rate': 0.1, 'max_depth': 9, 'n_estimators': 1000, 'subsample': 0.5}\n",
      "0.899629 (0.004597) with: {'learning_rate': 0.1, 'max_depth': 9, 'n_estimators': 1000, 'subsample': 0.7}\n",
      "0.900228 (0.005252) with: {'learning_rate': 0.1, 'max_depth': 9, 'n_estimators': 1000, 'subsample': 1.0}\n"
     ]
    }
   ],
   "source": [
    "# define grid search\n",
    "grid = dict(subsample=subsample, max_depth=max_depth, learning_rate=[0.1], n_estimators=[1000])\n",
    "grid_search = GridSearchCV(estimator=XG, param_grid=grid, n_jobs=-1, cv=None, scoring='f1',error_score=0)\n",
    "grid_result = grid_search.fit(X_train_std, y_train)\n",
    "# summarize results\n",
    "print(\"Best: %f using %s\" % (grid_result.best_score_, grid_result.best_params_))\n",
    "means = grid_result.cv_results_['mean_test_score']\n",
    "stds = grid_result.cv_results_['std_test_score']\n",
    "params = grid_result.cv_results_['params']\n",
    "for mean, stdev, param in zip(means, stds, params):\n",
    "    print(\"%f (%f) with: %r\" % (mean, stdev, param))"
   ]
  },
  {
   "cell_type": "code",
   "execution_count": 148,
   "metadata": {},
   "outputs": [
    {
     "name": "stdout",
     "output_type": "stream",
     "text": [
      "XGBoost F1: 0.71165\n",
      "Wall time: 49.5 s\n"
     ]
    }
   ],
   "source": [
    "%%time\n",
    "XG3 = xgb.XGBClassifier(n_estimators=1000, learning_rate=0.1 ,max_depth=9, subsample = 1.0, random_state=13, n_jobs=8)\n",
    "XG3.fit(X_train_std, y_train)\n",
    "XG3_pred = XG3.predict(X_test_std)\n",
    "op_score = metrics.f1_score(y_test, XG3_pred)\n",
    "print ('XGBoost F1: %.5f' % op_score)"
   ]
  },
  {
   "cell_type": "markdown",
   "metadata": {},
   "source": [
    "- Gradient based optimization methods such as gradient descent and cooridnate descent are suitable for smooth data. \n",
    "- Those approaches are often computationally demanding, taking long time to converge, not to mention the exhaustive search approach. \n",
    "- Below is the random search to refine the tuning results of grid search."
   ]
  },
  {
   "cell_type": "code",
   "execution_count": 124,
   "metadata": {},
   "outputs": [],
   "source": [
    "from sklearn.model_selection import RandomizedSearchCV\n",
    "from sklearn.model_selection import StratifiedKFold\n",
    "from scipy import stats\n",
    "from scipy.stats import randint"
   ]
  },
  {
   "cell_type": "code",
   "execution_count": 134,
   "metadata": {},
   "outputs": [],
   "source": [
    "%%time\n",
    "# random search for hyperparameter tuning of XGBoost\n",
    "XG3 = xgb.XGBClassifier()\n",
    "distributions = {'n_estimators': stats.randint(950, 1050),\n",
    "              'learning_rate': stats.uniform(0.1, 1),\n",
    "              'subsample': stats.uniform(0.3, 0.9),\n",
    "              'max_depth': stats.randint(6,9),\n",
    "                }\n",
    "clf = RandomizedSearchCV(XG3, \n",
    "                         distributions, \n",
    "                         random_state=13, \n",
    "                         n_iter= 25, \n",
    "                         scoring = 'f1', \n",
    "                         error_score = 0,\n",
    "                        n_jobs = 8)\n",
    "rando_search = clf.fit(X_train_std, y_train)"
   ]
  },
  {
   "cell_type": "code",
   "execution_count": 135,
   "metadata": {},
   "outputs": [
    {
     "name": "stdout",
     "output_type": "stream",
     "text": [
      "Best: 0.897400 using {'learning_rate': 0.15851249188207475, 'max_depth': 7, 'n_estimators': 969, 'subsample': 0.6355686250873267}\n",
      "0.000000 (0.000000) with: {'learning_rate': 0.8777024105738201, 'max_depth': 8, 'n_estimators': 966, 'subsample': 1.0418506793952316}\n",
      "0.876483 (0.005429) with: {'learning_rate': 1.0657491980429998, 'max_depth': 6, 'n_estimators': 1008, 'subsample': 0.708104322675581}\n",
      "0.892836 (0.008075) with: {'learning_rate': 0.7090424627612779, 'max_depth': 8, 'n_estimators': 996, 'subsample': 0.8774520102831622}\n",
      "0.874702 (0.005307) with: {'learning_rate': 0.8220182295169471, 'max_depth': 7, 'n_estimators': 1025, 'subsample': 0.5686045238002615}\n",
      "0.897400 (0.006629) with: {'learning_rate': 0.15851249188207475, 'max_depth': 7, 'n_estimators': 969, 'subsample': 0.6355686250873267}\n",
      "0.879413 (0.004751) with: {'learning_rate': 0.7798479515780969, 'max_depth': 7, 'n_estimators': 968, 'subsample': 0.6128230936372427}\n",
      "0.000000 (0.000000) with: {'learning_rate': 0.10941277008096942, 'max_depth': 6, 'n_estimators': 1008, 'subsample': 1.1541847635103892}\n",
      "0.895333 (0.005403) with: {'learning_rate': 0.3178990091316889, 'max_depth': 7, 'n_estimators': 1001, 'subsample': 0.8619892743123776}\n",
      "0.000000 (0.000000) with: {'learning_rate': 0.7897781389193906, 'max_depth': 6, 'n_estimators': 995, 'subsample': 1.008903194009658}\n",
      "0.892438 (0.005659) with: {'learning_rate': 0.62584385732443, 'max_depth': 8, 'n_estimators': 956, 'subsample': 0.890809801137262}\n",
      "0.000000 (0.000000) with: {'learning_rate': 0.6092622000835182, 'max_depth': 8, 'n_estimators': 988, 'subsample': 1.1600167304379596}\n",
      "0.896880 (0.005598) with: {'learning_rate': 0.1000120335694851, 'max_depth': 6, 'n_estimators': 972, 'subsample': 0.5921238448080418}\n",
      "0.895538 (0.005419) with: {'learning_rate': 0.37699635638380946, 'max_depth': 7, 'n_estimators': 950, 'subsample': 0.9179197104277321}\n",
      "0.892463 (0.005286) with: {'learning_rate': 0.4002188686883882, 'max_depth': 7, 'n_estimators': 1049, 'subsample': 0.6413999623347595}\n",
      "0.862000 (0.005816) with: {'learning_rate': 0.704538828631711, 'max_depth': 6, 'n_estimators': 987, 'subsample': 0.36112574711497303}\n",
      "0.889304 (0.006471) with: {'learning_rate': 0.7860850791873134, 'max_depth': 7, 'n_estimators': 1015, 'subsample': 0.7472112811273179}\n",
      "0.000000 (0.000000) with: {'learning_rate': 0.8143701184210114, 'max_depth': 6, 'n_estimators': 976, 'subsample': 1.1935114810868728}\n",
      "0.896914 (0.004281) with: {'learning_rate': 0.277719650269337, 'max_depth': 8, 'n_estimators': 1047, 'subsample': 0.8119967273009043}\n",
      "0.885294 (0.005854) with: {'learning_rate': 0.6566320514344026, 'max_depth': 6, 'n_estimators': 998, 'subsample': 0.6647875434283183}\n",
      "0.895389 (0.006023) with: {'learning_rate': 0.24487098904632512, 'max_depth': 6, 'n_estimators': 1041, 'subsample': 0.7415761233586448}\n",
      "0.000000 (0.000000) with: {'learning_rate': 0.8120243742497533, 'max_depth': 7, 'n_estimators': 966, 'subsample': 1.1914249583788366}\n",
      "0.889886 (0.002523) with: {'learning_rate': 0.2896892556042433, 'max_depth': 8, 'n_estimators': 1016, 'subsample': 0.5039290892094855}\n",
      "0.867077 (0.003266) with: {'learning_rate': 0.9724318623454284, 'max_depth': 6, 'n_estimators': 989, 'subsample': 0.5127421441375383}\n",
      "0.000000 (0.000000) with: {'learning_rate': 0.6953992453523792, 'max_depth': 7, 'n_estimators': 978, 'subsample': 1.1630412587849674}\n",
      "0.893591 (0.003985) with: {'learning_rate': 0.5532393332235999, 'max_depth': 7, 'n_estimators': 1041, 'subsample': 0.984510909090651}\n"
     ]
    }
   ],
   "source": [
    "print(\"Best: %f using %s\" % (rando_search.best_score_, rando_search.best_params_))\n",
    "means = rando_search.cv_results_['mean_test_score']\n",
    "stds = rando_search.cv_results_['std_test_score']\n",
    "params = rando_search.cv_results_['params']\n",
    "for mean, stdev, param in zip(means, stds, params):\n",
    "    print(\"%f (%f) with: %r\" % (mean, stdev, param))"
   ]
  },
  {
   "cell_type": "code",
   "execution_count": 150,
   "metadata": {
    "scrolled": true
   },
   "outputs": [
    {
     "name": "stdout",
     "output_type": "stream",
     "text": [
      "XGBoost F1: 0.65841\n",
      "Wall time: 42.8 s\n"
     ]
    }
   ],
   "source": [
    "%%time\n",
    "XG4 = xgb.XGBClassifier(n_estimators=969, learning_rate=0.16 ,max_depth=7, subsample = 0.636, random_state=13, n_jobs=8)\n",
    "XG4.fit(X_train_std, y_train)\n",
    "XG4_pred = XG4.predict(X_test_std)\n",
    "op_score2 = metrics.f1_score(y_test, XG4_pred)\n",
    "print ('XGBoost F1: %.5f' % op_score2)"
   ]
  },
  {
   "cell_type": "code",
   "execution_count": 152,
   "metadata": {},
   "outputs": [
    {
     "name": "stdout",
     "output_type": "stream",
     "text": [
      "XGBoost F1\n",
      "Original: 0.68026\n",
      "Grid Search: 0.71165\n",
      "Random Search: 0.65841\n"
     ]
    }
   ],
   "source": [
    "print ('XGBoost F1')\n",
    "print ('Original: %.5f' % score2)\n",
    "print ('Grid Search: %.5f' % op_score)\n",
    "print ('Random Search: %.5f' % op_score2)"
   ]
  },
  {
   "cell_type": "markdown",
   "metadata": {},
   "source": [
    "### 4.3. Confusion Matrix and Precision-Recall AUC"
   ]
  },
  {
   "cell_type": "code",
   "execution_count": 142,
   "metadata": {},
   "outputs": [],
   "source": [
    "cm0 = metrics.confusion_matrix(y_test, XG_pred)\n",
    "cm1 = metrics.confusion_matrix(y_test, XG3_pred)\n",
    "cm2 = metrics.confusion_matrix(y_test, XG4_pred)"
   ]
  },
  {
   "cell_type": "code",
   "execution_count": 149,
   "metadata": {
    "scrolled": false
   },
   "outputs": [
    {
     "data": {
      "text/plain": [
       "Text(0.5, 1.0, 'Optimized XGBoost (tuned by Random Search)')"
      ]
     },
     "execution_count": 149,
     "metadata": {},
     "output_type": "execute_result"
    },
    {
     "data": {
      "image/png": "[encoded data removed]",
      "text/plain": [
       "<Figure size 640x480 with 2 Axes>"
      ]
     },
     "metadata": {},
     "output_type": "display_data"
    },
    {
     "data": {
      "image/png": "[encoded data removed]",
      "text/plain": [
       "<Figure size 640x480 with 2 Axes>"
      ]
     },
     "metadata": {},
     "output_type": "display_data"
    },
    {
     "data": {
      "image/png": "[encoded data removed]",
      "text/plain": [
       "<Figure size 640x480 with 2 Axes>"
      ]
     },
     "metadata": {},
     "output_type": "display_data"
    }
   ],
   "source": [
    "cm0_display = metrics.ConfusionMatrixDisplay(cm0).plot()\n",
    "cm0_display.ax_.set_title('Original XGBoost')\n",
    "cm1_display = metrics.ConfusionMatrixDisplay(cm1).plot()\n",
    "cm1_display.ax_.set_title('Optimized XGBoost (tuned by Grid Search)')\n",
    "cm2_display = metrics.ConfusionMatrixDisplay(cm2).plot()\n",
    "cm2_display.ax_.set_title('Optimized XGBoost (tuned by Random Search)')"
   ]
  },
  {
   "cell_type": "markdown",
   "metadata": {},
   "source": [
    "#### Precision-Recall Area Under Curve "
   ]
  },
  {
   "cell_type": "code",
   "execution_count": 96,
   "metadata": {},
   "outputs": [],
   "source": [
    "from sklearn.metrics import plot_precision_recall_curve"
   ]
  },
  {
   "cell_type": "code",
   "execution_count": 151,
   "metadata": {
    "scrolled": false
   },
   "outputs": [
    {
     "data": {
      "text/plain": [
       "Text(0.5, 1.0, 'Optimized XGBoost (tuned by Random Search)')"
      ]
     },
     "execution_count": 151,
     "metadata": {},
     "output_type": "execute_result"
    },
    {
     "data": {
      "image/png": "[encoded data removed]",
      "text/plain": [
       "<Figure size 640x480 with 1 Axes>"
      ]
     },
     "metadata": {},
     "output_type": "display_data"
    },
    {
     "data": {
      "image/png": "[encoded data removed]",
      "text/plain": [
       "<Figure size 640x480 with 1 Axes>"
      ]
     },
     "metadata": {},
     "output_type": "display_data"
    },
    {
     "data": {
      "image/png": "[encoded data removed]",
      "text/plain": [
       "<Figure size 640x480 with 1 Axes>"
      ]
     },
     "metadata": {},
     "output_type": "display_data"
    }
   ],
   "source": [
    "disp0 = plot_precision_recall_curve(XG, X_test_std, y_test)\n",
    "disp0.ax_.set_title('Original XGBoost')\n",
    "disp1 = plot_precision_recall_curve(XG3, X_test_std, y_test)\n",
    "disp1.ax_.set_title('Optimized XGBoost (tuned by Grid Search)')\n",
    "disp2 = plot_precision_recall_curve(XG4, X_test_std, y_test)\n",
    "disp2.ax_.set_title('Optimized XGBoost (tuned by Random Search)')"
   ]
  },
  {
   "cell_type": "markdown",
   "metadata": {},
   "source": [
    "## 5. Takeway\n",
    "Impact to business:\n",
    "- Machine learning models can provide high accuracy fraud detection, especially by using the XGBoost algorithm.\n",
    "- High precision leads to high fraud detection rate.\n",
    "- High recall improves the user experience.\n",
    "\n",
    "Implication for future data challenge practice:\n",
    "- Model optimization and data normalization can noticeably improve the prediction results.\n",
    "- Due to the limit of computation power, cross-validation and additional fine tuning are not carried out."
   ]
  },
  {
   "cell_type": "markdown",
   "metadata": {},
   "source": [
    "### References  \n",
    "https://www.kdnuggets.com/2020/07/easy-guide-data-preprocessing-python.html  \n",
    "https://www.kaggle.com/janiobachmann/credit-fraud-dealing-with-imbalanced-datasets  \n",
    "https://www.kaggle.com/pavansanagapati/anomaly-detection-credit-card-fraud-analysis  \n",
    "https://www.kaggle.com/shahules/tackling-class-imbalance  \n",
    "https://scikit-learn.org/   \n",
    "https://machinelearningmastery.com/hyperparameters-for-classification-machine-learning-algorithms/\n",
    "\n",
    "Image source  \n",
    "https://images.unsplash.com/photo-1563013544-824ae1b704d3"
   ]
  }
 ],
 "metadata": {
  "kernelspec": {
   "display_name": "Python 3",
   "language": "python",
   "name": "python3"
  },
  "language_info": {
   "codemirror_mode": {
    "name": "ipython",
    "version": 3
   },
   "file_extension": ".py",
   "mimetype": "text/x-python",
   "name": "python",
   "nbconvert_exporter": "python",
   "pygments_lexer": "ipython3",
   "version": "3.7.1"
  }
 },
 "nbformat": 4,
 "nbformat_minor": 4
}
